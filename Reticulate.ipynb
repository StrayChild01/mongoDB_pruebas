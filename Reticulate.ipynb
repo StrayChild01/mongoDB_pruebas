{
 "cells": [
  {
   "cell_type": "markdown",
   "metadata": {},
   "source": [
    "### Reticulate\n",
    "Los dos principales lenguajes usados en la ciencia de datos son python y R. Cada uno de los lenguajes tiene algunas características que el otro no tiene, para eso se creó __reticulate__ que permite llamar python dentro de R y usarlo con sintaxis de R.\n",
    "\n",
    "Para más información, se puede consultar la [documentación](https://rstudio.github.io/reticulate/index.html)"
   ]
  },
  {
   "cell_type": "code",
   "execution_count": null,
   "metadata": {},
   "outputs": [],
   "source": [
    "library(reticulate)"
   ]
  },
  {
   "cell_type": "markdown",
   "metadata": {},
   "source": [
    "Después de importar la librería, se puede imprimir la configuración que tiene python"
   ]
  },
  {
   "cell_type": "code",
   "execution_count": null,
   "metadata": {},
   "outputs": [],
   "source": [
    "py_config()"
   ]
  },
  {
   "cell_type": "markdown",
   "metadata": {},
   "source": [
    "Por ejemplo, se importa la librería OS"
   ]
  },
  {
   "cell_type": "code",
   "execution_count": null,
   "metadata": {},
   "outputs": [],
   "source": [
    "os <- import(\"os\")\n",
    "os$chdir(\"/home/pi\")\n",
    "os$getcwd()"
   ]
  },
  {
   "cell_type": "markdown",
   "metadata": {},
   "source": [
    "O una de las más famosas: _numpy_"
   ]
  },
  {
   "cell_type": "code",
   "execution_count": null,
   "metadata": {},
   "outputs": [],
   "source": [
    "np <- import(\"numpy\", convert = FALSE)\n",
    "\n",
    "# do some array manipulations with NumPy\n",
    "a <- np$array(c(1:4))\n",
    "suma <- a$cumsum()\n",
    "print(a)\n",
    "# convert to R explicitly at the end\n",
    "py_to_r(suma)"
   ]
  },
  {
   "cell_type": "markdown",
   "metadata": {},
   "source": [
    "También se puede hacer uso de los ambientes virtuales:"
   ]
  },
  {
   "cell_type": "code",
   "execution_count": 1,
   "metadata": {},
   "outputs": [
    {
     "data": {
      "text/plain": [
       "python:         /home/pi/proyecto_20/bin/python\n",
       "libpython:      /usr/lib/python3.5/config-3.5m-arm-linux-gnueabihf/libpython3.5.so\n",
       "pythonhome:     /usr:/usr\n",
       "virtualenv:     /home/pi/proyecto_20/bin/activate_this.py\n",
       "version:        3.5.3 (default, Jan 19 2017, 14:11:04)  [GCC 6.3.0 20170124]\n",
       "numpy:           [NOT FOUND]\n",
       "\n",
       "NOTE: Python version was forced by use_python function"
      ]
     },
     "metadata": {},
     "output_type": "display_data"
    }
   ],
   "source": [
    "library(reticulate)\n",
    "use_virtualenv(\"/home/pi/proyecto_20\", required  = TRUE)\n",
    "py_config()"
   ]
  },
  {
   "cell_type": "code",
   "execution_count": 2,
   "metadata": {},
   "outputs": [
    {
     "name": "stdout",
     "output_type": "stream",
     "text": [
      "[1 2 3 4]\n"
     ]
    },
    {
     "data": {
      "text/plain": [
       "[ 1  3  6 10]"
      ]
     },
     "metadata": {},
     "output_type": "display_data"
    }
   ],
   "source": [
    "np <- import(\"numpy\", convert = FALSE)\n",
    "\n",
    "# do some array manipulations with NumPy\n",
    "a <- np$array(c(1:4))\n",
    "suma <- a$cumsum()\n",
    "print(a)\n",
    "# convert to R explicitly at the end\n",
    "py_to_r(suma)"
   ]
  },
  {
   "cell_type": "code",
   "execution_count": null,
   "metadata": {},
   "outputs": [],
   "source": []
  },
  {
   "cell_type": "code",
   "execution_count": 3,
   "metadata": {},
   "outputs": [
    {
     "name": "stderr",
     "output_type": "stream",
     "text": [
      "Python 3.5.3 (/home/pi/proyecto_20/bin/python)\n",
      "Reticulate 1.10 REPL -- A Python interpreter in R.\n"
     ]
    }
   ],
   "source": []
  }
 ],
 "metadata": {
  "kernelspec": {
   "display_name": "R",
   "language": "R",
   "name": "ir"
  },
  "language_info": {
   "codemirror_mode": "r",
   "file_extension": ".r",
   "mimetype": "text/x-r-source",
   "name": "R",
   "pygments_lexer": "r",
   "version": "3.3.3"
  }
 },
 "nbformat": 4,
 "nbformat_minor": 2
}
