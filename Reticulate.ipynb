{
 "cells": [
  {
   "cell_type": "markdown",
   "metadata": {},
   "source": [
    "### Reticulate\n",
    "Los dos principales lenguajes usados en la ciencia de datos son python y R. Cada uno de los lenguajes tiene algunas características que el otro no tiene, para eso se creó __reticulate__ que permite llamar python dentro de R y usarlo con sintaxis de R.\n",
    "\n",
    "Para más información, se puede consultar la [documentación](https://rstudio.github.io/reticulate/index.html)"
   ]
  },
  {
   "cell_type": "code",
   "execution_count": null,
   "metadata": {},
   "outputs": [],
   "source": [
    "library(reticulate)"
   ]
  },
  {
   "cell_type": "markdown",
   "metadata": {},
   "source": [
    "Después de importar la librería, se puede imprimir la configuración que tiene python"
   ]
  },
  {
   "cell_type": "code",
   "execution_count": null,
   "metadata": {},
   "outputs": [],
   "source": [
    "py_config()"
   ]
  },
  {
   "cell_type": "markdown",
   "metadata": {},
   "source": [
    "Por ejemplo, se importa la librería OS"
   ]
  },
  {
   "cell_type": "code",
   "execution_count": null,
   "metadata": {},
   "outputs": [],
   "source": [
    "os <- import(\"os\")\n",
    "os$chdir(\"/home/pi\")\n",
    "os$getcwd()"
   ]
  },
  {
   "cell_type": "markdown",
   "metadata": {},
   "source": [
    "O una de las más famosas: _numpy_"
   ]
  },
  {
   "cell_type": "code",
   "execution_count": null,
   "metadata": {},
   "outputs": [],
   "source": [
    "np <- import(\"numpy\", convert = FALSE)\n",
    "\n",
    "# do some array manipulations with NumPy\n",
    "a <- np$array(c(1:4))\n",
    "suma <- a$cumsum()\n",
    "print(a)\n",
    "# convert to R explicitly at the end\n",
    "py_to_r(suma)"
   ]
  },
  {
   "cell_type": "markdown",
   "metadata": {},
   "source": [
    "También se puede hacer uso de los ambientes virtuales:"
   ]
  },
  {
   "cell_type": "code",
   "execution_count": null,
   "metadata": {},
   "outputs": [],
   "source": [
    "library(reticulate)\n",
    "use_virtualenv(\"/home/pi/proyecto_20\", required  = TRUE)\n",
    "py_config()"
   ]
  }
 ],
 "metadata": {
  "kernelspec": {
   "display_name": "R",
   "language": "R",
   "name": "ir"
  },
  "language_info": {
   "codemirror_mode": "r",
   "file_extension": ".r",
   "mimetype": "text/x-r-source",
   "name": "R",
   "pygments_lexer": "r",
   "version": "3.3.3"
  }
 },
 "nbformat": 4,
 "nbformat_minor": 2
}
