{
 "cells": [
  {
   "cell_type": "markdown",
   "metadata": {},
   "source": [
    "# Tarea Unidad 5 - Actividad 2\n",
    "Los siguientes datos corresponden a  edad, nivel de colesterol, índice de masa  corporal y presión diastólita de 35 pacientes de un servicio hospitalario:\n",
    "\n",
    "| Edad | Colesterol | IMC   | Presión |\n",
    "|------|------------|-------|---------|\n",
    "| 42   | 282        | 31.64 | 97      |\n",
    "| 64   | 235        | 30.80 | 90      |\n",
    "| 47   | 200        | 25.61 | 80      |\n",
    "| 56   | 200        | 26.17 | 75      |\n",
    "| 54   | 300        | 31.96 | 100     |\n",
    "| 48   | 215        | 23.18 | 67      |\n",
    "| 57   | 216        | 21.19 | 80      |\n",
    "| 52   | 254        | 26.95 | 70      |\n",
    "| 67   | 310        | 24.26 | 105     |\n",
    "| 46   | 237        | 21.87 | 70      |\n",
    "| 58   | 220        | 25.61 | 70      |\n",
    "| 62   | 233        | 27.92 | 75      |\n",
    "| 49   | 240        | 27.73 | 90      |\n",
    "| 56   | 295        | 22.49 | 95      |\n",
    "| 63   | 310        | 28.50 | 95      |\n",
    "| 64   | 268        | 30.04 | 90      |\n",
    "| 67   | 243        | 23.88 | 85      |\n",
    "| 49   | 239        | 21.99 | 75      |\n",
    "| 53   | 198        | 26.93 | 75      |\n",
    "| 59   | 218        | 27.00 | 85      |\n",
    "| 65   | 215        | 24.04 | 70      |\n",
    "| 67   | 254        | 28.65 | 105     |\n",
    "| 49   | 218        | 25.71 | 85      |\n",
    "| 53   | 221        | 25.33 | 80      |\n",
    "| 57   | 237        | 25.42 | 90      |\n",
    "| 47   | 244        | 23.99 | 85      |\n",
    "| 58   | 223        | 25.23 | 70      |\n",
    "| 48   | 198        | 25.81 | 85      |\n",
    "| 51   | 234        | 26.93 | 80      |\n",
    "| 49   | 175        | 27.77 | 80      |\n",
    "| 68   | 230        | 30.85 | 70      |"
   ]
  },
  {
   "cell_type": "markdown",
   "metadata": {},
   "source": [
    "cont.\n",
    "\n",
    "| Edad | Colesterol | IMC   | Presión |\n",
    "|------|------------|-------|---------|\n",
    "| 58   | 248        | 21.61 | 75      |\n",
    "| 54   | 218        | 26.3  | 95      |\n",
    "| 59   | 285        | 31.44 | 100     |\n",
    "| 45   | 253        | 25    | 75      |"
   ]
  },
  {
   "cell_type": "markdown",
   "metadata": {},
   "source": [
    "1. Determine el modelo de Regresión Lineal Múltiple."
   ]
  },
  {
   "cell_type": "code",
   "execution_count": 2,
   "metadata": {},
   "outputs": [
    {
     "data": {
      "text/html": [
       "<dl class=dl-horizontal>\n",
       "\t<dt>(Intercept)</dt>\n",
       "\t\t<dd>10.7458658882284</dd>\n",
       "\t<dt>colesterol</dt>\n",
       "\t\t<dd>0.180475119410931</dd>\n",
       "\t<dt>imc</dt>\n",
       "\t\t<dd>1.0462012095879</dd>\n",
       "\t<dt>edad</dt>\n",
       "\t\t<dd>0.0338711861623936</dd>\n",
       "</dl>\n"
      ],
      "text/latex": [
       "\\begin{description*}\n",
       "\\item[(Intercept)] 10.7458658882284\n",
       "\\item[colesterol] 0.180475119410931\n",
       "\\item[imc] 1.0462012095879\n",
       "\\item[edad] 0.0338711861623936\n",
       "\\end{description*}\n"
      ],
      "text/markdown": [
       "(Intercept)\n",
       ":   10.7458658882284colesterol\n",
       ":   0.180475119410931imc\n",
       ":   1.0462012095879edad\n",
       ":   0.0338711861623936\n",
       "\n"
      ],
      "text/plain": [
       "(Intercept)  colesterol         imc        edad \n",
       "10.74586589  0.18047512  1.04620121  0.03387119 "
      ]
     },
     "metadata": {},
     "output_type": "display_data"
    }
   ],
   "source": [
    "edad <- c(42, 64, 47, 56, 54, 48, 57, 52, 67, 46, 58, 62, 49, 56, 63, 64, 67, 49, 53, 59, 65, 67, 49, 53, 57, 47, 58, 48, 51, 49, 68, 58, 54, 59, 45)\n",
    "colesterol <- c(282, 235, 200, 200, 300, 215, 216, 254, 310, 237, 220, 233, 240, 295, 310, 268, 243, 239, 198, 218, 215, 254, 218, 221, 237, 244, 223, 198, 234, 175, 230, 248, 218, 285, 253)\n",
    "imc <- c(31.64, 30.80, 25.61, 26.17, 31.96, 23.18, 21.19, 26.95, 24.26, 21.87, 25.61, 27.92, 27.73, 22.49, 28.50, 30.04, 23.88, 21.99, 26.93, 27.00, 24.04, 28.65, 25.71, 25.33, 25.42, 23.99, 25.23, 25.81, 26.93, 27.77, 30.85, 21.61, 26.3, 31.44, 25)\n",
    "presion <- c(97, 90, 80, 75, 100, 67, 80, 70, 105, 70, 70, 75, 90, 95, 95, 90, 85, 75, 75, 85, 70, 105, 85, 80, 90, 85, 70, 85, 80, 80, 70, 75, 95, 100, 75)\n",
    "\n",
    "pacientes <- data.frame(\n",
    "    edad,\n",
    "    colesterol,\n",
    "    imc,\n",
    "    presion\n",
    ")\n",
    "\n",
    "ml.pacientes <- lm(presion ~ colesterol + imc + edad, data=pacientes)\n",
    "ml.pacientes$coefficients"
   ]
  },
  {
   "cell_type": "markdown",
   "metadata": {},
   "source": [
    "De lo anterior se obtiene la recta:\n",
    "\n",
    "$ \\widehat{y} = 10.7458658882284 + 0.180475119410931x_{1} + 1.0462012095879x_{2} + 0.0338711861623936x_3 $"
   ]
  },
  {
   "cell_type": "markdown",
   "metadata": {},
   "source": [
    "2.- Determine el coeficiente de determinación ajustado."
   ]
  },
  {
   "cell_type": "code",
   "execution_count": 2,
   "metadata": {},
   "outputs": [
    {
     "data": {
      "text/html": [
       "0.410915728950569"
      ],
      "text/latex": [
       "0.410915728950569"
      ],
      "text/markdown": [
       "0.410915728950569"
      ],
      "text/plain": [
       "[1] 0.4109157"
      ]
     },
     "metadata": {},
     "output_type": "display_data"
    }
   ],
   "source": [
    "sum_ml.pacientes <- summary(ml.pacientes)\n",
    "coef_det_aj <- sum_ml.pacientes$adj.r.squared\n",
    "coef_det_aj"
   ]
  },
  {
   "cell_type": "markdown",
   "metadata": {},
   "source": [
    "De lo anterior, se obtiene que $R^2 = 0.410915728950569 $ lo cual nos dice que el 41% de la variación puede ser explicada por el modelo."
   ]
  },
  {
   "cell_type": "markdown",
   "metadata": {},
   "source": [
    "3.- Determine cuáles de las variables (edad, colesterol e índice de masa corporal) sirven para explicar el valor de la presión diastólica."
   ]
  },
  {
   "cell_type": "code",
   "execution_count": 3,
   "metadata": {},
   "outputs": [
    {
     "data": {
      "text/html": [
       "<table>\n",
       "<thead><tr><th></th><th scope=col>Estimate</th><th scope=col>Std. Error</th><th scope=col>t value</th><th scope=col>Pr(&gt;|t|)</th></tr></thead>\n",
       "<tbody>\n",
       "\t<tr><th scope=row>(Intercept)</th><td>10.74586589 </td><td>16.58335632 </td><td>0.6479910   </td><td>0.5217616232</td></tr>\n",
       "\t<tr><th scope=row>colesterol</th><td> 0.18047512 </td><td> 0.04624793 </td><td>3.9023391   </td><td>0.0004788717</td></tr>\n",
       "\t<tr><th scope=row>imc</th><td> 1.04620121 </td><td> 0.50859357 </td><td>2.0570477   </td><td>0.0481788646</td></tr>\n",
       "\t<tr><th scope=row>edad</th><td> 0.03387119 </td><td> 0.20727501 </td><td>0.1634118   </td><td>0.8712548948</td></tr>\n",
       "</tbody>\n",
       "</table>\n"
      ],
      "text/latex": [
       "\\begin{tabular}{r|llll}\n",
       "  & Estimate & Std. Error & t value & Pr(>\\textbar{}t\\textbar{})\\\\\n",
       "\\hline\n",
       "\t(Intercept) & 10.74586589  & 16.58335632  & 0.6479910    & 0.5217616232\\\\\n",
       "\tcolesterol &  0.18047512  &  0.04624793  & 3.9023391    & 0.0004788717\\\\\n",
       "\timc &  1.04620121  &  0.50859357  & 2.0570477    & 0.0481788646\\\\\n",
       "\tedad &  0.03387119  &  0.20727501  & 0.1634118    & 0.8712548948\\\\\n",
       "\\end{tabular}\n"
      ],
      "text/markdown": [
       "\n",
       "| <!--/--> | Estimate | Std. Error | t value | Pr(>|t|) | \n",
       "|---|---|---|---|\n",
       "| (Intercept) | 10.74586589  | 16.58335632  | 0.6479910    | 0.5217616232 | \n",
       "| colesterol |  0.18047512  |  0.04624793  | 3.9023391    | 0.0004788717 | \n",
       "| imc |  1.04620121  |  0.50859357  | 2.0570477    | 0.0481788646 | \n",
       "| edad |  0.03387119  |  0.20727501  | 0.1634118    | 0.8712548948 | \n",
       "\n",
       "\n"
      ],
      "text/plain": [
       "            Estimate    Std. Error  t value   Pr(>|t|)    \n",
       "(Intercept) 10.74586589 16.58335632 0.6479910 0.5217616232\n",
       "colesterol   0.18047512  0.04624793 3.9023391 0.0004788717\n",
       "imc          1.04620121  0.50859357 2.0570477 0.0481788646\n",
       "edad         0.03387119  0.20727501 0.1634118 0.8712548948"
      ]
     },
     "metadata": {},
     "output_type": "display_data"
    }
   ],
   "source": [
    "sum_ml.pacientes$coefficients"
   ]
  },
  {
   "cell_type": "code",
   "execution_count": 4,
   "metadata": {},
   "outputs": [
    {
     "data": {
      "text/html": [
       "<ol class=list-inline>\n",
       "\t<li>-2.03951344639641</li>\n",
       "\t<li>2.03951344639641</li>\n",
       "</ol>\n"
      ],
      "text/latex": [
       "\\begin{enumerate*}\n",
       "\\item -2.03951344639641\n",
       "\\item 2.03951344639641\n",
       "\\end{enumerate*}\n"
      ],
      "text/markdown": [
       "1. -2.03951344639641\n",
       "2. 2.03951344639641\n",
       "\n",
       "\n"
      ],
      "text/plain": [
       "[1] -2.039513  2.039513"
      ]
     },
     "metadata": {},
     "output_type": "display_data"
    }
   ],
   "source": [
    "n <- nrow(pacientes)\n",
    "t_tabla <- qt(c(.025, .975), n-4)\n",
    "t_tabla"
   ]
  },
  {
   "cell_type": "markdown",
   "metadata": {},
   "source": [
    "De lo anterior, obtenemos el valor de tablas de $ t_{[\\frac{\\alpha}{2}, n-(k+1)]} $ quedando el intervalo:\n",
    "\n",
    "$(-2.03951344639641, 2.03951344639641)$"
   ]
  },
  {
   "cell_type": "markdown",
   "metadata": {},
   "source": [
    "Analizando los valores de t se obtiene lo siguiente:\n",
    "\n",
    "Para la constante:\n",
    "\n",
    "$ H_{0}: \\beta_{0} = 0 \\implies \\text{La ordenada al origen es 0} $\n",
    "\n",
    "$ H_{1}: \\beta_{0} \\neq 0 \\implies \\text{La ordenada al origen}\\textbf{ no}\\text{ es 0}$\n",
    "\n",
    "0.6479910 está _dentro_ del intervalo de t, por tanto <b>no</b> se rechaza la hipótesis nula y concluimos que la ordenada al origen es 0."
   ]
  },
  {
   "cell_type": "markdown",
   "metadata": {},
   "source": [
    "Para $x_{1}$:\n",
    "\n",
    "$ H_{0}: \\beta_{1} = 0 \\implies \\text{El valor de y es independiente del valor de } x_{1} $\n",
    "\n",
    "$ H_{1}: \\beta_{1} \\neq 0 \\implies \\text{El valor de y es dependiente del valor de } x_{1}$\n",
    "\n",
    "3.9023391 está _fuera_ del intervalo de t, por tanto se rechaza la hipótesis nula y concluimos que la variable $x_{1}$ es buena predictora."
   ]
  },
  {
   "cell_type": "markdown",
   "metadata": {},
   "source": [
    "Para $x_{2}$:\n",
    "\n",
    "$ H_{0}: \\beta_{1} = 0 \\implies \\text{El valor de y es independiente del valor de } x_{2} $\n",
    "\n",
    "$ H_{1}: \\beta_{1} \\neq 0 \\implies \\text{El valor de y es dependiente del valor de } x_{2}$\n",
    "\n",
    "2.0570477 está _fuera_ del intervalo de t, por tanto se rechaza la hipótesis nula y concluimos que la variable $x_{2}$ es buena predictora."
   ]
  },
  {
   "cell_type": "markdown",
   "metadata": {},
   "source": [
    "Para $x_{3}$:\n",
    "\n",
    "$ H_{0}: \\beta_{1} = 0 \\implies \\text{El valor de y es independiente del valor de } x_{3} $\n",
    "\n",
    "$ H_{1}: \\beta_{1} \\neq 0 \\implies \\text{El valor de y es dependiente del valor de } x_{3}$\n",
    "\n",
    "0.1634118 está _dentro_ del intervalo de t, por tanto no rechaza la hipótesis nula y concluimos que la variable $x_{3}$ no es buena predictora."
   ]
  },
  {
   "cell_type": "markdown",
   "metadata": {},
   "source": [
    "### Probando el nuevo modelo _sin_ la variable _edad_"
   ]
  },
  {
   "cell_type": "code",
   "execution_count": 6,
   "metadata": {},
   "outputs": [
    {
     "data": {
      "text/html": [
       "<dl class=dl-horizontal>\n",
       "\t<dt>(Intercept)</dt>\n",
       "\t\t<dd>41.8892151116178</dd>\n",
       "\t<dt>imc</dt>\n",
       "\t\t<dd>1.574122060332</dd>\n",
       "</dl>\n"
      ],
      "text/latex": [
       "\\begin{description*}\n",
       "\\item[(Intercept)] 41.8892151116178\n",
       "\\item[imc] 1.574122060332\n",
       "\\end{description*}\n"
      ],
      "text/markdown": [
       "(Intercept)\n",
       ":   41.8892151116178imc\n",
       ":   1.574122060332\n",
       "\n"
      ],
      "text/plain": [
       "(Intercept)         imc \n",
       "  41.889215    1.574122 "
      ]
     },
     "metadata": {},
     "output_type": "display_data"
    }
   ],
   "source": [
    "ml2.pacientes <- lm(presion ~ imc, data=pacientes[,2:4])\n",
    "ml2.pacientes$coefficients"
   ]
  },
  {
   "cell_type": "markdown",
   "metadata": {},
   "source": [
    "De lo anterior se obtiene la recta:\n",
    "\n",
    "$ \\widehat{y} = 11.9434433052844 + 0.182107800746217x_{1} + 1.05725769001108x_{2} $"
   ]
  },
  {
   "cell_type": "code",
   "execution_count": 7,
   "metadata": {},
   "outputs": [
    {
     "data": {
      "text/html": [
       "0.155810181799187"
      ],
      "text/latex": [
       "0.155810181799187"
      ],
      "text/markdown": [
       "0.155810181799187"
      ],
      "text/plain": [
       "[1] 0.1558102"
      ]
     },
     "metadata": {},
     "output_type": "display_data"
    }
   ],
   "source": [
    "sum_ml2.pacientes <- summary(ml2.pacientes)\n",
    "coef_det_aj <- sum_ml2.pacientes$adj.r.squared\n",
    "coef_det_aj"
   ]
  },
  {
   "cell_type": "markdown",
   "metadata": {},
   "source": [
    "De lo anterior, se obtiene que $R^2 = 0.428833032223359 $ lo cual nos dice que $\\approx43\\%$ de la variación puede ser explicada por el nuevo modelo."
   ]
  }
 ],
 "metadata": {
  "kernelspec": {
   "display_name": "R",
   "language": "R",
   "name": "ir"
  },
  "language_info": {
   "codemirror_mode": "r",
   "file_extension": ".r",
   "mimetype": "text/x-r-source",
   "name": "R",
   "pygments_lexer": "r",
   "version": "3.3.3"
  }
 },
 "nbformat": 4,
 "nbformat_minor": 2
}
