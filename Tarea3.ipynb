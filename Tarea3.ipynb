{
 "cells": [
  {
   "cell_type": "markdown",
   "metadata": {},
   "source": [
    "# Tarea 3\n",
    "\n",
    "### Ejercicio 1\n",
    "\n",
    "El gremio que agrupa a los obreros de establecimientos industriales relacionados con Alimentación y Bebidas, después de llevar a cabo una investigación llega a la conclusión de que el sueldo promedio pagado por las empresas del sector, es de \\\\$ 25 la hora con una desviación estándar de \\\\$ 3. Una empresa cervecera belga se ha instalado en el país desde hace 3 meses, contratando a 120 obreros. Por averiguaciones realizadas dentro de la planta se conoce que el sueldo promedio pagado es de \\\\$ 30 la hora. ¿Podrán sostener los afiliados al gremio que el sueldo promedio que paga la empresa belga es superior al negociado por el sector industrial correspondiente?"
   ]
  },
  {
   "cell_type": "code",
   "execution_count": 1,
   "metadata": {},
   "outputs": [
    {
     "name": "stdout",
     "output_type": "stream",
     "text": [
      "[1] \"H0: x_barra <= <U+03BC> Sueldo empresa belga es <= al sector industrial\"\n",
      "[1] \"H1: x_barra > <U+03BC> Sueldo empresa belga es > al sector industrial\"\n",
      "[1] \"El z de tablas es:  1.64485362695147\"\n",
      "[1] \"El z calculado es:  18.2574185835055\"\n",
      "[1] \"H0 se rechaza\"\n",
      "[1] \"Hay evidencia estadisticamente significativa como para rechazar la hipótesis nula\"\n",
      "[1] \"Por tanto se puede afirmar que la empresa belga paga mejor otras empresas del sector\"\n"
     ]
    }
   ],
   "source": [
    "mu <- 25 #μ\n",
    "S <- 3 #σ\n",
    "n <- 120\n",
    "x_barra <- 30\n",
    "\n",
    "H0 <- \"x_barra <= μ\" # Sueldo empresa belga es <= al sector industrial\n",
    "print(\"H0: x_barra <= μ Sueldo empresa belga es <= al sector industrial\")\n",
    "\n",
    "H1 <- \"x_barra > μ\" #Sueldo empresa belga es > al sector industrial\n",
    "print(\"H1: x_barra > μ Sueldo empresa belga es > al sector industrial\")\n",
    "\n",
    "# Usando un intervalo de confianza del 95%\n",
    "z_tabla <- qnorm(.95)\n",
    "print(paste(\"El z de tablas es: \", z_tabla))\n",
    "z_calculado <- ( x_barra - mu ) / ( S / sqrt(n) )\n",
    "print(paste(\"El z calculado es: \", z_calculado))\n",
    "\n",
    "if (z_calculado > z_tabla){\n",
    "    print(\"H0 se rechaza\")\n",
    "    print(\"Hay evidencia estadisticamente significativa como para rechazar la hipótesis nula\")\n",
    "    print(\"Por tanto se puede afirmar que la empresa belga paga mejor otras empresas del sector\")    \n",
    "}"
   ]
  },
  {
   "cell_type": "markdown",
   "metadata": {},
   "source": [
    "### Ejercicio 2\n",
    "\n",
    "Una empresa que fabrica automóviles, trabaja en un modelo en el que la especificación de los frenos expresa que la distancia requerida para parar cuando el auto marcha a una velocidad de 160 Km. por hora, es de 10 metros. El Departamento de Investigación y Desarrollo ha efectuado una innovación en el sistema de frenos de dicho modelo y establece que la nueva distancia requerida para frenar es menor que la que se venía especificando. Para corroborar esta aseveración, se toma una muestra de 10 automóviles a los cuales se les coloca el nuevo sistema de frenos. Se los lleva a la sección de pruebas donde se los hace marchar a 160 Km. por hora, registrándose para cada auto la distancia requerida para parar luego de aplicar el freno a fondo.\n",
    "\n",
    "Los resultados obtenidos fueron:\n",
    "\n",
    "| Auto No. | Distancia |\n",
    "|:--------:|:---------:|\n",
    "|     1    |     7     |\n",
    "|     2    |     5     |\n",
    "|     3    |     6     |\n",
    "|     4    |     5     |\n",
    "|     5    |     6     |\n",
    "|     6    |     9     |\n",
    "|     7    |     8     |\n",
    "|     8    |     8     |\n",
    "|     9    |     7     |\n",
    "|    10    |     9     |\n",
    "\n",
    "¿Qué puede decir de la aseveración del Departamento de Investigación y Desarrollo, en base a la evidencia presentada por la prueba del nuevo dispositivo de frenos? "
   ]
  },
  {
   "cell_type": "code",
   "execution_count": 2,
   "metadata": {},
   "outputs": [
    {
     "name": "stdout",
     "output_type": "stream",
     "text": [
      "[1] \"H0: x_barra <= <U+03BC> Distancia frenado >= al dispositivo previo\"\n",
      "[1] \"H1: x_barra > <U+03BC> Distancia frenado es > al dispositivo previo\"\n",
      "[1] \"El t de tablas es:  -1.83311293265624\"\n",
      "[1] \"El t calculado es:  -6.03738353924943\"\n",
      "[1] \"H0 se rechaza\"\n",
      "[1] \"Hay evidencia estadisticamente significativa como para rechazar la hipótesis nula\"\n",
      "[1] \"Por tanto se puede afirmar que el nuevo dispositivo reduce las distancias de frenado\"\n"
     ]
    }
   ],
   "source": [
    "mu <- 10\n",
    "todas_distancias <- c(7, 5, 6, 5, 6, 9, 8, 8, 7, 9)\n",
    "x_barra <- mean(todas_distancias)\n",
    "s <- sd(todas_distancias)\n",
    "n <- length(todas_distancias)\n",
    "\n",
    "H0 <- \"x_barra >= μ\" # La prueba del departamento de investigación muestra que el nuevo dispositivo no es \n",
    "# mejor que el anterior\n",
    "print(\"H0: x_barra <= μ Distancia frenado >= al dispositivo previo\")\n",
    "\n",
    "H1 <- \"x_barra < μ\" #Distancia frenado es > al sector industrial\n",
    "print(\"H1: x_barra > μ Distancia frenado es > al dispositivo previo\")\n",
    "\n",
    "t_tabla <- qt(.05, df = n-1)\n",
    "print(paste(\"El t de tablas es: \", t_tabla))\n",
    "t_calculado <- ( x_barra - mu ) / ( s / sqrt(n-1) )\n",
    "print(paste(\"El t calculado es: \", t_calculado))\n",
    "\n",
    "if (t_calculado < t_tabla){\n",
    "    print(\"H0 se rechaza\")\n",
    "    print(\"Hay evidencia estadisticamente significativa como para rechazar la hipótesis nula\")\n",
    "    print(\"Por tanto se puede afirmar que el nuevo dispositivo reduce las distancias de frenado\")    \n",
    "}"
   ]
  },
  {
   "cell_type": "code",
   "execution_count": 9,
   "metadata": {},
   "outputs": [
    {
     "data": {
      "text/html": [
       "<table>\n",
       "<thead><tr><th scope=col>.id</th><th scope=col>N</th><th scope=col>todas_distancias</th><th scope=col>sd</th><th scope=col>se</th><th scope=col>ci</th></tr></thead>\n",
       "<tbody>\n",
       "\t<tr><td>NA       </td><td>10       </td><td>7        </td><td>1.490712 </td><td>0.4714045</td><td>1.066391 </td></tr>\n",
       "</tbody>\n",
       "</table>\n"
      ],
      "text/latex": [
       "\\begin{tabular}{r|llllll}\n",
       " .id & N & todas\\_distancias & sd & se & ci\\\\\n",
       "\\hline\n",
       "\t NA        & 10        & 7         & 1.490712  & 0.4714045 & 1.066391 \\\\\n",
       "\\end{tabular}\n"
      ],
      "text/markdown": [
       "\n",
       ".id | N | todas_distancias | sd | se | ci | \n",
       "|---|\n",
       "| NA        | 10        | 7         | 1.490712  | 0.4714045 | 1.066391  | \n",
       "\n",
       "\n"
      ],
      "text/plain": [
       "  .id N  todas_distancias sd       se        ci      \n",
       "1 NA  10 7                1.490712 0.4714045 1.066391"
      ]
     },
     "metadata": {},
     "output_type": "display_data"
    },
    {
     "data": {
      "text/plain": [
       "\n",
       "\tOne Sample t-test\n",
       "\n",
       "data:  autos$todas_distancias\n",
       "t = 14.849, df = 9, p-value = 1.232e-07\n",
       "alternative hypothesis: true mean is not equal to 0\n",
       "95 percent confidence interval:\n",
       " 5.933609 8.066391\n",
       "sample estimates:\n",
       "mean of x \n",
       "        7 \n"
      ]
     },
     "metadata": {},
     "output_type": "display_data"
    }
   ],
   "source": [
    "suppressMessages(library(Rmisc))\n",
    "x <- 1:10\n",
    "todas_distancias <- c(7, 5, 6, 5, 6, 9, 8, 8, 7, 9)\n",
    "autos <- data.frame(x, todas_distancias)\n",
    "summarySE(data=autos, measurevar = \"todas_distancias\")\n",
    "\n"
   ]
  },
  {
   "cell_type": "markdown",
   "metadata": {},
   "source": [
    "### Ejercicio 3\n",
    "\n",
    "De acuerdo a trabajos de marketing ya realizados, se piensa que el 30% de las personas que habitualmente sale a comer a restaurantes por lo menos una vez por semana, eligen un determinado comercio en función del precio de los servicios ofrecidos. Un grupo inversor desea montar una cadena de restaurantes utilizando la calidad de los alimentos ofrecidos como publicidad para penetrar en mercado. Para estar seguros de que el precio no será un factor fundamental en la competencia, encarga a una empresa de encuestas de opinión, investigar sobre el tema. \n",
    " \n",
    "La empresa decide tomar una muestra aleatoria de 100 personas que ingresan a restaurantes cuidadosamente seleccionados; una de las preguntas de la entrevista estaba referida a la importancia del precio del servicio en la elección del local. Luego de sistematizar la información obtenida en la muestra, se observó que el 38% de los encuestados consideraba al precio como el factor preponderante en la elección. ¿Convalida este resultado muestral la creencia generalizada en el marketing con respecto a las motivaciones de los concurrentes a comedores?"
   ]
  },
  {
   "cell_type": "code",
   "execution_count": 3,
   "metadata": {},
   "outputs": [
    {
     "name": "stdout",
     "output_type": "stream",
     "text": [
      "[1] \"H0: p <= P La proporción de la encuesta es menor o igual a la poporción de la población\"\n",
      "[1] \"H1: p > P La proporción de la encuesta es mayor a la poporción de la población\"\n",
      "[1] \"El z de tablas es:  1.64485362695147\"\n",
      "[1] \"El z calculado es:  1.74574312188794\"\n",
      "[1] \"H0 se rechaza\"\n",
      "[1] \"Hay evidencia estadisticamente significativa como para rechazar la hipótesis nula\"\n",
      "[1] \"Por tanto se puede afirmar que los comenzales consideran importante el precio\"\n"
     ]
    }
   ],
   "source": [
    "P <- .30\n",
    "Q <- 1-P\n",
    "n <- 100\n",
    "p <- .38\n",
    "q <- 1-p\n",
    "\n",
    "\n",
    "H0 <- \"p <= P\" # La proporción de los comenzales encuestados por la empresa que consideran el precio\n",
    "# importante es menor o igual a los comenzales entrevistados anteriormente\n",
    "print(\"H0: p <= P La proporción de la encuesta es menor o igual a la poporción de la población\")\n",
    "\n",
    "H1 <- \"p > P\" # La proporción de los comenzales encuestados por la empresa que consideran el precio\n",
    "# importante es mayor a los comenzales entrevistados anteriormente\n",
    "print(\"H1: p > P La proporción de la encuesta es mayor a la poporción de la población\")\n",
    "\n",
    "z_tabla <- qnorm(.95)\n",
    "print(paste(\"El z de tablas es: \", z_tabla))\n",
    "z_calculado <- (p - P) / sqrt ( (P * Q) / n)\n",
    "print(paste(\"El z calculado es: \", z_calculado))\n",
    "if (z_calculado > z_tabla){\n",
    "    print(\"H0 se rechaza\")\n",
    "    print(\"Hay evidencia estadisticamente significativa como para rechazar la hipótesis nula\")\n",
    "    print(\"Por tanto se puede afirmar que los comenzales consideran importante el precio\")    \n",
    "}"
   ]
  },
  {
   "cell_type": "markdown",
   "metadata": {},
   "source": [
    "### Ejercicio 4\n",
    "\n",
    "Una empresa telefónica ha realizado un estudio para ver la proporción de usuarios que se comunican a Internet a través de su línea telefónica. Para ello definió 2 estratos de clientes, los que gastan hasta \\\\$ 100 mensuales por el servicio de telefonía y los que gastan más de $ 100. En el primer estrato, compuesto por 326 usuarios, el 40% se conecta a Internet por medio de su línea telefónica y en el segundo estrato, compuesto por 136 clientes, el 59% se conectan por este medio. ¿Existe una suficiente evidencia de que la proporción de usuarios que se conectan a Internet por la línea telefónica es diferente en los dos estratos?"
   ]
  },
  {
   "cell_type": "code",
   "execution_count": 4,
   "metadata": {},
   "outputs": [
    {
     "name": "stdout",
     "output_type": "stream",
     "text": [
      "[1] \"H0: P100 - P_mas_100 = 0 Es decir que la proporción de los dos estratos es igual\"\n",
      "[1] \"H1: P100 - P_mas_100 <> 0 Es decir que la proporción de los dos estratos es diferente\"\n",
      "[1] \"El z de tablas .025 es:  -1.95996398454005\"\n",
      "[1] \"El z de tablas .975 es:  1.95996398454005\"\n",
      "[1] \"El z calculado es:  -3.77131870845143\"\n",
      "[1] \"H0 se rechaza\"\n",
      "[1] \"Hay evidencia estadisticamente significativa como para rechazar la hipótesis nula\"\n",
      "[1] \"Por se puede afirmar que las proporciones de los estratos de usuarios son iguales entre si\"\n"
     ]
    }
   ],
   "source": [
    "n_100 <- 316\n",
    "p_100 <- .40\n",
    "q_100 <- 1 - p_100\n",
    "n_mas_100 <- 136\n",
    "p_mas_100 <- .59\n",
    "q_mas_100 <- 1 - p_mas_100\n",
    "\n",
    "\n",
    "H0 <- \"P100 - P_mas_100 = 0\" # La proporción de los usuarios que se comunican por internet son iguales\n",
    "# iguales en los dos estratos\n",
    "print(\"H0: P100 - P_mas_100 = 0 Es decir que la proporción de los dos estratos es igual\")\n",
    "\n",
    "H1 <- \"P100 - P_mas_100 <> 0\" # La proporción de los usuarios que se comunican por internet NO son iguales\n",
    "# iguales en los dos estratos\n",
    "print(\"H1: P100 - P_mas_100 <> 0 Es decir que la proporción de los dos estratos es diferente\")\n",
    "\n",
    "# Como no se tienen las proporciones poblacionales, y por la hipótesis nula tenemos que las proporciones\n",
    "# son iguales, entonces P_100 - P_mas_100 = 0; además como las muestras son grandes, se supone que P = p\n",
    "\n",
    "z_tabla_menor <- qnorm(.025)\n",
    "print(paste(\"El z de tablas .025 es: \", z_tabla_menor))\n",
    "z_tabla_mayor <- qnorm(.975)\n",
    "print(paste(\"El z de tablas .975 es: \", z_tabla_mayor))\n",
    "z_calculado <-( p_100 - p_mas_100 ) / sqrt(\n",
    "            (\n",
    "                (p_100 * q_100)\n",
    "                / n_100\n",
    "            )\n",
    "            + \n",
    "            (\n",
    "                (p_mas_100 * q_mas_100) / n_mas_100\n",
    "            )\n",
    "        )\n",
    "print(paste(\"El z calculado es: \", z_calculado))\n",
    "\n",
    "if ((z_calculado < z_tabla_menor) || (z_calculado > z_tabla_mayor)) {\n",
    "    print(\"H0 se rechaza\")\n",
    "    print(\"Hay evidencia estadisticamente significativa como para rechazar la hipótesis nula\")\n",
    "    print(\"Por se puede afirmar que las proporciones de los estratos de usuarios son iguales entre si\")    \n",
    "}"
   ]
  },
  {
   "cell_type": "markdown",
   "metadata": {},
   "source": [
    "### Ejercicio 5\n",
    "\n",
    "Una agencia de publicidad desea investigar si existen diferencias en cuanto al recuerdo de un cierto anuncio publicitario, cuando se utiliza la prensa escrita y la televisión. Para ello decide seleccionar una muestra de personas y entrevistarlas. Una vez resumidos los datos de la encuesta confecciona la siguiente tabla de distribución de frecuencias:\n",
    "\n",
    "|                   -                  |      Medio     |    Medio   |\n",
    "|:------------------------------------:|:--------------:|:----------:|\n",
    "|                   -                  | Prensa Escrita | Television |\n",
    "|  Cantidad de personas que recordaron |       25       |     10     |\n",
    "|Cantidad de personas que no recordaron|       45       |     32     |\n",
    "\n",
    "\n",
    "Pruebe la hipótesis de que la proporción de personas que recordaron el anuncio cuando apareció en la prensa es la misma que la proporción de personas que lo recordaron cuando lo vieron por televisión."
   ]
  },
  {
   "cell_type": "code",
   "execution_count": 5,
   "metadata": {},
   "outputs": [
    {
     "name": "stdout",
     "output_type": "stream",
     "text": [
      "[1] \"H0: PP - PT = 0 Es decir que la proporción de los dos medios es igual\"\n",
      "[1] \"H1: PP - PT <> 0 Es decir que la proporción de los dos medios es diferente\"\n",
      "[1] \"El z de tablas .025 es:  -1.95996398454005\"\n",
      "[1] \"El z de tablas .975 es:  1.95996398454005\"\n",
      "[1] \"El z calculado es:  1.36565327993407\"\n",
      "[1] \"H0 no se rechaza\"\n",
      "[1] \"No hay evidencia estadisticamente significativa como para rechazar la hipótesis nula\"\n",
      "[1] \"Por tanto se puede afirmar que las proporciones de los dos medios son iguales\"\n"
     ]
    }
   ],
   "source": [
    "pp <- 25/70\n",
    "qp <- 1 - pp\n",
    "pt <- 10/42\n",
    "qt <- 1 - pt\n",
    "np <- 70\n",
    "nt <- 42\n",
    "\n",
    "H0 <- \"PP - PT = 0\" # La proporción de las personas que recuerdan el anuncio en TV es diferente a\n",
    "# la proporcion de las personas que recuerdan el anuncio en prensa\n",
    "print(\"H0: PP - PT = 0 Es decir que la proporción de los dos medios es igual\")\n",
    "\n",
    "H1 <- \"PP - PT <> 0\" # La proporción de las personas que recuerdan el anuncio en TV es igual a\n",
    "# la proporcion de las personas que recuerdan el anuncio en prensa\n",
    "print(\"H1: PP - PT <> 0 Es decir que la proporción de los dos medios es diferente\")\n",
    "\n",
    "# Como no se tienen las proporciones poblacionales, y por la hipótesis nula tenemos que las proporciones\n",
    "# son iguales, entonces PP - PT = 0; además como las muestras son grandes, se supone que P = p\n",
    "\n",
    "z_tabla_menor <- qnorm(.025)\n",
    "print(paste(\"El z de tablas .025 es: \", z_tabla_menor))\n",
    "z_tabla_mayor <- qnorm(.975)\n",
    "print(paste(\"El z de tablas .975 es: \", z_tabla_mayor))\n",
    "z_calculado <-( pp - pt ) / sqrt(\n",
    "            (\n",
    "                (pp * qp)/np\n",
    "            )\n",
    "            + \n",
    "            (\n",
    "                (pt * qt) / nt\n",
    "            )\n",
    "        )\n",
    "print(paste(\"El z calculado es: \", z_calculado))\n",
    "\n",
    "if ((z_calculado > z_tabla_menor) || (z_calculado < z_tabla_mayor)) {\n",
    "    print(\"H0 no se rechaza\")\n",
    "    print(\"No hay evidencia estadisticamente significativa como para rechazar la hipótesis nula\")\n",
    "    print(\"Por tanto se puede afirmar que las proporciones de los dos medios son iguales\")    \n",
    "}"
   ]
  }
 ],
 "metadata": {
  "kernelspec": {
   "display_name": "R",
   "language": "R",
   "name": "ir"
  },
  "language_info": {
   "codemirror_mode": "r",
   "file_extension": ".r",
   "mimetype": "text/x-r-source",
   "name": "R",
   "pygments_lexer": "r",
   "version": "3.3.3"
  }
 },
 "nbformat": 4,
 "nbformat_minor": 2
}
