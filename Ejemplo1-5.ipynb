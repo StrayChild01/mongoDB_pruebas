{
 "cells": [
  {
   "cell_type": "markdown",
   "metadata": {},
   "source": [
    "# Ejemplo 1, Unidad 5\n",
    "\n",
    "Los siguientes datos representan mediciones de resistencia al doblamiento y a la torsión de 12 raquetas de distintas marcas."
   ]
  },
  {
   "cell_type": "code",
   "execution_count": 1,
   "metadata": {},
   "outputs": [
    {
     "data": {
      "text/html": [
       "<table>\n",
       "<thead><tr><th scope=col>marca</th><th scope=col>resistencia_dob</th><th scope=col>resistencia_tor</th></tr></thead>\n",
       "<tbody>\n",
       "\t<tr><td>Dunlop Maxply Fort  </td><td>419                 </td><td>227                 </td></tr>\n",
       "\t<tr><td>Garcia 240          </td><td>407                 </td><td>231                 </td></tr>\n",
       "\t<tr><td>Bancroft Bjorn Borg </td><td>363                 </td><td>200                 </td></tr>\n",
       "\t<tr><td>Wilson Jack Kramer  </td><td>360                 </td><td>211                 </td></tr>\n",
       "\t<tr><td>Davis Classic       </td><td>257                 </td><td>182                 </td></tr>\n",
       "\t<tr><td>Spalding Smasher III</td><td>622                 </td><td>304                 </td></tr>\n",
       "\t<tr><td>Yonex T-7500        </td><td>424                 </td><td>384                 </td></tr>\n",
       "\t<tr><td>Prince              </td><td>359                 </td><td>194                 </td></tr>\n",
       "\t<tr><td>Wilson T-400        </td><td>346                 </td><td>158                 </td></tr>\n",
       "\t<tr><td>Yamaha YFG-30       </td><td>556                 </td><td>225                 </td></tr>\n",
       "\t<tr><td>Head Competition II </td><td>474                 </td><td>305                 </td></tr>\n",
       "\t<tr><td>Adidas Adistar      </td><td>441                 </td><td>235                 </td></tr>\n",
       "</tbody>\n",
       "</table>\n"
      ],
      "text/latex": [
       "\\begin{tabular}{r|lll}\n",
       " marca & resistencia\\_dob & resistencia\\_tor\\\\\n",
       "\\hline\n",
       "\t Dunlop Maxply Fort   & 419                  & 227                 \\\\\n",
       "\t Garcia 240           & 407                  & 231                 \\\\\n",
       "\t Bancroft Bjorn Borg  & 363                  & 200                 \\\\\n",
       "\t Wilson Jack Kramer   & 360                  & 211                 \\\\\n",
       "\t Davis Classic        & 257                  & 182                 \\\\\n",
       "\t Spalding Smasher III & 622                  & 304                 \\\\\n",
       "\t Yonex T-7500         & 424                  & 384                 \\\\\n",
       "\t Prince               & 359                  & 194                 \\\\\n",
       "\t Wilson T-400         & 346                  & 158                 \\\\\n",
       "\t Yamaha YFG-30        & 556                  & 225                 \\\\\n",
       "\t Head Competition II  & 474                  & 305                 \\\\\n",
       "\t Adidas Adistar       & 441                  & 235                 \\\\\n",
       "\\end{tabular}\n"
      ],
      "text/markdown": [
       "\n",
       "marca | resistencia_dob | resistencia_tor | \n",
       "|---|---|---|---|---|---|---|---|---|---|---|---|\n",
       "| Dunlop Maxply Fort   | 419                  | 227                  | \n",
       "| Garcia 240           | 407                  | 231                  | \n",
       "| Bancroft Bjorn Borg  | 363                  | 200                  | \n",
       "| Wilson Jack Kramer   | 360                  | 211                  | \n",
       "| Davis Classic        | 257                  | 182                  | \n",
       "| Spalding Smasher III | 622                  | 304                  | \n",
       "| Yonex T-7500         | 424                  | 384                  | \n",
       "| Prince               | 359                  | 194                  | \n",
       "| Wilson T-400         | 346                  | 158                  | \n",
       "| Yamaha YFG-30        | 556                  | 225                  | \n",
       "| Head Competition II  | 474                  | 305                  | \n",
       "| Adidas Adistar       | 441                  | 235                  | \n",
       "\n",
       "\n"
      ],
      "text/plain": [
       "   marca                resistencia_dob resistencia_tor\n",
       "1  Dunlop Maxply Fort   419             227            \n",
       "2  Garcia 240           407             231            \n",
       "3  Bancroft Bjorn Borg  363             200            \n",
       "4  Wilson Jack Kramer   360             211            \n",
       "5  Davis Classic        257             182            \n",
       "6  Spalding Smasher III 622             304            \n",
       "7  Yonex T-7500         424             384            \n",
       "8  Prince               359             194            \n",
       "9  Wilson T-400         346             158            \n",
       "10 Yamaha YFG-30        556             225            \n",
       "11 Head Competition II  474             305            \n",
       "12 Adidas Adistar       441             235            "
      ]
     },
     "metadata": {},
     "output_type": "display_data"
    },
    {
     "data": {
      "image/png": "[encoded data removed]",
      "text/plain": [
       "plot without title"
      ]
     },
     "metadata": {},
     "output_type": "display_data"
    }
   ],
   "source": [
    "#Escondemos mensajes para que no los imprima en el notebook\n",
    "suppressMessages(library(ggplot2))\n",
    "suppressMessages(library(dplyr))\n",
    "marca <- c(\n",
    "    \"Dunlop Maxply Fort\",\n",
    "    \"Garcia 240\",\n",
    "    \"Bancroft Bjorn Borg\",\n",
    "    \"Wilson Jack Kramer\",\n",
    "    \"Davis Classic\",\n",
    "    \"Spalding Smasher III\",\n",
    "    \"Yonex T-7500\",\n",
    "    \"Prince\",\n",
    "    \"Wilson T-400\",\n",
    "    \"Yamaha YFG-30\",\n",
    "    \"Head Competition II\",\n",
    "    \"Adidas Adistar\"\n",
    ")\n",
    "\n",
    "#Resistencia al doblamiento(x)\n",
    "resistencia_dob <- c(419, 407, 363, 360, 257, 622,\n",
    "                     424, 359, 346, 556, 474, 441\n",
    ")\n",
    "\n",
    "#Resistencia a la torsión(y)\n",
    "resistencia_tor <- c(227, 231, 200, 211, 182, 304,\n",
    "                     384, 194, 158, 225, 305, 235\n",
    ")\n",
    "\n",
    "mediciones <- data.frame(marca, resistencia_dob, resistencia_tor)\n",
    "mediciones\n",
    "\n",
    "mi_grafico <- mediciones %>%\n",
    "  ggplot(aes(x=resistencia_dob, y=resistencia_tor)) +\n",
    "    ggtitle(\"Resistencia por marcas\") +\n",
    "    theme(plot.title = element_text(hjust = 0.5)) + # Para centrar título de la gráfica\n",
    "    geom_point(stat=\"identity\") +\n",
    "    geom_smooth(method=\"lm\" , se = FALSE) #Esto es para agregar la línea\n",
    "    # se  = FALSE es para no mostrar el intervalo de confianza\n",
    "plot(mi_grafico)"
   ]
  },
  {
   "cell_type": "code",
   "execution_count": 2,
   "metadata": {},
   "outputs": [
    {
     "name": "stdout",
     "output_type": "stream",
     "text": [
      "[1] \"x media =  419 s_x 97.9081201943945\"\n",
      "[1] \"y media =  238 y_x 63.3561362458286\"\n"
     ]
    }
   ],
   "source": [
    "x_barra <- mean(mediciones$resistencia_dob)\n",
    "s_x <- sd(mediciones$resistencia_dob)\n",
    "y_barra <- mean(mediciones$resistencia_tor)\n",
    "s_y<- sd(mediciones$resistencia_tor)\n",
    "print(paste(\"x media = \", x_barra, \"s_x\", s_x))\n",
    "print(paste(\"y media = \", y_barra, \"y_x\", s_y))"
   ]
  },
  {
   "cell_type": "code",
   "execution_count": 3,
   "metadata": {},
   "outputs": [
    {
     "data": {
      "text/html": [
       "<table>\n",
       "<thead><tr><th></th><th scope=col>resistencia_dob</th><th scope=col>resistencia_tor</th></tr></thead>\n",
       "<tbody>\n",
       "\t<tr><th scope=row>resistencia_dob</th><td>9586</td><td>3393</td></tr>\n",
       "\t<tr><th scope=row>resistencia_tor</th><td>3393</td><td>4014</td></tr>\n",
       "</tbody>\n",
       "</table>\n"
      ],
      "text/latex": [
       "\\begin{tabular}{r|ll}\n",
       "  & resistencia\\_dob & resistencia\\_tor\\\\\n",
       "\\hline\n",
       "\tresistencia\\_dob & 9586 & 3393\\\\\n",
       "\tresistencia\\_tor & 3393 & 4014\\\\\n",
       "\\end{tabular}\n"
      ],
      "text/markdown": [
       "\n",
       "| <!--/--> | resistencia_dob | resistencia_tor | \n",
       "|---|---|\n",
       "| resistencia_dob | 9586 | 3393 | \n",
       "| resistencia_tor | 3393 | 4014 | \n",
       "\n",
       "\n"
      ],
      "text/plain": [
       "                resistencia_dob resistencia_tor\n",
       "resistencia_dob 9586            3393           \n",
       "resistencia_tor 3393            4014           "
      ]
     },
     "metadata": {},
     "output_type": "display_data"
    }
   ],
   "source": [
    "cov(mediciones[,2:3])"
   ]
  },
  {
   "cell_type": "code",
   "execution_count": 4,
   "metadata": {},
   "outputs": [
    {
     "data": {
      "text/html": [
       "<table>\n",
       "<thead><tr><th></th><th scope=col>resistencia_dob</th><th scope=col>resistencia_tor</th></tr></thead>\n",
       "<tbody>\n",
       "\t<tr><th scope=row>resistencia_dob</th><td>1.0000000</td><td>0.5469863</td></tr>\n",
       "\t<tr><th scope=row>resistencia_tor</th><td>0.5469863</td><td>1.0000000</td></tr>\n",
       "</tbody>\n",
       "</table>\n"
      ],
      "text/latex": [
       "\\begin{tabular}{r|ll}\n",
       "  & resistencia\\_dob & resistencia\\_tor\\\\\n",
       "\\hline\n",
       "\tresistencia\\_dob & 1.0000000 & 0.5469863\\\\\n",
       "\tresistencia\\_tor & 0.5469863 & 1.0000000\\\\\n",
       "\\end{tabular}\n"
      ],
      "text/markdown": [
       "\n",
       "| <!--/--> | resistencia_dob | resistencia_tor | \n",
       "|---|---|\n",
       "| resistencia_dob | 1.0000000 | 0.5469863 | \n",
       "| resistencia_tor | 0.5469863 | 1.0000000 | \n",
       "\n",
       "\n"
      ],
      "text/plain": [
       "                resistencia_dob resistencia_tor\n",
       "resistencia_dob 1.0000000       0.5469863      \n",
       "resistencia_tor 0.5469863       1.0000000      "
      ]
     },
     "metadata": {},
     "output_type": "display_data"
    },
    {
     "name": "stdout",
     "output_type": "stream",
     "text": [
      "[1] \"r = 0.546986317954248\"\n"
     ]
    }
   ],
   "source": [
    "r <- cor(mediciones[,2:3])\n",
    "r\n",
    "r <- r[1,2]\n",
    "print(paste(\"r =\", r))"
   ]
  },
  {
   "cell_type": "code",
   "execution_count": 5,
   "metadata": {
    "scrolled": true
   },
   "outputs": [
    {
     "name": "stdout",
     "output_type": "stream",
     "text": [
      "[1] \"t calculado = 2.06622478842892\"\n"
     ]
    }
   ],
   "source": [
    "n <- nrow(mediciones)      \n",
    "t_calculado <- (r * sqrt(n - 2)) / sqrt(1 - (r^2))\n",
    "print(paste(\"t calculado =\", t_calculado))"
   ]
  },
  {
   "cell_type": "code",
   "execution_count": 6,
   "metadata": {},
   "outputs": [
    {
     "data": {
      "text/html": [
       "-2.22813885198627"
      ],
      "text/latex": [
       "-2.22813885198627"
      ],
      "text/markdown": [
       "-2.22813885198627"
      ],
      "text/plain": [
       "[1] -2.228139"
      ]
     },
     "metadata": {},
     "output_type": "display_data"
    }
   ],
   "source": [
    "t_tabla <- qt(.025, df = 10)\n",
    "t_tabla"
   ]
  },
  {
   "cell_type": "code",
   "execution_count": 7,
   "metadata": {},
   "outputs": [
    {
     "data": {
      "text/html": [
       "<table>\n",
       "<thead><tr><th scope=col>.id</th><th scope=col>N</th><th scope=col>resistencia_dob</th><th scope=col>sd</th><th scope=col>se</th><th scope=col>ci</th></tr></thead>\n",
       "<tbody>\n",
       "\t<tr><td>NA      </td><td>12      </td><td>419     </td><td>97.90812</td><td>28.26364</td><td>62.20785</td></tr>\n",
       "</tbody>\n",
       "</table>\n"
      ],
      "text/latex": [
       "\\begin{tabular}{r|llllll}\n",
       " .id & N & resistencia\\_dob & sd & se & ci\\\\\n",
       "\\hline\n",
       "\t NA       & 12       & 419      & 97.90812 & 28.26364 & 62.20785\\\\\n",
       "\\end{tabular}\n"
      ],
      "text/markdown": [
       "\n",
       ".id | N | resistencia_dob | sd | se | ci | \n",
       "|---|\n",
       "| NA       | 12       | 419      | 97.90812 | 28.26364 | 62.20785 | \n",
       "\n",
       "\n"
      ],
      "text/plain": [
       "  .id N  resistencia_dob sd       se       ci      \n",
       "1 NA  12 419             97.90812 28.26364 62.20785"
      ]
     },
     "metadata": {},
     "output_type": "display_data"
    },
    {
     "data": {
      "text/plain": [
       "\n",
       "\tPearson's product-moment correlation\n",
       "\n",
       "data:  mediciones$resistencia_dob and mediciones$resistencia_tor\n",
       "t = 2.0662, df = 10, p-value = 0.0657\n",
       "alternative hypothesis: true correlation is not equal to 0\n",
       "95 percent confidence interval:\n",
       " -0.03923035  0.85308928\n",
       "sample estimates:\n",
       "      cor \n",
       "0.5469863 \n"
      ]
     },
     "metadata": {},
     "output_type": "display_data"
    }
   ],
   "source": [
    "suppressMessages(library(Rmisc))\n",
    "summarySE(data=mediciones, measurevar = \"resistencia_dob\")\n",
    "\n",
    "#suppressMessages(library(BSDA))\n",
    "cor.test(mediciones$resistencia_dob, mediciones$resistencia_tor, method = \"pearson\")"
   ]
  },
  {
   "cell_type": "code",
   "execution_count": 8,
   "metadata": {},
   "outputs": [
    {
     "data": {
      "text/html": [
       "2.02696965"
      ],
      "text/latex": [
       "2.02696965"
      ],
      "text/markdown": [
       "2.02696965"
      ],
      "text/plain": [
       "[1] 2.02697"
      ]
     },
     "metadata": {},
     "output_type": "display_data"
    },
    {
     "data": {
      "text/html": [
       "2.91928928"
      ],
      "text/latex": [
       "2.91928928"
      ],
      "text/markdown": [
       "2.91928928"
      ],
      "text/plain": [
       "[1] 2.919289"
      ]
     },
     "metadata": {},
     "output_type": "display_data"
    },
    {
     "data": {
      "text/html": [
       "0.484834038322432"
      ],
      "text/latex": [
       "0.484834038322432"
      ],
      "text/markdown": [
       "0.484834038322432"
      ],
      "text/plain": [
       "[1] 0.484834"
      ]
     },
     "metadata": {},
     "output_type": "display_data"
    }
   ],
   "source": [
    "2.0662 - 0.03923035\n",
    "2.0662 + 0.85308928\n",
    "alfa <-.05\n",
    "#t_tabla <- qt(alfa/2, df=n-2) # Cola izquierda\n",
    "pt(-0.03923035, df=10-2)"
   ]
  },
  {
   "cell_type": "code",
   "execution_count": 17,
   "metadata": {},
   "outputs": [
    {
     "data": {
      "text/html": [
       "<dl class=dl-horizontal>\n",
       "\t<dt>(Intercept)</dt>\n",
       "\t\t<dd>89.6934070519509</dd>\n",
       "\t<dt>resistencia_dob</dt>\n",
       "\t\t<dd>0.353953682453578</dd>\n",
       "</dl>\n"
      ],
      "text/latex": [
       "\\begin{description*}\n",
       "\\item[(Intercept)] 89.6934070519509\n",
       "\\item[resistencia\\textbackslash{}\\_dob] 0.353953682453578\n",
       "\\end{description*}\n"
      ],
      "text/markdown": [
       "(Intercept)\n",
       ":   89.6934070519509resistencia_dob\n",
       ":   0.353953682453578\n",
       "\n"
      ],
      "text/plain": [
       "    (Intercept) resistencia_dob \n",
       "     89.6934071       0.3539537 "
      ]
     },
     "metadata": {},
     "output_type": "display_data"
    }
   ],
   "source": [
    "# Obtenemos el modelo de la recta\n",
    "lm_mediciones <- lm (formula=resistencia_tor ~ resistencia_dob, data=mediciones)\n",
    "lm_mediciones$coefficients"
   ]
  },
  {
   "cell_type": "code",
   "execution_count": 47,
   "metadata": {},
   "outputs": [
    {
     "data": {
      "text/plain": [
       "\n",
       "Call:\n",
       "lm(formula = resistencia_tor ~ resistencia_dob, data = mediciones)\n",
       "\n",
       "Residuals:\n",
       "    Min      1Q  Median      3Q     Max \n",
       "-61.492 -19.325  -8.452  -1.729 144.230 \n",
       "\n",
       "Coefficients:\n",
       "                Estimate Std. Error t value Pr(>|t|)  \n",
       "(Intercept)      89.6934    73.5509   1.219   0.2506  \n",
       "resistencia_dob   0.3540     0.1713   2.066   0.0657 .\n",
       "---\n",
       "Signif. codes:  0 '***' 0.001 '**' 0.01 '*' 0.05 '.' 0.1 ' ' 1\n",
       "\n",
       "Residual standard error: 55.63 on 10 degrees of freedom\n",
       "Multiple R-squared:  0.2992,\tAdjusted R-squared:  0.2291 \n",
       "F-statistic: 4.269 on 1 and 10 DF,  p-value: 0.0657\n"
      ]
     },
     "metadata": {},
     "output_type": "display_data"
    }
   ],
   "source": [
    "# Obtenemos los detalles de los estadísticos\n",
    "sum_mediciones <- summary(lm_mediciones)\n",
    "sum_mediciones"
   ]
  },
  {
   "cell_type": "code",
   "execution_count": 48,
   "metadata": {},
   "outputs": [
    {
     "data": {
      "text/plain": [
       "\n",
       "\tOne Sample t-test\n",
       "\n",
       "data:  resistencia_dob\n",
       "t = 14.825, df = 11, p-value = 1.29e-08\n",
       "alternative hypothesis: true mean is not equal to 0\n",
       "95 percent confidence interval:\n",
       " 356.7921 481.2079\n",
       "sample estimates:\n",
       "mean of x \n",
       "      419 \n"
      ]
     },
     "metadata": {},
     "output_type": "display_data"
    }
   ],
   "source": [
    "t.test(x=resistencia_dob, var.equal = TRUE)"
   ]
  },
  {
   "cell_type": "code",
   "execution_count": 50,
   "metadata": {},
   "outputs": [
    {
     "data": {
      "text/html": [
       "<dl class=dl-horizontal>\n",
       "\t<dt>(Intercept)</dt>\n",
       "\t\t<dd>89.6934070519509</dd>\n",
       "\t<dt>resistencia_dob</dt>\n",
       "\t\t<dd>0.353953682453578</dd>\n",
       "</dl>\n"
      ],
      "text/latex": [
       "\\begin{description*}\n",
       "\\item[(Intercept)] 89.6934070519509\n",
       "\\item[resistencia\\textbackslash{}\\_dob] 0.353953682453578\n",
       "\\end{description*}\n"
      ],
      "text/markdown": [
       "(Intercept)\n",
       ":   89.6934070519509resistencia_dob\n",
       ":   0.353953682453578\n",
       "\n"
      ],
      "text/plain": [
       "    (Intercept) resistencia_dob \n",
       "     89.6934071       0.3539537 "
      ]
     },
     "metadata": {},
     "output_type": "display_data"
    },
    {
     "data": {
      "text/html": [
       "<table>\n",
       "<thead><tr><th></th><th scope=col>2.5 %</th><th scope=col>97.5 %</th></tr></thead>\n",
       "<tbody>\n",
       "\t<tr><th scope=row>(Intercept)</th><td>-74.18831940</td><td>253.575134  </td></tr>\n",
       "\t<tr><th scope=row>resistencia_dob</th><td> -0.02773661</td><td>  0.735644  </td></tr>\n",
       "</tbody>\n",
       "</table>\n"
      ],
      "text/latex": [
       "\\begin{tabular}{r|ll}\n",
       "  & 2.5 \\% & 97.5 \\%\\\\\n",
       "\\hline\n",
       "\t(Intercept) & -74.18831940 & 253.575134  \\\\\n",
       "\tresistencia\\_dob &  -0.02773661 &   0.735644  \\\\\n",
       "\\end{tabular}\n"
      ],
      "text/markdown": [
       "\n",
       "| <!--/--> | 2.5 % | 97.5 % | \n",
       "|---|---|\n",
       "| (Intercept) | -74.18831940 | 253.575134   | \n",
       "| resistencia_dob |  -0.02773661 |   0.735644   | \n",
       "\n",
       "\n"
      ],
      "text/plain": [
       "                2.5 %        97.5 %    \n",
       "(Intercept)     -74.18831940 253.575134\n",
       "resistencia_dob  -0.02773661   0.735644"
      ]
     },
     "metadata": {},
     "output_type": "display_data"
    },
    {
     "data": {
      "text/html": [
       "<dl class=dl-horizontal>\n",
       "\t<dt>1</dt>\n",
       "\t\t<dd>238</dd>\n",
       "\t<dt>2</dt>\n",
       "\t\t<dd>233.752555810557</dd>\n",
       "\t<dt>3</dt>\n",
       "\t\t<dd>218.1785937826</dd>\n",
       "\t<dt>4</dt>\n",
       "\t\t<dd>217.116732735239</dd>\n",
       "\t<dt>5</dt>\n",
       "\t\t<dd>180.65950344252</dd>\n",
       "\t<dt>6</dt>\n",
       "\t\t<dd>309.852597538076</dd>\n",
       "\t<dt>7</dt>\n",
       "\t\t<dd>239.769768412268</dd>\n",
       "\t<dt>8</dt>\n",
       "\t\t<dd>216.762779052785</dd>\n",
       "\t<dt>9</dt>\n",
       "\t\t<dd>212.161381180889</dd>\n",
       "\t<dt>10</dt>\n",
       "\t\t<dd>286.49165449614</dd>\n",
       "\t<dt>11</dt>\n",
       "\t\t<dd>257.467452534947</dd>\n",
       "\t<dt>12</dt>\n",
       "\t\t<dd>245.786981013979</dd>\n",
       "</dl>\n"
      ],
      "text/latex": [
       "\\begin{description*}\n",
       "\\item[1] 238\n",
       "\\item[2] 233.752555810557\n",
       "\\item[3] 218.1785937826\n",
       "\\item[4] 217.116732735239\n",
       "\\item[5] 180.65950344252\n",
       "\\item[6] 309.852597538076\n",
       "\\item[7] 239.769768412268\n",
       "\\item[8] 216.762779052785\n",
       "\\item[9] 212.161381180889\n",
       "\\item[10] 286.49165449614\n",
       "\\item[11] 257.467452534947\n",
       "\\item[12] 245.786981013979\n",
       "\\end{description*}\n"
      ],
      "text/markdown": [
       "1\n",
       ":   2382\n",
       ":   233.7525558105573\n",
       ":   218.17859378264\n",
       ":   217.1167327352395\n",
       ":   180.659503442526\n",
       ":   309.8525975380767\n",
       ":   239.7697684122688\n",
       ":   216.7627790527859\n",
       ":   212.16138118088910\n",
       ":   286.4916544961411\n",
       ":   257.46745253494712\n",
       ":   245.786981013979\n",
       "\n"
      ],
      "text/plain": [
       "       1        2        3        4        5        6        7        8 \n",
       "238.0000 233.7526 218.1786 217.1167 180.6595 309.8526 239.7698 216.7628 \n",
       "       9       10       11       12 \n",
       "212.1614 286.4917 257.4675 245.7870 "
      ]
     },
     "metadata": {},
     "output_type": "display_data"
    },
    {
     "data": {
      "text/html": [
       "<dl class=dl-horizontal>\n",
       "\t<dt>1</dt>\n",
       "\t\t<dd>-10.9999999999999</dd>\n",
       "\t<dt>2</dt>\n",
       "\t\t<dd>-2.75255581055704</dd>\n",
       "\t<dt>3</dt>\n",
       "\t\t<dd>-18.1785937825996</dd>\n",
       "\t<dt>4</dt>\n",
       "\t\t<dd>-6.11673273523891</dd>\n",
       "\t<dt>5</dt>\n",
       "\t\t<dd>1.34049655747964</dd>\n",
       "\t<dt>6</dt>\n",
       "\t\t<dd>-5.85259753807637</dd>\n",
       "\t<dt>7</dt>\n",
       "\t\t<dd>144.230231587732</dd>\n",
       "\t<dt>8</dt>\n",
       "\t\t<dd>-22.7627790527853</dd>\n",
       "\t<dt>9</dt>\n",
       "\t\t<dd>-54.1613811808888</dd>\n",
       "\t<dt>10</dt>\n",
       "\t\t<dd>-61.4916544961402</dd>\n",
       "\t<dt>11</dt>\n",
       "\t\t<dd>47.5325474650532</dd>\n",
       "\t<dt>12</dt>\n",
       "\t\t<dd>-10.7869810139787</dd>\n",
       "</dl>\n"
      ],
      "text/latex": [
       "\\begin{description*}\n",
       "\\item[1] -10.9999999999999\n",
       "\\item[2] -2.75255581055704\n",
       "\\item[3] -18.1785937825996\n",
       "\\item[4] -6.11673273523891\n",
       "\\item[5] 1.34049655747964\n",
       "\\item[6] -5.85259753807637\n",
       "\\item[7] 144.230231587732\n",
       "\\item[8] -22.7627790527853\n",
       "\\item[9] -54.1613811808888\n",
       "\\item[10] -61.4916544961402\n",
       "\\item[11] 47.5325474650532\n",
       "\\item[12] -10.7869810139787\n",
       "\\end{description*}\n"
      ],
      "text/markdown": [
       "1\n",
       ":   -10.99999999999992\n",
       ":   -2.752555810557043\n",
       ":   -18.17859378259964\n",
       ":   -6.116732735238915\n",
       ":   1.340496557479646\n",
       ":   -5.852597538076377\n",
       ":   144.2302315877328\n",
       ":   -22.76277905278539\n",
       ":   -54.161381180888810\n",
       ":   -61.491654496140211\n",
       ":   47.532547465053212\n",
       ":   -10.7869810139787\n",
       "\n"
      ],
      "text/plain": [
       "         1          2          3          4          5          6          7 \n",
       "-11.000000  -2.752556 -18.178594  -6.116733   1.340497  -5.852598 144.230232 \n",
       "         8          9         10         11         12 \n",
       "-22.762779 -54.161381 -61.491654  47.532547 -10.786981 "
      ]
     },
     "metadata": {},
     "output_type": "display_data"
    },
    {
     "data": {
      "text/html": [
       "<table>\n",
       "<thead><tr><th></th><th scope=col>Df</th><th scope=col>Sum Sq</th><th scope=col>Mean Sq</th><th scope=col>F value</th><th scope=col>Pr(&gt;F)</th></tr></thead>\n",
       "<tbody>\n",
       "\t<tr><th scope=row>resistencia_dob</th><td> 1        </td><td>13210.61  </td><td>13210.613 </td><td>4.269285  </td><td>0.06569827</td></tr>\n",
       "\t<tr><th scope=row>Residuals</th><td>10        </td><td>30943.39  </td><td> 3094.339 </td><td>      NA  </td><td>        NA</td></tr>\n",
       "</tbody>\n",
       "</table>\n"
      ],
      "text/latex": [
       "\\begin{tabular}{r|lllll}\n",
       "  & Df & Sum Sq & Mean Sq & F value & Pr(>F)\\\\\n",
       "\\hline\n",
       "\tresistencia\\_dob &  1         & 13210.61   & 13210.613  & 4.269285   & 0.06569827\\\\\n",
       "\tResiduals & 10         & 30943.39   &  3094.339  &       NA   &         NA\\\\\n",
       "\\end{tabular}\n"
      ],
      "text/markdown": [
       "\n",
       "| <!--/--> | Df | Sum Sq | Mean Sq | F value | Pr(>F) | \n",
       "|---|---|\n",
       "| resistencia_dob |  1         | 13210.61   | 13210.613  | 4.269285   | 0.06569827 | \n",
       "| Residuals | 10         | 30943.39   |  3094.339  |       NA   |         NA | \n",
       "\n",
       "\n"
      ],
      "text/plain": [
       "                Df Sum Sq   Mean Sq   F value  Pr(>F)    \n",
       "resistencia_dob  1 13210.61 13210.613 4.269285 0.06569827\n",
       "Residuals       10 30943.39  3094.339       NA         NA"
      ]
     },
     "metadata": {},
     "output_type": "display_data"
    },
    {
     "data": {
      "text/html": [
       "<table>\n",
       "<thead><tr><th></th><th scope=col>(Intercept)</th><th scope=col>resistencia_dob</th></tr></thead>\n",
       "<tbody>\n",
       "\t<tr><th scope=row>(Intercept)</th><td>5409.74206  </td><td>-12.29565752</td></tr>\n",
       "\t<tr><th scope=row>resistencia_dob</th><td> -12.29566  </td><td>  0.02934524</td></tr>\n",
       "</tbody>\n",
       "</table>\n"
      ],
      "text/latex": [
       "\\begin{tabular}{r|ll}\n",
       "  & (Intercept) & resistencia\\_dob\\\\\n",
       "\\hline\n",
       "\t(Intercept) & 5409.74206   & -12.29565752\\\\\n",
       "\tresistencia\\_dob &  -12.29566   &   0.02934524\\\\\n",
       "\\end{tabular}\n"
      ],
      "text/markdown": [
       "\n",
       "| <!--/--> | (Intercept) | resistencia_dob | \n",
       "|---|---|\n",
       "| (Intercept) | 5409.74206   | -12.29565752 | \n",
       "| resistencia_dob |  -12.29566   |   0.02934524 | \n",
       "\n",
       "\n"
      ],
      "text/plain": [
       "                (Intercept) resistencia_dob\n",
       "(Intercept)     5409.74206  -12.29565752   \n",
       "resistencia_dob  -12.29566    0.02934524   "
      ]
     },
     "metadata": {},
     "output_type": "display_data"
    },
    {
     "data": {
      "text/html": [
       "<dl>\n",
       "\t<dt>$hat</dt>\n",
       "\t\t<dd><dl class=dl-horizontal>\n",
       "\t<dt>1</dt>\n",
       "\t\t<dd>0.0833333333333333</dd>\n",
       "\t<dt>2</dt>\n",
       "\t\t<dd>0.0846989612376635</dd>\n",
       "\t<dt>3</dt>\n",
       "\t\t<dd>0.113073674360968</dd>\n",
       "\t<dt>4</dt>\n",
       "\t\t<dd>0.116345491215093</dd>\n",
       "\t<dt>5</dt>\n",
       "\t\t<dd>0.332219018897508</dd>\n",
       "\t<dt>6</dt>\n",
       "\t\t<dd>0.4741400021496</dd>\n",
       "\t<dt>7</dt>\n",
       "\t\t<dd>0.0835704215111685</dd>\n",
       "\t<dt>8</dt>\n",
       "\t\t<dd>0.117474030941588</dd>\n",
       "\t<dt>9</dt>\n",
       "\t\t<dd>0.133871049320663</dd>\n",
       "\t<dt>10</dt>\n",
       "\t\t<dd>0.261329653724813</dd>\n",
       "\t<dt>11</dt>\n",
       "\t\t<dd>0.11202100285138</dd>\n",
       "\t<dt>12</dt>\n",
       "\t\t<dd>0.0879233604562209</dd>\n",
       "</dl>\n",
       "</dd>\n",
       "\t<dt>$coefficients</dt>\n",
       "\t\t<dd><table>\n",
       "<thead><tr><th></th><th scope=col>(Intercept)</th><th scope=col>resistencia_dob</th></tr></thead>\n",
       "<tbody>\n",
       "\t<tr><th scope=row>1</th><td> -1.00000000 </td><td>-1.367588e-18</td></tr>\n",
       "\t<tr><th scope=row>2</th><td> -0.39400179 </td><td> 3.422341e-04</td></tr>\n",
       "\t<tr><th scope=row>3</th><td> -6.26885261 </td><td> 1.088506e-02</td></tr>\n",
       "\t<tr><th scope=row>4</th><td> -2.19967016 </td><td> 3.873102e-03</td></tr>\n",
       "\t<tr><th scope=row>5</th><td>  1.45948499 </td><td>-3.084016e-03</td></tr>\n",
       "\t<tr><th scope=row>6</th><td>  8.05009884 </td><td>-2.142617e-02</td></tr>\n",
       "\t<tr><th scope=row>7</th><td>  9.98835206 </td><td> 7.462719e-03</td></tr>\n",
       "\t<tr><th scope=row>8</th><td> -8.29879949 </td><td> 1.467638e-02</td></tr>\n",
       "\t<tr><th scope=row>9</th><td>-23.35008367 </td><td> 4.329123e-02</td></tr>\n",
       "\t<tr><th scope=row>10</th><td> 38.38072183 </td><td>-1.081573e-01</td></tr>\n",
       "\t<tr><th scope=row>11</th><td> -7.23788737 </td><td> 2.792036e-02</td></tr>\n",
       "\t<tr><th scope=row>12</th><td>  0.04832232 </td><td>-2.467523e-03</td></tr>\n",
       "</tbody>\n",
       "</table>\n",
       "</dd>\n",
       "\t<dt>$sigma</dt>\n",
       "\t\t<dd><dl class=dl-horizontal>\n",
       "\t<dt>1</dt>\n",
       "\t\t<dd>58.5105752167789</dd>\n",
       "\t<dt>2</dt>\n",
       "\t\t<dd>58.6279313751055</dd>\n",
       "\t<dt>3</dt>\n",
       "\t\t<dd>58.2816867940579</dd>\n",
       "\t<dt>4</dt>\n",
       "\t\t<dd>58.5956446600606</dd>\n",
       "\t<dt>5</dt>\n",
       "\t\t<dd>58.6332251382507</dd>\n",
       "\t<dt>6</dt>\n",
       "\t\t<dd>58.5740270416273</dd>\n",
       "\t<dt>7</dt>\n",
       "\t\t<dd>30.2655513709218</dd>\n",
       "\t<dt>8</dt>\n",
       "\t\t<dd>58.0768378485915</dd>\n",
       "\t<dt>9</dt>\n",
       "\t\t<dd>55.3338648063481</dd>\n",
       "\t<dt>10</dt>\n",
       "\t\t<dd>53.5666015643812</dd>\n",
       "\t<dt>11</dt>\n",
       "\t\t<dd>56.173363867259</dd>\n",
       "\t<dt>12</dt>\n",
       "\t\t<dd>58.5147757714851</dd>\n",
       "</dl>\n",
       "</dd>\n",
       "\t<dt>$wt.res</dt>\n",
       "\t\t<dd><dl class=dl-horizontal>\n",
       "\t<dt>1</dt>\n",
       "\t\t<dd>-10.9999999999999</dd>\n",
       "\t<dt>2</dt>\n",
       "\t\t<dd>-2.75255581055704</dd>\n",
       "\t<dt>3</dt>\n",
       "\t\t<dd>-18.1785937825996</dd>\n",
       "\t<dt>4</dt>\n",
       "\t\t<dd>-6.11673273523891</dd>\n",
       "\t<dt>5</dt>\n",
       "\t\t<dd>1.34049655747964</dd>\n",
       "\t<dt>6</dt>\n",
       "\t\t<dd>-5.85259753807637</dd>\n",
       "\t<dt>7</dt>\n",
       "\t\t<dd>144.230231587732</dd>\n",
       "\t<dt>8</dt>\n",
       "\t\t<dd>-22.7627790527853</dd>\n",
       "\t<dt>9</dt>\n",
       "\t\t<dd>-54.1613811808888</dd>\n",
       "\t<dt>10</dt>\n",
       "\t\t<dd>-61.4916544961402</dd>\n",
       "\t<dt>11</dt>\n",
       "\t\t<dd>47.5325474650532</dd>\n",
       "\t<dt>12</dt>\n",
       "\t\t<dd>-10.7869810139787</dd>\n",
       "</dl>\n",
       "</dd>\n",
       "</dl>\n"
      ],
      "text/latex": [
       "\\begin{description}\n",
       "\\item[\\$hat] \\begin{description*}\n",
       "\\item[1] 0.0833333333333333\n",
       "\\item[2] 0.0846989612376635\n",
       "\\item[3] 0.113073674360968\n",
       "\\item[4] 0.116345491215093\n",
       "\\item[5] 0.332219018897508\n",
       "\\item[6] 0.4741400021496\n",
       "\\item[7] 0.0835704215111685\n",
       "\\item[8] 0.117474030941588\n",
       "\\item[9] 0.133871049320663\n",
       "\\item[10] 0.261329653724813\n",
       "\\item[11] 0.11202100285138\n",
       "\\item[12] 0.0879233604562209\n",
       "\\end{description*}\n",
       "\n",
       "\\item[\\$coefficients] \\begin{tabular}{r|ll}\n",
       "  & (Intercept) & resistencia\\_dob\\\\\n",
       "\\hline\n",
       "\t1 &  -1.00000000  & -1.367588e-18\\\\\n",
       "\t2 &  -0.39400179  &  3.422341e-04\\\\\n",
       "\t3 &  -6.26885261  &  1.088506e-02\\\\\n",
       "\t4 &  -2.19967016  &  3.873102e-03\\\\\n",
       "\t5 &   1.45948499  & -3.084016e-03\\\\\n",
       "\t6 &   8.05009884  & -2.142617e-02\\\\\n",
       "\t7 &   9.98835206  &  7.462719e-03\\\\\n",
       "\t8 &  -8.29879949  &  1.467638e-02\\\\\n",
       "\t9 & -23.35008367  &  4.329123e-02\\\\\n",
       "\t10 &  38.38072183  & -1.081573e-01\\\\\n",
       "\t11 &  -7.23788737  &  2.792036e-02\\\\\n",
       "\t12 &   0.04832232  & -2.467523e-03\\\\\n",
       "\\end{tabular}\n",
       "\n",
       "\\item[\\$sigma] \\begin{description*}\n",
       "\\item[1] 58.5105752167789\n",
       "\\item[2] 58.6279313751055\n",
       "\\item[3] 58.2816867940579\n",
       "\\item[4] 58.5956446600606\n",
       "\\item[5] 58.6332251382507\n",
       "\\item[6] 58.5740270416273\n",
       "\\item[7] 30.2655513709218\n",
       "\\item[8] 58.0768378485915\n",
       "\\item[9] 55.3338648063481\n",
       "\\item[10] 53.5666015643812\n",
       "\\item[11] 56.173363867259\n",
       "\\item[12] 58.5147757714851\n",
       "\\end{description*}\n",
       "\n",
       "\\item[\\$wt.res] \\begin{description*}\n",
       "\\item[1] -10.9999999999999\n",
       "\\item[2] -2.75255581055704\n",
       "\\item[3] -18.1785937825996\n",
       "\\item[4] -6.11673273523891\n",
       "\\item[5] 1.34049655747964\n",
       "\\item[6] -5.85259753807637\n",
       "\\item[7] 144.230231587732\n",
       "\\item[8] -22.7627790527853\n",
       "\\item[9] -54.1613811808888\n",
       "\\item[10] -61.4916544961402\n",
       "\\item[11] 47.5325474650532\n",
       "\\item[12] -10.7869810139787\n",
       "\\end{description*}\n",
       "\n",
       "\\end{description}\n"
      ],
      "text/markdown": [
       "$hat\n",
       ":   1\n",
       ":   0.08333333333333332\n",
       ":   0.08469896123766353\n",
       ":   0.1130736743609684\n",
       ":   0.1163454912150935\n",
       ":   0.3322190188975086\n",
       ":   0.47414000214967\n",
       ":   0.08357042151116858\n",
       ":   0.1174740309415889\n",
       ":   0.13387104932066310\n",
       ":   0.26132965372481311\n",
       ":   0.1120210028513812\n",
       ":   0.0879233604562209\n",
       "\n",
       "\n",
       "$coefficients\n",
       ":   \n",
       "| <!--/--> | (Intercept) | resistencia_dob | \n",
       "|---|---|---|---|---|---|---|---|---|---|---|---|\n",
       "| 1 |  -1.00000000  | -1.367588e-18 | \n",
       "| 2 |  -0.39400179  |  3.422341e-04 | \n",
       "| 3 |  -6.26885261  |  1.088506e-02 | \n",
       "| 4 |  -2.19967016  |  3.873102e-03 | \n",
       "| 5 |   1.45948499  | -3.084016e-03 | \n",
       "| 6 |   8.05009884  | -2.142617e-02 | \n",
       "| 7 |   9.98835206  |  7.462719e-03 | \n",
       "| 8 |  -8.29879949  |  1.467638e-02 | \n",
       "| 9 | -23.35008367  |  4.329123e-02 | \n",
       "| 10 |  38.38072183  | -1.081573e-01 | \n",
       "| 11 |  -7.23788737  |  2.792036e-02 | \n",
       "| 12 |   0.04832232  | -2.467523e-03 | \n",
       "\n",
       "\n",
       "\n",
       "$sigma\n",
       ":   1\n",
       ":   58.51057521677892\n",
       ":   58.62793137510553\n",
       ":   58.28168679405794\n",
       ":   58.59564466006065\n",
       ":   58.63322513825076\n",
       ":   58.57402704162737\n",
       ":   30.26555137092188\n",
       ":   58.07683784859159\n",
       ":   55.333864806348110\n",
       ":   53.566601564381211\n",
       ":   56.17336386725912\n",
       ":   58.5147757714851\n",
       "\n",
       "\n",
       "$wt.res\n",
       ":   1\n",
       ":   -10.99999999999992\n",
       ":   -2.752555810557043\n",
       ":   -18.17859378259964\n",
       ":   -6.116732735238915\n",
       ":   1.340496557479646\n",
       ":   -5.852597538076377\n",
       ":   144.2302315877328\n",
       ":   -22.76277905278539\n",
       ":   -54.161381180888810\n",
       ":   -61.491654496140211\n",
       ":   47.532547465053212\n",
       ":   -10.7869810139787\n",
       "\n",
       "\n",
       "\n",
       "\n"
      ],
      "text/plain": [
       "$hat\n",
       "         1          2          3          4          5          6          7 \n",
       "0.08333333 0.08469896 0.11307367 0.11634549 0.33221902 0.47414000 0.08357042 \n",
       "         8          9         10         11         12 \n",
       "0.11747403 0.13387105 0.26132965 0.11202100 0.08792336 \n",
       "\n",
       "$coefficients\n",
       "    (Intercept) resistencia_dob\n",
       "1   -1.00000000   -1.367588e-18\n",
       "2   -0.39400179    3.422341e-04\n",
       "3   -6.26885261    1.088506e-02\n",
       "4   -2.19967016    3.873102e-03\n",
       "5    1.45948499   -3.084016e-03\n",
       "6    8.05009884   -2.142617e-02\n",
       "7    9.98835206    7.462719e-03\n",
       "8   -8.29879949    1.467638e-02\n",
       "9  -23.35008367    4.329123e-02\n",
       "10  38.38072183   -1.081573e-01\n",
       "11  -7.23788737    2.792036e-02\n",
       "12   0.04832232   -2.467523e-03\n",
       "\n",
       "$sigma\n",
       "       1        2        3        4        5        6        7        8 \n",
       "58.51058 58.62793 58.28169 58.59564 58.63323 58.57403 30.26555 58.07684 \n",
       "       9       10       11       12 \n",
       "55.33386 53.56660 56.17336 58.51478 \n",
       "\n",
       "$wt.res\n",
       "         1          2          3          4          5          6          7 \n",
       "-11.000000  -2.752556 -18.178594  -6.116733   1.340497  -5.852598 144.230232 \n",
       "         8          9         10         11         12 \n",
       "-22.762779 -54.161381 -61.491654  47.532547 -10.786981 \n"
      ]
     },
     "metadata": {},
     "output_type": "display_data"
    }
   ],
   "source": [
    "# Other useful functions\n",
    "coefficients(lm_mediciones) # model coefficients\n",
    "confint(lm_mediciones, level=0.95) # CIs for model parameters\n",
    "fitted(lm_mediciones) # predicted values\n",
    "residuals(lm_mediciones) # residuals\n",
    "anova(lm_mediciones) # anova table\n",
    "vcov(lm_mediciones) # covariance matrix for model parameters\n",
    "influence(lm_mediciones) # regression diagnostics "
   ]
  },
  {
   "cell_type": "code",
   "execution_count": 46,
   "metadata": {},
   "outputs": [
    {
     "data": {
      "image/png": "[encoded data removed]",
      "text/plain": [
       "Plot with title \"Normal Distribution\""
      ]
     },
     "metadata": {},
     "output_type": "display_data"
    }
   ],
   "source": [
    "mean=100; sd=15\n",
    "lb=80; ub=120\n",
    "\n",
    "x <- seq(-4,4,length=100)*sd + mean\n",
    "hx <- dnorm(x,mean,sd)\n",
    "\n",
    "plot(x, hx, type=\"n\", xlab=\"IQ Values\", ylab=\"\",\n",
    "  main=\"Normal Distribution\", axes=FALSE)\n",
    "\n",
    "i <- x >= lb & x <= ub\n",
    "lines(x, hx)\n",
    "polygon(c(lb,x[i],ub), c(0,hx[i],0), col=\"red\")\n",
    "\n",
    "area <- pnorm(ub, mean, sd) - pnorm(lb, mean, sd)\n",
    "result <- paste(\"P(\",lb,\"< IQ <\",ub,\") =\",\n",
    "   signif(area, digits=3))\n",
    "mtext(result,3)\n",
    "axis(1, at=seq(40, 160, 20), pos=0) "
   ]
  },
  {
   "cell_type": "code",
   "execution_count": null,
   "metadata": {},
   "outputs": [],
   "source": []
  }
 ],
 "metadata": {
  "kernelspec": {
   "display_name": "R",
   "language": "R",
   "name": "ir"
  },
  "language_info": {
   "codemirror_mode": "r",
   "file_extension": ".r",
   "mimetype": "text/x-r-source",
   "name": "R",
   "pygments_lexer": "r",
   "version": "3.3.3"
  }
 },
 "nbformat": 4,
 "nbformat_minor": 2
}
