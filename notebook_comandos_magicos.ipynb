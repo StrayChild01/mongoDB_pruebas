{
 "cells": [
  {
   "cell_type": "markdown",
   "metadata": {},
   "source": [
    "# Funcionalidades de Jupyter"
   ]
  },
  {
   "cell_type": "markdown",
   "metadata": {
    "slideshow": {
     "slide_type": "slide"
    }
   },
   "source": [
    "Este es un *notebook* para mostrar las funcionalidades que ofrece un notebook de Jupyter, porque además de tener kernels de diversos lenguajes, también tiene otras funcionalidades en su interface de usuario.\n",
    "\n",
    "Para empezar, las celdas de *markdown* soportan diferentes formatos que pueden ser consultados en este [cheat sheet](https://github.com/adam-p/markdown-here/wiki/Markdown-Cheatsheet). Además, las celdas *markdown* soportan ecuaciones con LaTex como el siguiente: $$e^x=\\sum_{i=0}^\\infty \\frac{1}{i!}x^i$$"
   ]
  },
  {
   "cell_type": "markdown",
   "metadata": {},
   "source": [
    "Las celdas markdown también soportan citar código al estilo github, por ejemplo:\n",
    "```python\n",
    "# Esta celda sólo es markdown, no es ejecutable\n",
    "print (\"Hello World\")\n",
    "```\n",
    "\n",
    "Para más información sobre lo que se puede hacer en *markdown*, se puede consultar la [documentación de Jupyter](https://jupyter-notebook.readthedocs.io/en/stable/examples/Notebook/Working%20With%20Markdown%20Cells.html)"
   ]
  },
  {
   "cell_type": "markdown",
   "metadata": {},
   "source": [
    "### Comandos mágicos\n",
    "\n",
    "Jupyter tiene diferentes funciones, llamadas *comandos mágico*. Estas funciones se clasifican de la siguiente manera:\n",
    "- Line Magics: Tienen el prefijo **\"%\"** y son básicamente funciones de sistema, las cuales reciben como argumento el resto de la línea, donde los parámetros son mandados sin paréntesis ni comillas, por ejemplo:\n",
    "\n",
    " ```Shell\n",
    " %ls -ltr\n",
    " ```\n",
    "\n",
    " Lo cual listaría el contenido del directorio actual y toma como parámetro **-ltr**\n",
    "\n",
    "\n",
    "- Cell Magics: Tienen el prefijo **\"%%\"** y son funciones que no sólo reciben el resto de la línea como parámetro, además de que también reciben como argumentos adicionales las líneas que le siguen. Ejemplo:\n",
    "\n",
    " ```Python\n",
    " %%writefiles miarchivo.py\n",
    " print(\"Esta es una prueba\")\n",
    " print(\"Esta también\")\n",
    " ```\n",
    "\n",
    " En el cual, se escribiría un archivo llamado **miarchivo.py** cuyo contenido serían las dos siguientes líneas de código.\n",
    "\n",
    "A continuación se muestran algunos de los comandos mágicos. Para más información, se puede consultar la [documentación de Jupyter](https://ipython.readthedocs.io/en/stable/interactive/magics.html)."
   ]
  },
  {
   "cell_type": "markdown",
   "metadata": {},
   "source": [
    "**Listar comandos mágicos**\n",
    "\n",
    "Usando el comando \"%lsmagic\", se listan los comandos mágicos de Jupyter."
   ]
  },
  {
   "cell_type": "code",
   "execution_count": null,
   "metadata": {},
   "outputs": [],
   "source": [
    "%lsmagic"
   ]
  },
  {
   "cell_type": "markdown",
   "metadata": {},
   "source": [
    "**Ejemplos de funciones mágicas *\"line magics\"***\n",
    "\n",
    "*Alias*\n",
    "\n",
    "Los alias son como los alias de \\*nix, por ejemplo"
   ]
  },
  {
   "cell_type": "code",
   "execution_count": null,
   "metadata": {},
   "outputs": [],
   "source": [
    "%alias doblemenos echo \"Mi texto con otros caracteres es: --%l--\""
   ]
  },
  {
   "cell_type": "code",
   "execution_count": null,
   "metadata": {},
   "outputs": [],
   "source": [
    "doblemenos Este es un texto que no importa"
   ]
  },
  {
   "cell_type": "code",
   "execution_count": null,
   "metadata": {},
   "outputs": [],
   "source": [
    "%alias formateacadena echo \"Mi texto en palabra por palabra %s--%s--%s\""
   ]
  },
  {
   "cell_type": "code",
   "execution_count": null,
   "metadata": {},
   "outputs": [],
   "source": [
    "formateacadena Este es otro texto"
   ]
  },
  {
   "cell_type": "markdown",
   "metadata": {},
   "source": [
    "*LS*"
   ]
  },
  {
   "cell_type": "code",
   "execution_count": 1,
   "metadata": {},
   "outputs": [
    {
     "name": "stdout",
     "output_type": "stream",
     "text": [
      "total 64\r\n",
      "-rw-r--r-- 1 pi pi   309 Aug 31 14:00 README.md\r\n",
      "drwxr-xr-x 2 pi pi  4096 Aug 31 14:08 \u001b[0m\u001b[01;34msrvconfig\u001b[0m/\r\n",
      "drwxr-xr-x 2 pi pi  4096 Aug 31 14:16 \u001b[01;34mdb_scripts\u001b[0m/\r\n",
      "-rw-r--r-- 1 pi pi 16107 Oct  2 18:54 mi_notebook_terminado.ipynb\r\n",
      "drwxr-xr-x 2 pi pi  4096 Oct  2 19:01 \u001b[01;34mmd_files\u001b[0m/\r\n",
      "drwxr-xr-x 2 pi pi  4096 Oct  2 19:44 \u001b[01;34mimg\u001b[0m/\r\n",
      "drwxr-xr-x 2 pi pi  4096 Oct  2 19:46 \u001b[01;34mcode\u001b[0m/\r\n",
      "-rw-r--r-- 1 pi pi  1263 Oct  2 19:48 RPy.ipynb\r\n",
      "-rw-r--r-- 1 pi pi  2455 Oct  2 20:08 Reticulate.ipynb\r\n",
      "-rw-r--r-- 1 pi pi 14485 Oct  3 10:10 notebook_comandos_magicos.ipynb\r\n"
     ]
    }
   ],
   "source": [
    "%ls -ltr"
   ]
  },
  {
   "cell_type": "markdown",
   "metadata": {},
   "source": [
    "*load*\n",
    "\n",
    "Esta función permite leer un archivo e insertar su contenido en la celda, por ejemplo"
   ]
  },
  {
   "cell_type": "code",
   "execution_count": null,
   "metadata": {},
   "outputs": [],
   "source": [
    "# %load code/miarchivo.py\n",
    "\n",
    "print(\"Esta es una prueba\")\n",
    "print(\"Esta es otra prueba\")\n",
    "print(\"Esta es la última prueba\")\n",
    "print(\"Esta es una prueba\")\n",
    "print(\"Esta es otra prueba\")\n",
    "print(\"Esta es la última prueba\")\n",
    "print(\"Esta es una prueba\")\n",
    "print(\"Esta es otra prueba\")\n",
    "print(\"Esta es la última prueba\")\n",
    "print(\"Esta es una prueba\")\n",
    "print(\"Esta es otra prueba\")\n",
    "print(\"Esta es la última prueba\")\n",
    "print(\"Este es el guild de data science\")"
   ]
  },
  {
   "cell_type": "markdown",
   "metadata": {},
   "source": [
    "**Ejemplos de funciones mágicas \"cell magics\"**\n",
    "\n",
    "*writefile*\n",
    "\n",
    "Sirve para guardar el contenido de una celda en un archivo, se usa %%writefile. El -a es para *append*"
   ]
  },
  {
   "cell_type": "code",
   "execution_count": 4,
   "metadata": {},
   "outputs": [
    {
     "name": "stdout",
     "output_type": "stream",
     "text": [
      "Appending to code/miarchivo.py\n"
     ]
    }
   ],
   "source": [
    "%%writefile -a code/miarchivo.py\n",
    "\n",
    "print(\"Este es el guild de data science\")\n"
   ]
  },
  {
   "cell_type": "markdown",
   "metadata": {},
   "source": [
    "%%bash\n",
    "\n",
    "Sirve para ejecutar el contenido de la celda en bash en un subproceso\n",
    "\n",
    "```Shell\n",
    "# comando\n",
    "# otro comando\n",
    "```"
   ]
  },
  {
   "cell_type": "code",
   "execution_count": 6,
   "metadata": {},
   "outputs": [
    {
     "name": "stdout",
     "output_type": "stream",
     "text": [
      "Esta es una prueba de bash\n",
      "Wed Oct  3 10:12:51 CDT 2018\n"
     ]
    }
   ],
   "source": [
    "%%bash \n",
    "echo \"Esta es una prueba de bash\"\n",
    "date"
   ]
  },
  {
   "cell_type": "markdown",
   "metadata": {},
   "source": [
    "Si se necesita obtener la ayuda de un comando, se usa la siguiente sintaxis:\n",
    "\n",
    "%\\[%\\]comandomágico**?**\n",
    "\n",
    "Por ejemplo:"
   ]
  },
  {
   "cell_type": "code",
   "execution_count": 7,
   "metadata": {},
   "outputs": [],
   "source": [
    "%%writefile?"
   ]
  },
  {
   "cell_type": "markdown",
   "metadata": {},
   "source": [
    "Otro comando mágico que no se listó, pero también es bastante útil, es **%run**, que permite ejecutar el código que se especifique "
   ]
  },
  {
   "cell_type": "code",
   "execution_count": null,
   "metadata": {},
   "outputs": [],
   "source": [
    "%run code/miarchivo.py"
   ]
  },
  {
   "cell_type": "markdown",
   "metadata": {},
   "source": [
    "### Ejecución de comandos de sistema\n",
    "\n",
    "Si bien Jupyter tiene sus propios comandos mágicos de sistema, no incluye todos los comandos de sistema. Para ejecutar un comando de sistema en la celda, se usa la siguiente sintaxis:\n",
    "\n",
    "*!comando*\n",
    "\n",
    "Por ejemplo, ping no existe como comando mágico"
   ]
  },
  {
   "cell_type": "code",
   "execution_count": 8,
   "metadata": {},
   "outputs": [
    {
     "name": "stderr",
     "output_type": "stream",
     "text": [
      "UsageError: Line magic function `%ping` not found.\n"
     ]
    }
   ],
   "source": [
    "#%ping"
   ]
  },
  {
   "cell_type": "markdown",
   "metadata": {},
   "source": [
    "pero sí existe como comando de sistema:"
   ]
  },
  {
   "cell_type": "code",
   "execution_count": 9,
   "metadata": {},
   "outputs": [
    {
     "name": "stdout",
     "output_type": "stream",
     "text": [
      "PING www.google.com (216.58.193.132) 56(84) bytes of data.\n",
      "64 bytes from dfw25s34-in-f4.1e100.net (216.58.193.132): icmp_seq=1 ttl=52 time=30.7 ms\n",
      "64 bytes from dfw25s34-in-f4.1e100.net (216.58.193.132): icmp_seq=2 ttl=52 time=31.5 ms\n",
      "64 bytes from dfw25s34-in-f4.1e100.net (216.58.193.132): icmp_seq=3 ttl=52 time=30.7 ms\n",
      "\n",
      "--- www.google.com ping statistics ---\n",
      "3 packets transmitted, 3 received, 0% packet loss, time 2003ms\n",
      "rtt min/avg/max/mdev = 30.751/31.045/31.588/0.384 ms\n"
     ]
    }
   ],
   "source": [
    "!ping -c 3 www.google.com"
   ]
  },
  {
   "cell_type": "code",
   "execution_count": 10,
   "metadata": {},
   "outputs": [
    {
     "data": {
      "text/plain": [
       "'pi'"
      ]
     },
     "execution_count": 10,
     "metadata": {},
     "output_type": "execute_result"
    }
   ],
   "source": [
    "%env USER"
   ]
  },
  {
   "cell_type": "markdown",
   "metadata": {},
   "source": [
    "Los notebooks también pueden ejecutar las celdas sin necesidad de la interacción del usuario con el siguiente comando:\n",
    "\n",
    "    jupyter nbconvert --to notebook --execute mynotebook.ipynb --output mynotebook.ipynb"
   ]
  },
  {
   "cell_type": "code",
   "execution_count": 11,
   "metadata": {},
   "outputs": [
    {
     "name": "stdout",
     "output_type": "stream",
     "text": [
      "[NbConvertApp] Converting notebook notebook_comandos_magicos.ipynb to notebook\n",
      "[NbConvertApp] Executing notebook with kernel: python3\n",
      "[NbConvertApp] ERROR | Timeout waiting for execute reply (30s).\n",
      "Traceback (most recent call last):\n",
      "  File \"/usr/local/lib/python3.5/dist-packages/nbconvert/preprocessors/execute.py\", line 324, in _wait_for_reply\n",
      "    msg = self.kc.shell_channel.get_msg(timeout=timeout)\n",
      "  File \"/usr/local/lib/python3.5/dist-packages/jupyter_client/blocking/channels.py\", line 57, in get_msg\n",
      "    raise Empty\n",
      "queue.Empty\n",
      "\n",
      "During handling of the above exception, another exception occurred:\n",
      "\n",
      "Traceback (most recent call last):\n",
      "  File \"/usr/local/bin/jupyter-nbconvert\", line 11, in <module>\n",
      "    sys.exit(main())\n",
      "  File \"/usr/local/lib/python3.5/dist-packages/jupyter_core/application.py\", line 266, in launch_instance\n",
      "    return super(JupyterApp, cls).launch_instance(argv=argv, **kwargs)\n",
      "  File \"/usr/local/lib/python3.5/dist-packages/traitlets/config/application.py\", line 658, in launch_instance\n",
      "    app.start()\n",
      "  File \"/usr/local/lib/python3.5/dist-packages/nbconvert/nbconvertapp.py\", line 325, in start\n",
      "    self.convert_notebooks()\n",
      "  File \"/usr/local/lib/python3.5/dist-packages/nbconvert/nbconvertapp.py\", line 493, in convert_notebooks\n",
      "    self.convert_single_notebook(notebook_filename)\n",
      "  File \"/usr/local/lib/python3.5/dist-packages/nbconvert/nbconvertapp.py\", line 464, in convert_single_notebook\n",
      "    output, resources = self.export_single_notebook(notebook_filename, resources, input_buffer=input_buffer)\n",
      "  File \"/usr/local/lib/python3.5/dist-packages/nbconvert/nbconvertapp.py\", line 393, in export_single_notebook\n",
      "    output, resources = self.exporter.from_filename(notebook_filename, resources=resources)\n",
      "  File \"/usr/local/lib/python3.5/dist-packages/nbconvert/exporters/exporter.py\", line 174, in from_filename\n",
      "    return self.from_file(f, resources=resources, **kw)\n",
      "  File \"/usr/local/lib/python3.5/dist-packages/nbconvert/exporters/exporter.py\", line 192, in from_file\n",
      "    return self.from_notebook_node(nbformat.read(file_stream, as_version=4), resources=resources, **kw)\n",
      "  File \"/usr/local/lib/python3.5/dist-packages/nbconvert/exporters/notebook.py\", line 31, in from_notebook_node\n",
      "    nb_copy, resources = super(NotebookExporter, self).from_notebook_node(nb, resources, **kw)\n",
      "  File \"/usr/local/lib/python3.5/dist-packages/nbconvert/exporters/exporter.py\", line 134, in from_notebook_node\n",
      "    nb_copy, resources = self._preprocess(nb_copy, resources)\n",
      "  File \"/usr/local/lib/python3.5/dist-packages/nbconvert/exporters/exporter.py\", line 311, in _preprocess\n",
      "    nbc, resc = preprocessor(nbc, resc)\n",
      "  File \"/usr/local/lib/python3.5/dist-packages/nbconvert/preprocessors/base.py\", line 47, in __call__\n",
      "    return self.preprocess(nb, resources)\n",
      "  File \"/usr/local/lib/python3.5/dist-packages/nbconvert/preprocessors/execute.py\", line 262, in preprocess\n",
      "    nb, resources = super(ExecutePreprocessor, self).preprocess(nb, resources)\n",
      "  File \"/usr/local/lib/python3.5/dist-packages/nbconvert/preprocessors/base.py\", line 69, in preprocess\n",
      "    nb.cells[index], resources = self.preprocess_cell(cell, resources, index)\n",
      "  File \"/usr/local/lib/python3.5/dist-packages/nbconvert/preprocessors/execute.py\", line 280, in preprocess_cell\n",
      "    reply, outputs = self.run_cell(cell, cell_index)\n",
      "  File \"/usr/local/lib/python3.5/dist-packages/nbconvert/preprocessors/execute.py\", line 348, in run_cell\n",
      "    exec_reply = self._wait_for_reply(msg_id, cell)\n",
      "  File \"/usr/local/lib/python3.5/dist-packages/nbconvert/preprocessors/execute.py\", line 337, in _wait_for_reply\n",
      "    raise exception(\"Cell execution timed out\")\n",
      "TimeoutError: Cell execution timed out\n"
     ]
    }
   ],
   "source": [
    "!jupyter nbconvert --to notebook --execute notebook_comandos_magicos.ipynb --output mi_notebook_terminado.ipynb"
   ]
  }
 ],
 "metadata": {
  "kernelspec": {
   "display_name": "Python 3",
   "language": "python",
   "name": "python3"
  },
  "language_info": {
   "codemirror_mode": {
    "name": "ipython",
    "version": 3
   },
   "file_extension": ".py",
   "mimetype": "text/x-python",
   "name": "python",
   "nbconvert_exporter": "python",
   "pygments_lexer": "ipython3",
   "version": "3.5.3"
  }
 },
 "nbformat": 4,
 "nbformat_minor": 2
}
