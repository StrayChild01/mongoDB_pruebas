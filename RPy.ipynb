{
 "cells": [
  {
   "cell_type": "markdown",
   "metadata": {},
   "source": [
    "### RPy\n",
    "\n",
    "Es el equivalente de Reticulate en python, que permite ejecutar código de R en Python."
   ]
  },
  {
   "cell_type": "code",
   "execution_count": 2,
   "metadata": {},
   "outputs": [
    {
     "name": "stderr",
     "output_type": "stream",
     "text": [
      "/usr/local/lib/python3.5/dist-packages/rpy2/robjects/lib/ggplot2.py:67: UserWarning: This was designed againt ggplot2 version 2.2.1 but you have 3.0.0\n",
      "  warnings.warn('This was designed againt ggplot2 version %s but you have %s' % (TARGET_VERSION, ggplot2.__version__))\n",
      "/usr/local/lib/python3.5/dist-packages/rpy2/rinterface/__init__.py:146: RRuntimeWarning: `geom_smooth()` using method = 'loess' and formula 'y ~ x'\n",
      "\n",
      "  warnings.warn(x, RRuntimeWarning)\n",
      "/usr/local/lib/python3.5/dist-packages/rpy2/rinterface/__init__.py:146: RRuntimeWarning: Saving 7 x 7 in image\n",
      "\n",
      "  warnings.warn(x, RRuntimeWarning)\n"
     ]
    },
    {
     "data": {
      "text/plain": [
       "rpy2.rinterface.NULL"
      ]
     },
     "execution_count": 2,
     "metadata": {},
     "output_type": "execute_result"
    }
   ],
   "source": [
    "# %load code/my_rpy2_test.py\n",
    "#import numpy as np\n",
    "#import pandas as pd\n",
    "import rpy2.robjects.packages as packages\n",
    "import rpy2.robjects.lib.ggplot2 as ggplot2\n",
    "import rpy2.robjects as ro\n",
    "R = ro.r\n",
    "datasets = packages.importr('datasets')\n",
    "mtcars = packages.data(datasets).fetch('mtcars')['mtcars']\n",
    "gp = ggplot2.ggplot(mtcars)\n",
    "pp = (gp \n",
    "      + ggplot2.aes_string(x='wt', y='mpg')\n",
    "      + ggplot2.geom_point(ggplot2.aes_string(colour='qsec'))\n",
    "      + ggplot2.scale_colour_gradient(low=\"yellow\", high=\"red\") \n",
    "      + ggplot2.geom_smooth(method='auto') \n",
    "      + ggplot2.labs(title=\"mtcars\", x='wt', y='mpg'))\n",
    "\n",
    "pp.plot()\n",
    "#R(\"dev.copy(png,'img/out.png')\")\n",
    "R.ggsave(\"img/out.png\")\n"
   ]
  },
  {
   "cell_type": "markdown",
   "metadata": {},
   "source": [
    "Ahora verificamos que la gráfica se haya creado correctamente:"
   ]
  },
  {
   "cell_type": "code",
   "execution_count": 3,
   "metadata": {},
   "outputs": [
    {
     "name": "stdout",
     "output_type": "stream",
     "text": [
      "-rw-r--r-- 1 pi pi 104210 Oct  3 10:32 img/out.png\r\n"
     ]
    }
   ],
   "source": [
    "ls -ltr img/out.png"
   ]
  },
  {
   "cell_type": "markdown",
   "metadata": {},
   "source": [
    "Con el código anterior, obtenemos la siguiente gráfica:\n",
    "\n",
    "![Gráfica](img/out.png)"
   ]
  }
 ],
 "metadata": {
  "kernelspec": {
   "display_name": "Python 3",
   "language": "python",
   "name": "python3"
  },
  "language_info": {
   "codemirror_mode": {
    "name": "ipython",
    "version": 3
   },
   "file_extension": ".py",
   "mimetype": "text/x-python",
   "name": "python",
   "nbconvert_exporter": "python",
   "pygments_lexer": "ipython3",
   "version": "3.5.3"
  }
 },
 "nbformat": 4,
 "nbformat_minor": 2
}
