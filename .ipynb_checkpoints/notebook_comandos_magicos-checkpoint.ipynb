{
 "cells": [
  {
   "cell_type": "markdown",
   "metadata": {},
   "source": [
    "# Funcionalidades de Jupyter"
   ]
  },
  {
   "cell_type": "markdown",
   "metadata": {},
   "source": [
    "Este es un *notebook* para probar las funcionalidades que ofrece un notebook de Jupyter, porque además de tener kernels de diversos lenguajes, también tiene otras funcionalidades.\n",
    "\n",
    "Para empezar, las celdas de *markdown* soportan diferentes formatos que pueden ser consultados en este [cheat sheet](https://github.com/adam-p/markdown-here/wiki/Markdown-Cheatsheet). Además, las celdas *markdown* soportan ecuaciones con LaTex como el siguiente: $$e^x=\\sum_{i=0}^\\infty \\frac{1}{i!}x^i$$"
   ]
  },
  {
   "cell_type": "markdown",
   "metadata": {},
   "source": [
    "Las celdas markdown también soportan citar código al estilo github, por ejemplo:\n",
    "```python\n",
    "# Esta celda sólo es markdown, no es ejecutable\n",
    "print (\"Hello World\")\n",
    "```\n",
    "\n",
    "Para más información sobre lo que se puede hacer en *markdown*, se puede consultar la [documentación de Jupyter](https://jupyter-notebook.readthedocs.io/en/stable/examples/Notebook/Working%20With%20Markdown%20Cells.html)"
   ]
  },
  {
   "cell_type": "markdown",
   "metadata": {},
   "source": [
    "### Comandos mágicos\n",
    "\n",
    "Jupyter tiene diferentes funciones, llamadas *comandos mágico*. Estas funciones se clasifican de la siguiente manera:\n",
    "- Line Magics: Tienen el prefijo **\"%\"** y son básicamente funciones de sistema, las cuales reciben como argumento el resto de la línea, donde los parámetros son mandados sin paréntesis ni comillas, por ejemplo:\n",
    "\n",
    " ```Shell\n",
    " %ls -ltr\n",
    " ```\n",
    "\n",
    " Lo cual listaría el contenido del directorio actual y toma como parámetro **-ltr**\n",
    "\n",
    "\n",
    "- Cell Magics: Tienen el prefijo **\"%%\"** y son funciones que no sólo reciben el resto de la línea como parámetro, además de que también reciben como argumentos adicionales las líneas que le siguen. Ejemplo:\n",
    "\n",
    " ```Python\n",
    " %%writefiles miarchivo.py\n",
    " print(\"Esta es una prueba\")\n",
    " print(\"Esta también\")\n",
    " ```\n",
    "\n",
    " En el cual, se escribiría un archivo llamado **miarchivo.py** cuyo contenido serían las dos siguientes líneas de código.\n",
    "\n",
    "![magia](img/magic.gif)\n",
    "\n",
    "A continuación se muestran algunos de los comandos mágicos. Para más información, se puede consultar la [documentación de Jupyter](https://ipython.readthedocs.io/en/stable/interactive/magics.html)."
   ]
  },
  {
   "cell_type": "markdown",
   "metadata": {},
   "source": [
    "**Listar comandos mágicos**\n",
    "\n",
    "Usando el comando \"%lsmagic\", se listan los comandos mágicos de Jupyter."
   ]
  },
  {
   "cell_type": "code",
   "execution_count": null,
   "metadata": {},
   "outputs": [],
   "source": [
    "%lsmagic"
   ]
  },
  {
   "cell_type": "markdown",
   "metadata": {},
   "source": [
    "**Ejemplos de funciones mágicas *\"line magics\"***\n",
    "\n",
    "*Alias*\n",
    "\n",
    "Los alias son como los alias de \\*nix, por ejemplo"
   ]
  },
  {
   "cell_type": "code",
   "execution_count": null,
   "metadata": {},
   "outputs": [],
   "source": [
    "%alias doblemenos echo \"Mi texto con otros caracteres es: --%l--\""
   ]
  },
  {
   "cell_type": "code",
   "execution_count": null,
   "metadata": {},
   "outputs": [],
   "source": [
    "doblemenos Este es un texto que no importa"
   ]
  },
  {
   "cell_type": "code",
   "execution_count": null,
   "metadata": {},
   "outputs": [],
   "source": [
    "%alias formateacadena echo \"Mi texto en palabra por palabra %s--%s--%s\""
   ]
  },
  {
   "cell_type": "code",
   "execution_count": null,
   "metadata": {},
   "outputs": [],
   "source": [
    "formateacadena Este es otro texto"
   ]
  },
  {
   "cell_type": "markdown",
   "metadata": {},
   "source": [
    "*LS*"
   ]
  },
  {
   "cell_type": "code",
   "execution_count": null,
   "metadata": {},
   "outputs": [],
   "source": [
    "%ls -ltr"
   ]
  },
  {
   "cell_type": "markdown",
   "metadata": {},
   "source": [
    "*load*\n",
    "\n",
    "Esta función permite leer un archivo e insertar su contenido en la celda, por ejemplo"
   ]
  },
  {
   "cell_type": "code",
   "execution_count": null,
   "metadata": {},
   "outputs": [],
   "source": [
    "%load code/miarchivo.py"
   ]
  },
  {
   "cell_type": "markdown",
   "metadata": {},
   "source": [
    "**Ejemplos de funciones mágicas \"cell magics\"**\n",
    "\n",
    "*writefile*\n",
    "\n",
    "Sirve para guardar el contenido de una celda en un archivo, se usa %%writefile. El -a es para *append*"
   ]
  },
  {
   "cell_type": "code",
   "execution_count": 33,
   "metadata": {},
   "outputs": [
    {
     "name": "stdout",
     "output_type": "stream",
     "text": [
      "Appending to code/miarchivo.py\n"
     ]
    }
   ],
   "source": [
    "%%writefile -a code/miarchivo.py\n",
    "\n",
    "print(\"Esta es una prueba\") \n",
    "print(\"Esta es otra prueba\") \n",
    "print(\"Esta es la última prueba\") "
   ]
  },
  {
   "cell_type": "markdown",
   "metadata": {},
   "source": [
    "%%bash\n",
    "\n",
    "Sirve para ejecutar el contenido de la celda en bash en un subproceso\n",
    "\n",
    "```Shell\n",
    "# comando\n",
    "# otro comando\n",
    "```"
   ]
  },
  {
   "cell_type": "code",
   "execution_count": 26,
   "metadata": {},
   "outputs": [
    {
     "name": "stdout",
     "output_type": "stream",
     "text": [
      "Esta es una prueba de bash\n",
      "Fri Aug 31 10:23:14 CDT 2018\n"
     ]
    }
   ],
   "source": [
    "%%bash \n",
    "echo \"Esta es una prueba de bash\"\n",
    "date"
   ]
  },
  {
   "cell_type": "markdown",
   "metadata": {},
   "source": [
    "Si se necesita obtener la ayuda de un comando, se usa la siguiente sintaxis:\n",
    "\n",
    "%\\[%\\]comandomágico**?**\n",
    "\n",
    "Por ejemplo:"
   ]
  },
  {
   "cell_type": "code",
   "execution_count": 28,
   "metadata": {},
   "outputs": [],
   "source": [
    "%%writefile?"
   ]
  },
  {
   "cell_type": "markdown",
   "metadata": {},
   "source": [
    "Otro comando mágico que no se listó, pero también es bastante útil, es **%run**, que permite ejecutar el código que se especifique "
   ]
  },
  {
   "cell_type": "code",
   "execution_count": 34,
   "metadata": {},
   "outputs": [
    {
     "ename": "SyntaxError",
     "evalue": "invalid syntax (miarchivo.py, line 1)",
     "output_type": "error",
     "traceback": [
      "\u001b[0;36m  File \u001b[0;32m\"/home/pi/notebooks/code/miarchivo.py\"\u001b[0;36m, line \u001b[0;32m1\u001b[0m\n\u001b[0;31m    print(\"Esta es una prueba\")print(\"Esta es una prueba\")\u001b[0m\n\u001b[0m                                   ^\u001b[0m\n\u001b[0;31mSyntaxError\u001b[0m\u001b[0;31m:\u001b[0m invalid syntax\n"
     ]
    }
   ],
   "source": [
    "%run code/miarchivo.py"
   ]
  },
  {
   "cell_type": "code",
   "execution_count": null,
   "metadata": {},
   "outputs": [],
   "source": []
  }
 ],
 "metadata": {
  "kernelspec": {
   "display_name": "Python 3",
   "language": "python",
   "name": "python3"
  },
  "language_info": {
   "codemirror_mode": {
    "name": "ipython",
    "version": 3
   },
   "file_extension": ".py",
   "mimetype": "text/x-python",
   "name": "python",
   "nbconvert_exporter": "python",
   "pygments_lexer": "ipython3",
   "version": "3.5.3"
  }
 },
 "nbformat": 4,
 "nbformat_minor": 2
}
