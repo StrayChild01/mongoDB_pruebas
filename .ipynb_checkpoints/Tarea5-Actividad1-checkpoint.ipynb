{
 "cells": [
  {
   "cell_type": "markdown",
   "metadata": {},
   "source": [
    "# ACTIVIDAD 1 \n",
    " \n",
    "La dirección de una empresa quiere estudiar la rentabilidad de su inversión en publicidad. Para ello ha recogido datos del volumen de ventas y del gasto en publicidad desde 1997 hasta el 2006, obteniendo los siguientes resultados:\n",
    "\n",
    "| Año  | Volumen de Ventas $^1$ | Gastos Publicidad $^1$|\n",
    "|------|-------------------|-------------------|\n",
    "| 1997 | 50                | 10                |\n",
    "| 1998 | 100               | 15                |\n",
    "| 1999 | 150               | 18                |\n",
    "| 2000 | 200               | 20                |\n",
    "| 2001 | 200               | 25                |\n",
    "| 2002 | 300               | 35                |\n",
    "| 2003 | 400               | 50                |\n",
    "| 2004 | 500               | 55                |\n",
    "| 2005 | 650               | 60                |\n",
    "| 2006 | 750               | 65                |\n",
    "\n",
    "$^1 \\text{miles de \\$}$"
   ]
  },
  {
   "cell_type": "markdown",
   "metadata": {},
   "source": [
    "De Excel se obtienen las siguientes tablas:\n",
    "\n",
    "<table style=\"float: left\">\n",
    "\t<thead>\n",
    "\t\t<tr class=\"\">\n",
    "\t\t\t<th>Regression Statistics</th>\n",
    "\t\t\t<th>&nbsp;</th>\n",
    "\t\t</tr>\n",
    "\t</thead>\n",
    "\t<tbody>\n",
    "\t\t<tr>\n",
    "\t\t\t<td>Multiple R</td>\n",
    "\t\t\t<td>0.976434476</td>\n",
    "\t\t</tr>\n",
    "\t\t<tr>\n",
    "\t\t\t<td>R Square</td>\n",
    "\t\t\t<td>0.953424286</td>\n",
    "\t\t</tr>\n",
    "\t\t<tr>\n",
    "\t\t\t<td>Adjusted R Square</td>\n",
    "\t\t\t<td>0.947602321</td>\n",
    "\t\t</tr>\n",
    "\t\t<tr>\n",
    "\t\t\t<td>Standard Error</td>\n",
    "\t\t\t<td>54.54377837</td>\n",
    "\t\t</tr>\n",
    "\t\t<tr>\n",
    "\t\t\t<td>Observations</td>\n",
    "\t\t\t<td>10</td>\n",
    "\t\t</tr>\n",
    "\t</tbody>\n",
    "</table>"
   ]
  },
  {
   "cell_type": "markdown",
   "metadata": {},
   "source": [
    "<table style=\"float: left\">\n",
    "\t<thead>\n",
    "\t\t<tr class=\"\">\n",
    "\t\t\t<th>&nbsp;</th>\n",
    "\t\t\t<th>df</th>\n",
    "\t\t\t<th>SS</th>\n",
    "\t\t\t<th>MS</th>\n",
    "\t\t\t<th>F</th>\n",
    "\t\t\t<th>Significance F</th>\n",
    "\t\t</tr>\n",
    "\t</thead>\n",
    "\t<tbody>\n",
    "\t\t<tr>\n",
    "\t\t\t<td>Regression</td>\n",
    "\t\t\t<td>1</td>\n",
    "\t\t\t<td>487199.8099</td>\n",
    "\t\t\t<td>487199.8099</td>\n",
    "\t\t\t<td>163.7633342</td>\n",
    "\t\t\t<td>1.31145E-06</td>\n",
    "\t\t</tr>\n",
    "\t\t<tr>\n",
    "\t\t\t<td>Residual</td>\n",
    "\t\t\t<td>8</td>\n",
    "\t\t\t<td>23800.19007</td>\n",
    "\t\t\t<td>2975.023759</td>\n",
    "\t\t\t<td>&nbsp;</td>\n",
    "\t\t\t<td>&nbsp;</td>\n",
    "\t\t</tr>\n",
    "\t\t<tr>\n",
    "\t\t\t<td>Total</td>\n",
    "\t\t\t<td>9</td>\n",
    "\t\t\t<td>511000</td>\n",
    "\t\t\t<td>&nbsp;</td>\n",
    "\t\t\t<td>&nbsp;</td>\n",
    "\t\t\t<td/>\n",
    "\t\t</tr>\n",
    "\t</tbody>\n",
    "</table>"
   ]
  },
  {
   "cell_type": "markdown",
   "metadata": {},
   "source": [
    "<table style=\"float: left\">\n",
    "\t<thead>\n",
    "\t\t<tr class=\"\">\n",
    "\t\t\t<th>Values</th>\n",
    "\t\t\t<th>Coefficients</th>\n",
    "\t\t\t<th>Standard Error</th>\n",
    "\t\t\t<th>t Stat</th>\n",
    "\t\t\t<th>P-value</th>\n",
    "\t\t\t<th>Lower 95%</th>\n",
    "\t\t\t<th>Upper 95%</th>\n",
    "\t\t</tr>\n",
    "\t</thead>\n",
    "\t<tbody>\n",
    "\t\t<tr>\n",
    "\t\t\t<td>Intercept</td>\n",
    "\t\t\t<td>-70.32945276</td>\n",
    "\t\t\t<td>35.72299156</td>\n",
    "\t\t\t<td>-1.968744769</td>\n",
    "\t\t\t<td>0.084507564</td>\n",
    "\t\t\t<td>-152.706819</td>\n",
    "\t\t\t<td>12.04791349</td>\n",
    "\t\t</tr>\n",
    "\t\t<tr>\n",
    "\t\t\t<td>X Variable 1</td>\n",
    "\t\t\t<td>11.3407777</td>\n",
    "\t\t\t<td>0.886205624</td>\n",
    "\t\t\t<td>12.79700489</td>\n",
    "\t\t\t<td>1.31145E-06</td>\n",
    "\t\t\t<td>9.297183866</td>\n",
    "\t\t\t<td>13.38437153</td>\n",
    "\t\t</tr>\n",
    "\t</tbody>\n",
    "</table>"
   ]
  },
  {
   "cell_type": "markdown",
   "metadata": {},
   "source": [
    "1. Utilizando la hoja de Cálculo Excel, Especifique y estime el modelo lineal que explique las ventas de la empresa en función de la inversión publicitaria."
   ]
  },
  {
   "cell_type": "markdown",
   "metadata": {},
   "source": [
    "Siendo la ecuación de la recta\n",
    "\n",
    "$$ \\widehat{y} = \\alpha + \\beta * x $$\n",
    "\n",
    "De la columna\n",
    "\n",
    "| Coefficients |\n",
    "|--------------|\n",
    "| -70.32945276 |\n",
    "| 11.3407777   |\n",
    "\n",
    "Se obtienen los valores $ \\alpha = -70.32945276 $ and $ \\beta = 11.3407777 $ quedando la ecuación:\n",
    "\n",
    "$$ \\widehat{y} = -70.32945276 + (11.3407777 * x) $$"
   ]
  },
  {
   "cell_type": "code",
   "execution_count": 1,
   "metadata": {},
   "outputs": [],
   "source": [
    "vol_ventas <- c(50, 100, 150, 200, 200, 300, 400, 500, 650, 750)\n",
    "gasto_pub<- c(10, 15, 18, 20, 25, 35, 50, 55, 60, 65)\n",
    "\n",
    "inv_public <- data.frame(vol_ventas, gasto_pub)\n",
    "\n",
    "ml.inv_publicidad <- lm(inv_public$vol_ventas ~ inv_public$gasto_pub)\n",
    "\n",
    "alpha<-unname(ml.inv_publicidad$coefficients[1])\n",
    "beta<-unname(ml.inv_publicidad$coefficients[2])"
   ]
  },
  {
   "cell_type": "markdown",
   "metadata": {},
   "source": [
    "Comprobando en R, se obtiene: $\\alpha=$ -70.3294527599587 , and $\\beta=$ 11.3407776985824"
   ]
  },
  {
   "cell_type": "markdown",
   "metadata": {},
   "source": [
    "2. Obtenga el coeficiente de correlación."
   ]
  },
  {
   "cell_type": "markdown",
   "metadata": {},
   "source": [
    "De la siguiente columna se obtiene:\n",
    "\n",
    "| Regression Statistics |             |\n",
    "|-----------------------|-------------|\n",
    "| Multiple R            | 0.976434476 |\n",
    "\n",
    "$r=0.976434476$"
   ]
  },
  {
   "cell_type": "markdown",
   "metadata": {},
   "source": [
    "Comprobando en R"
   ]
  },
  {
   "cell_type": "code",
   "execution_count": 2,
   "metadata": {},
   "outputs": [],
   "source": [
    "r <- cor(x=inv_public$gasto_pub, y=inv_public$vol_ventas)"
   ]
  },
  {
   "cell_type": "markdown",
   "metadata": {},
   "source": [
    "r =  0.976434475824903"
   ]
  },
  {
   "cell_type": "markdown",
   "metadata": {},
   "source": [
    "3. Pruebe su significación. "
   ]
  },
  {
   "cell_type": "markdown",
   "metadata": {},
   "source": [
    "Para obtener el valor de tablas de $ t_{(\\frac{\\alpha}{2}, n-2)} $, hacemos lo siguiente:"
   ]
  },
  {
   "cell_type": "code",
   "execution_count": 3,
   "metadata": {},
   "outputs": [],
   "source": [
    "n <- nrow(inv_public)\n",
    "t_tabla <- qt(c(.025, .975), n-2)"
   ]
  },
  {
   "cell_type": "markdown",
   "metadata": {},
   "source": [
    "De lo anterior se obtiene el intervalo (-2.30600413520417, 2.30600413520417)\n",
    "\n",
    "Comparando con la columna de t\n",
    "\n",
    "| Variables    | t Stat       |\n",
    "|--------------|--------------|\n",
    "| Intercept    | -1.968744769 |\n",
    "| X Variable 1 | 12.79700489  |\n",
    "\n",
    "Analizando los valores de t se obtiene lo siguiente:\n",
    "\n",
    "Para la constante:\n",
    "\n",
    "$ H_{0}: \\beta_{0} = 0 \\implies \\text{La ordenada al origen es 0} $\n",
    "\n",
    "$ H_{1}: \\beta_{0} \\neq 0 \\implies \\text{La ordenada al origen}\\textbf{ no}\\text{ es 0}$\n",
    "\n",
    "-1.968744769 está _dentro_ del intervalo de t, por tanto <b>no</b> se rechaza la hipótesis nula y concluimos que la ordenada al origen es 0."
   ]
  },
  {
   "cell_type": "markdown",
   "metadata": {},
   "source": [
    "Para la variable:\n",
    "\n",
    "$ H_{0}: \\beta_{1} = 0 \\implies \\text{El valor de y es independiente del valor de x} $\n",
    "\n",
    "$ H_{1}: \\beta_{1} \\neq 0 \\implies \\text{El valor de y es dependiente del valor de x}$\n",
    "\n",
    "12.79700489 está _fuera_ del intervalo de t, por tanto se se rechaza la hipótesis nula y concluimos que la variable es buena predictora."
   ]
  },
  {
   "cell_type": "markdown",
   "metadata": {},
   "source": [
    "### Anexo:\n",
    "Aprovechando que tenemos la prueba F en nuestros resultados:\n",
    "\n",
    "<table style=\"float: left\">\n",
    "\t<thead>\n",
    "\t\t<tr class=\"\">\n",
    "\t\t\t<th>&nbsp;</th>\n",
    "\t\t\t<th>df</th>\n",
    "\t\t\t<th>SS</th>\n",
    "\t\t\t<th>MS</th>\n",
    "\t\t\t<th>F</th>\n",
    "\t\t\t<th>Significance F</th>\n",
    "\t\t</tr>\n",
    "\t</thead>\n",
    "\t<tbody>\n",
    "\t\t<tr>\n",
    "\t\t\t<td>Regression</td>\n",
    "\t\t\t<td>1</td>\n",
    "\t\t\t<td>487199.8099</td>\n",
    "\t\t\t<td>487199.8099</td>\n",
    "\t\t\t<td>163.7633342</td>\n",
    "\t\t\t<td>1.31145E-06</td>\n",
    "\t\t</tr>\n",
    "\t\t<tr>\n",
    "\t\t\t<td>Residual</td>\n",
    "\t\t\t<td>8</td>\n",
    "\t\t\t<td>23800.19007</td>\n",
    "\t\t\t<td>2975.023759</td>\n",
    "\t\t\t<td>&nbsp;</td>\n",
    "\t\t\t<td>&nbsp;</td>\n",
    "\t\t</tr>\n",
    "\t\t<tr>\n",
    "\t\t\t<td>Total</td>\n",
    "\t\t\t<td>9</td>\n",
    "\t\t\t<td>511000</td>\n",
    "\t\t\t<td>&nbsp;</td>\n",
    "\t\t\t<td>&nbsp;</td>\n",
    "\t\t\t<td/>\n",
    "\t\t</tr>\n",
    "\t</tbody>\n",
    "</table>"
   ]
  },
  {
   "cell_type": "markdown",
   "metadata": {},
   "source": [
    "Obtenemos el valor de tablas de F:"
   ]
  },
  {
   "cell_type": "code",
   "execution_count": 4,
   "metadata": {},
   "outputs": [],
   "source": [
    "f_tabla <- qf(.95, 1, 8)"
   ]
  },
  {
   "cell_type": "markdown",
   "metadata": {},
   "source": [
    "De lo anterior se obtiene que F = 5.31765507157871\n",
    "\n",
    "Haciendo una prueba de hipótesis:\n",
    "\n",
    "$ H_{0}: F \\leq F_{\\alpha} \\implies \\text{ El modelo }\\textbf{ no }\\text{ es útil para predecir } y $\n",
    "\n",
    "$ H_{1}: F \\gt F_{\\alpha} \\implies \\text{El modelo es útil para predecir } y$\n",
    "\n",
    "El valor calculado 163.7633342 es mayor que $F_{\\alpha}$, por lo tanto se rechaza la hipótesis nula y se dice que el modelo es útil en predecir $y$."
   ]
  },
  {
   "cell_type": "markdown",
   "metadata": {},
   "source": [
    "### Calculando lo mismo en R, obtenemos los mismos valores:"
   ]
  },
  {
   "cell_type": "code",
   "execution_count": 5,
   "metadata": {},
   "outputs": [
    {
     "data": {
      "text/plain": [
       "\n",
       "Call:\n",
       "lm(formula = inv_public$vol_ventas ~ inv_public$gasto_pub)\n",
       "\n",
       "Residuals:\n",
       "   Min     1Q Median     3Q    Max \n",
       "-96.71 -23.25   3.57  33.96  83.18 \n",
       "\n",
       "Coefficients:\n",
       "                     Estimate Std. Error t value Pr(>|t|)    \n",
       "(Intercept)          -70.3295    35.7230  -1.969   0.0845 .  \n",
       "inv_public$gasto_pub  11.3408     0.8862  12.797 1.31e-06 ***\n",
       "---\n",
       "Signif. codes:  0 '***' 0.001 '**' 0.01 '*' 0.05 '.' 0.1 ' ' 1\n",
       "\n",
       "Residual standard error: 54.54 on 8 degrees of freedom\n",
       "Multiple R-squared:  0.9534,\tAdjusted R-squared:  0.9476 \n",
       "F-statistic: 163.8 on 1 and 8 DF,  p-value: 1.311e-06\n"
      ]
     },
     "metadata": {},
     "output_type": "display_data"
    }
   ],
   "source": [
    "summary(ml.inv_publicidad)"
   ]
  },
  {
   "cell_type": "code",
   "execution_count": 6,
   "metadata": {
    "scrolled": true
   },
   "outputs": [
    {
     "data": {
      "text/plain": [
       "Call:\n",
       "   aov(formula = inv_public$vol_ventas ~ inv_public$gasto_pub, data = inv_public)\n",
       "\n",
       "Terms:\n",
       "                inv_public$gasto_pub Residuals\n",
       "Sum of Squares              487199.8   23800.2\n",
       "Deg. of Freedom                    1         8\n",
       "\n",
       "Residual standard error: 54.54378\n",
       "Estimated effects may be unbalanced"
      ]
     },
     "metadata": {},
     "output_type": "display_data"
    }
   ],
   "source": [
    "aov(formula=inv_public$vol_ventas ~ inv_public$gasto_pub, data=inv_public)"
   ]
  }
 ],
 "metadata": {
  "kernelspec": {
   "display_name": "R",
   "language": "R",
   "name": "ir"
  },
  "language_info": {
   "codemirror_mode": "r",
   "file_extension": ".r",
   "mimetype": "text/x-r-source",
   "name": "R",
   "pygments_lexer": "r",
   "version": "3.3.3"
  }
 },
 "nbformat": 4,
 "nbformat_minor": 2
}
