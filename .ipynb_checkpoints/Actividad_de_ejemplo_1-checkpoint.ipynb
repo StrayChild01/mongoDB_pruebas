{
 "cells": [
  {
   "cell_type": "markdown",
   "metadata": {},
   "source": [
    "# Actividad de Ejemplo 1\n",
    "\n",
    "La energía geotérmica se ha convertido en una fuente importante de energía.\n",
    "Puesto que la cantidad de energía contenida en una cierta cantidad de agua es\n",
    "función de su temperatura, un investigador se pregunta si el agua que se obtiene\n",
    "de pozos más profundos contiene más energía.\n",
    "\n",
    "Los siguientes datos fueron tomados de un artículo sobre sistemas geotérmicos:\n",
    "\n",
    "| Profundidad del pozo en mts. | Temperatura del agua en°C |\n",
    "|------------------------------|---------------------------|\n",
    "| x                            | y                         |\n",
    "| 600                          | 200                       |\n",
    "| 650                          | 230                       |\n",
    "| 700                          | 280                       |\n",
    "| 800                          | 300                       |\n",
    "| 800                          | 310                       |\n",
    "| 1000                         | 350                       |\n",
    "| 1000                         | 330                       |\n",
    "| 1000                         | 360                       |\n",
    "| 1500                         | 410                       |"
   ]
  },
  {
   "cell_type": "markdown",
   "metadata": {},
   "source": [
    "1.- Obtenga el modelo de regresión lineal"
   ]
  },
  {
   "cell_type": "code",
   "execution_count": 1,
   "metadata": {},
   "outputs": [
    {
     "data": {
      "text/plain": [
       "\n",
       "Call:\n",
       "lm(formula = sist_geotem$prof_pozo ~ sist_geotem$temp_agua)\n",
       "\n",
       "Coefficients:\n",
       "          (Intercept)  sist_geotem$temp_agua  \n",
       "             -291.950                  3.855  \n"
      ]
     },
     "metadata": {},
     "output_type": "display_data"
    }
   ],
   "source": [
    "prof_pozo <- c(600, 650, 700, 800, 800, 1000, 1000, 1000, 1500)\n",
    "temp_agua <- c(200, 230, 280, 300, 310, 350, 330, 360, 410)\n",
    "sist_geotem <- data.frame(prof_pozo, temp_agua)\n",
    "\n",
    "lm_sist_geotem <- lm(sist_geotem$prof_pozo ~ sist_geotem$temp_agua)\n",
    "lm_sist_geotem"
   ]
  },
  {
   "cell_type": "markdown",
   "metadata": {},
   "source": [
    "La recta queda definida por:\n",
    "$$ y = -291.950 + 3.855x $$"
   ]
  },
  {
   "cell_type": "code",
   "execution_count": 2,
   "metadata": {},
   "outputs": [
    {
     "data": {
      "image/png": "[encoded data removed]",
      "text/plain": [
       "plot without title"
      ]
     },
     "metadata": {},
     "output_type": "display_data"
    }
   ],
   "source": [
    "#Haciendo los gráficos:\n",
    "#Escondemos mensajes para que no los imprima en el notebook\n",
    "suppressMessages(library(ggplot2))\n",
    "suppressMessages(library(dplyr))\n",
    "suppressMessages(library(repr))\n",
    "\n",
    "# Se cambia el tamaño del gráfico a 4x3 pulgadas\n",
    "options(repr.plot.width=4, repr.plot.height=3)\n",
    "\n",
    "mi_grafico <- sist_geotem %>%\n",
    "  ggplot(aes(x=prof_pozo, y=temp_agua)) +\n",
    "    ggtitle(\"Sistemas geotérmicos\") +\n",
    "    theme(plot.title = element_text(hjust = 0.5)) + # Para centrar título de la gráfica\n",
    "    geom_point(stat=\"identity\") +\n",
    "    geom_smooth(method=\"lm\" , se = FALSE) # Esto es para agregar la recta de regresión\n",
    "    # se  = FALSE es para no mostrar el intervalo de confianza\n",
    "plot(mi_grafico)"
   ]
  },
  {
   "cell_type": "markdown",
   "metadata": {},
   "source": [
    "2.- Obtenga el coeficiente de correlación:"
   ]
  },
  {
   "cell_type": "code",
   "execution_count": 3,
   "metadata": {},
   "outputs": [
    {
     "data": {
      "text/html": [
       "<table>\n",
       "<thead><tr><th></th><th scope=col>prof_pozo</th><th scope=col>temp_agua</th></tr></thead>\n",
       "<tbody>\n",
       "\t<tr><th scope=row>prof_pozo</th><td>1.0000000</td><td>0.9153116</td></tr>\n",
       "\t<tr><th scope=row>temp_agua</th><td>0.9153116</td><td>1.0000000</td></tr>\n",
       "</tbody>\n",
       "</table>\n"
      ],
      "text/latex": [
       "\\begin{tabular}{r|ll}\n",
       "  & prof\\_pozo & temp\\_agua\\\\\n",
       "\\hline\n",
       "\tprof\\_pozo & 1.0000000 & 0.9153116\\\\\n",
       "\ttemp\\_agua & 0.9153116 & 1.0000000\\\\\n",
       "\\end{tabular}\n"
      ],
      "text/markdown": [
       "\n",
       "| <!--/--> | prof_pozo | temp_agua | \n",
       "|---|---|\n",
       "| prof_pozo | 1.0000000 | 0.9153116 | \n",
       "| temp_agua | 0.9153116 | 1.0000000 | \n",
       "\n",
       "\n"
      ],
      "text/plain": [
       "          prof_pozo temp_agua\n",
       "prof_pozo 1.0000000 0.9153116\n",
       "temp_agua 0.9153116 1.0000000"
      ]
     },
     "metadata": {},
     "output_type": "display_data"
    }
   ],
   "source": [
    "r <- cor(sist_geotem)\n",
    "r"
   ]
  },
  {
   "cell_type": "markdown",
   "metadata": {},
   "source": [
    "3.- Pruebe la significancia:\n",
    "\n",
    "$$ H_{0} : \\text{El agua que se obtiene de pozos más profundos tiene menor o igual energía}$$\n",
    "$$ H_{1} : \\text{El agua que se obtiene de pozos más profundos tiene mayor energía}$$\n",
    "\n"
   ]
  },
  {
   "cell_type": "code",
   "execution_count": 4,
   "metadata": {},
   "outputs": [
    {
     "name": "stdout",
     "output_type": "stream",
     "text": [
      "[1] \"t calculado = 6.0129326480908\"\n"
     ]
    }
   ],
   "source": [
    "r <- r[1,2]\n",
    "n <- nrow(sist_geotem)     \n",
    "t_calculado <- (r * sqrt(n - 2)) / sqrt(1 - (r^2))\n",
    "print(paste(\"t calculado =\", t_calculado))"
   ]
  },
  {
   "cell_type": "code",
   "execution_count": 5,
   "metadata": {},
   "outputs": [
    {
     "data": {
      "text/html": [
       "-2.36462425159278"
      ],
      "text/latex": [
       "-2.36462425159278"
      ],
      "text/markdown": [
       "-2.36462425159278"
      ],
      "text/plain": [
       "[1] -2.364624"
      ]
     },
     "metadata": {},
     "output_type": "display_data"
    },
    {
     "data": {
      "text/html": [
       "2.36462425159278"
      ],
      "text/latex": [
       "2.36462425159278"
      ],
      "text/markdown": [
       "2.36462425159278"
      ],
      "text/plain": [
       "[1] 2.364624"
      ]
     },
     "metadata": {},
     "output_type": "display_data"
    }
   ],
   "source": [
    "alfa_menor <- .025\n",
    "alfa_mayor <- 1 - alfa_menor\n",
    "\n",
    "t_tabla_menor <- qt(alfa_menor, df = n-2)\n",
    "t_tabla_mayor <- qt(alfa_mayor, df = n-2)\n",
    "\n",
    "t_tabla_menor\n",
    "t_tabla_mayor"
   ]
  },
  {
   "cell_type": "markdown",
   "metadata": {},
   "source": [
    "De lo anterior se obtiene que\n",
    "\n",
    "De lado izquierdo $ t_{calculado}\\geq -2.36462425159278$ , <b>Se cumple</b>\n",
    "\n",
    "Del lado derecho $ t_{calculado}\\leq 2.36462425159278$, <b>No se cumple</b>\n",
    "\n",
    "Por lo tanto del lado derecho cae en área de rechazo, y se rechaza $H_{0}$.\n",
    "\n",
    "La hipótesis de que a mayor profundidad, el pozo contiene mayor energía <b>no se rechaza</b>"
   ]
  }
 ],
 "metadata": {
  "kernelspec": {
   "display_name": "R",
   "language": "R",
   "name": "ir"
  },
  "language_info": {
   "codemirror_mode": "r",
   "file_extension": ".r",
   "mimetype": "text/x-r-source",
   "name": "R",
   "pygments_lexer": "r",
   "version": "3.3.3"
  }
 },
 "nbformat": 4,
 "nbformat_minor": 2
}
