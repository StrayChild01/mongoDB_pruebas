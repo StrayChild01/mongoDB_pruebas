{
 "cells": [
  {
   "cell_type": "markdown",
   "metadata": {},
   "source": [
    "# Ejemplo 1, Unidad 5\n",
    "\n",
    "Los siguientes datos representan mediciones de resistencia al doblamiento y a la torsión de 12 raquetas de distintas marcas."
   ]
  },
  {
   "cell_type": "code",
   "execution_count": 1,
   "metadata": {},
   "outputs": [
    {
     "data": {
      "text/html": [
       "<table>\n",
       "<thead><tr><th scope=col>marca</th><th scope=col>resistencia_dob</th><th scope=col>resistencia_tor</th></tr></thead>\n",
       "<tbody>\n",
       "\t<tr><td>Dunlop Maxply Fort  </td><td>419                 </td><td>227                 </td></tr>\n",
       "\t<tr><td>Garcia 240          </td><td>407                 </td><td>231                 </td></tr>\n",
       "\t<tr><td>Bancroft Bjorn Borg </td><td>363                 </td><td>200                 </td></tr>\n",
       "\t<tr><td>Wilson Jack Kramer  </td><td>360                 </td><td>211                 </td></tr>\n",
       "\t<tr><td>Davis Classic       </td><td>257                 </td><td>182                 </td></tr>\n",
       "\t<tr><td>Spalding Smasher III</td><td>622                 </td><td>304                 </td></tr>\n",
       "\t<tr><td>Yonex T-7500        </td><td>424                 </td><td>384                 </td></tr>\n",
       "\t<tr><td>Prince              </td><td>359                 </td><td>194                 </td></tr>\n",
       "\t<tr><td>Wilson T-400        </td><td>346                 </td><td>158                 </td></tr>\n",
       "\t<tr><td>Yamaha YFG-30       </td><td>556                 </td><td>225                 </td></tr>\n",
       "\t<tr><td>Head Competition II </td><td>474                 </td><td>305                 </td></tr>\n",
       "\t<tr><td>Adidas Adistar      </td><td>441                 </td><td>235                 </td></tr>\n",
       "</tbody>\n",
       "</table>\n"
      ],
      "text/latex": [
       "\\begin{tabular}{r|lll}\n",
       " marca & resistencia\\_dob & resistencia\\_tor\\\\\n",
       "\\hline\n",
       "\t Dunlop Maxply Fort   & 419                  & 227                 \\\\\n",
       "\t Garcia 240           & 407                  & 231                 \\\\\n",
       "\t Bancroft Bjorn Borg  & 363                  & 200                 \\\\\n",
       "\t Wilson Jack Kramer   & 360                  & 211                 \\\\\n",
       "\t Davis Classic        & 257                  & 182                 \\\\\n",
       "\t Spalding Smasher III & 622                  & 304                 \\\\\n",
       "\t Yonex T-7500         & 424                  & 384                 \\\\\n",
       "\t Prince               & 359                  & 194                 \\\\\n",
       "\t Wilson T-400         & 346                  & 158                 \\\\\n",
       "\t Yamaha YFG-30        & 556                  & 225                 \\\\\n",
       "\t Head Competition II  & 474                  & 305                 \\\\\n",
       "\t Adidas Adistar       & 441                  & 235                 \\\\\n",
       "\\end{tabular}\n"
      ],
      "text/markdown": [
       "\n",
       "marca | resistencia_dob | resistencia_tor | \n",
       "|---|---|---|---|---|---|---|---|---|---|---|---|\n",
       "| Dunlop Maxply Fort   | 419                  | 227                  | \n",
       "| Garcia 240           | 407                  | 231                  | \n",
       "| Bancroft Bjorn Borg  | 363                  | 200                  | \n",
       "| Wilson Jack Kramer   | 360                  | 211                  | \n",
       "| Davis Classic        | 257                  | 182                  | \n",
       "| Spalding Smasher III | 622                  | 304                  | \n",
       "| Yonex T-7500         | 424                  | 384                  | \n",
       "| Prince               | 359                  | 194                  | \n",
       "| Wilson T-400         | 346                  | 158                  | \n",
       "| Yamaha YFG-30        | 556                  | 225                  | \n",
       "| Head Competition II  | 474                  | 305                  | \n",
       "| Adidas Adistar       | 441                  | 235                  | \n",
       "\n",
       "\n"
      ],
      "text/plain": [
       "   marca                resistencia_dob resistencia_tor\n",
       "1  Dunlop Maxply Fort   419             227            \n",
       "2  Garcia 240           407             231            \n",
       "3  Bancroft Bjorn Borg  363             200            \n",
       "4  Wilson Jack Kramer   360             211            \n",
       "5  Davis Classic        257             182            \n",
       "6  Spalding Smasher III 622             304            \n",
       "7  Yonex T-7500         424             384            \n",
       "8  Prince               359             194            \n",
       "9  Wilson T-400         346             158            \n",
       "10 Yamaha YFG-30        556             225            \n",
       "11 Head Competition II  474             305            \n",
       "12 Adidas Adistar       441             235            "
      ]
     },
     "metadata": {},
     "output_type": "display_data"
    },
    {
     "data": {
      "image/png": "[encoded data removed]",
      "text/plain": [
       "plot without title"
      ]
     },
     "metadata": {},
     "output_type": "display_data"
    }
   ],
   "source": [
    "#Escondemos mensajes para que no los imprima en el notebook\n",
    "suppressMessages(library(ggplot2))\n",
    "suppressMessages(library(dplyr))\n",
    "marca <- c(\n",
    "    \"Dunlop Maxply Fort\",\n",
    "    \"Garcia 240\",\n",
    "    \"Bancroft Bjorn Borg\",\n",
    "    \"Wilson Jack Kramer\",\n",
    "    \"Davis Classic\",\n",
    "    \"Spalding Smasher III\",\n",
    "    \"Yonex T-7500\",\n",
    "    \"Prince\",\n",
    "    \"Wilson T-400\",\n",
    "    \"Yamaha YFG-30\",\n",
    "    \"Head Competition II\",\n",
    "    \"Adidas Adistar\"\n",
    ")\n",
    "\n",
    "#Resistencia al doblamiento(x)\n",
    "resistencia_dob <- c(419, 407, 363, 360, 257, 622,\n",
    "                     424, 359, 346, 556, 474, 441\n",
    ")\n",
    "\n",
    "#Resistencia a la torsión(y)\n",
    "resistencia_tor <- c(227, 231, 200, 211, 182, 304,\n",
    "                     384, 194, 158, 225, 305, 235\n",
    ")\n",
    "\n",
    "mediciones <- data.frame(marca, resistencia_dob, resistencia_tor)\n",
    "mediciones\n",
    "\n",
    "mi_grafico <- mediciones %>%\n",
    "  ggplot(aes(x=resistencia_dob, y=resistencia_tor)) +\n",
    "    ggtitle(\"Resistencia por marcas\") +\n",
    "    theme(plot.title = element_text(hjust = 0.5)) + # Para centrar título de la gráfica\n",
    "    geom_point(stat=\"identity\") +\n",
    "    geom_smooth(method=\"lm\" , se = FALSE) #Esto es para agregar la línea\n",
    "    # se  = FALSE es para no mostrar el intervalo de confianza\n",
    "plot(mi_grafico)"
   ]
  },
  {
   "cell_type": "code",
   "execution_count": 2,
   "metadata": {},
   "outputs": [
    {
     "name": "stdout",
     "output_type": "stream",
     "text": [
      "[1] \"x media =  419 s_x 97.9081201943945\"\n",
      "[1] \"y media =  238 y_x 63.3561362458286\"\n"
     ]
    }
   ],
   "source": [
    "x_barra <- mean(mediciones$resistencia_dob)\n",
    "s_x <- sd(mediciones$resistencia_dob)\n",
    "y_barra <- mean(mediciones$resistencia_tor)\n",
    "s_y<- sd(mediciones$resistencia_tor)\n",
    "print(paste(\"x media = \", x_barra, \"s_x\", s_x))\n",
    "print(paste(\"y media = \", y_barra, \"y_x\", s_y))"
   ]
  },
  {
   "cell_type": "code",
   "execution_count": 3,
   "metadata": {},
   "outputs": [
    {
     "data": {
      "text/html": [
       "<table>\n",
       "<thead><tr><th></th><th scope=col>resistencia_dob</th><th scope=col>resistencia_tor</th></tr></thead>\n",
       "<tbody>\n",
       "\t<tr><th scope=row>resistencia_dob</th><td>9586</td><td>3393</td></tr>\n",
       "\t<tr><th scope=row>resistencia_tor</th><td>3393</td><td>4014</td></tr>\n",
       "</tbody>\n",
       "</table>\n"
      ],
      "text/latex": [
       "\\begin{tabular}{r|ll}\n",
       "  & resistencia\\_dob & resistencia\\_tor\\\\\n",
       "\\hline\n",
       "\tresistencia\\_dob & 9586 & 3393\\\\\n",
       "\tresistencia\\_tor & 3393 & 4014\\\\\n",
       "\\end{tabular}\n"
      ],
      "text/markdown": [
       "\n",
       "| <!--/--> | resistencia_dob | resistencia_tor | \n",
       "|---|---|\n",
       "| resistencia_dob | 9586 | 3393 | \n",
       "| resistencia_tor | 3393 | 4014 | \n",
       "\n",
       "\n"
      ],
      "text/plain": [
       "                resistencia_dob resistencia_tor\n",
       "resistencia_dob 9586            3393           \n",
       "resistencia_tor 3393            4014           "
      ]
     },
     "metadata": {},
     "output_type": "display_data"
    }
   ],
   "source": [
    "cov(mediciones[,2:3])"
   ]
  },
  {
   "cell_type": "code",
   "execution_count": 4,
   "metadata": {},
   "outputs": [
    {
     "data": {
      "text/html": [
       "<table>\n",
       "<thead><tr><th></th><th scope=col>resistencia_dob</th><th scope=col>resistencia_tor</th></tr></thead>\n",
       "<tbody>\n",
       "\t<tr><th scope=row>resistencia_dob</th><td>1.0000000</td><td>0.5469863</td></tr>\n",
       "\t<tr><th scope=row>resistencia_tor</th><td>0.5469863</td><td>1.0000000</td></tr>\n",
       "</tbody>\n",
       "</table>\n"
      ],
      "text/latex": [
       "\\begin{tabular}{r|ll}\n",
       "  & resistencia\\_dob & resistencia\\_tor\\\\\n",
       "\\hline\n",
       "\tresistencia\\_dob & 1.0000000 & 0.5469863\\\\\n",
       "\tresistencia\\_tor & 0.5469863 & 1.0000000\\\\\n",
       "\\end{tabular}\n"
      ],
      "text/markdown": [
       "\n",
       "| <!--/--> | resistencia_dob | resistencia_tor | \n",
       "|---|---|\n",
       "| resistencia_dob | 1.0000000 | 0.5469863 | \n",
       "| resistencia_tor | 0.5469863 | 1.0000000 | \n",
       "\n",
       "\n"
      ],
      "text/plain": [
       "                resistencia_dob resistencia_tor\n",
       "resistencia_dob 1.0000000       0.5469863      \n",
       "resistencia_tor 0.5469863       1.0000000      "
      ]
     },
     "metadata": {},
     "output_type": "display_data"
    },
    {
     "name": "stdout",
     "output_type": "stream",
     "text": [
      "[1] \"r = 0.546986317954248\"\n"
     ]
    }
   ],
   "source": [
    "r <- cor(mediciones[,2:3])\n",
    "r\n",
    "r <- r[1,2]\n",
    "print(paste(\"r =\", r))"
   ]
  },
  {
   "cell_type": "code",
   "execution_count": 5,
   "metadata": {
    "scrolled": true
   },
   "outputs": [
    {
     "name": "stdout",
     "output_type": "stream",
     "text": [
      "[1] \"t calculado = 2.06622478842892\"\n"
     ]
    }
   ],
   "source": [
    "n <- nrow(mediciones)      \n",
    "t_calculado <- (r * sqrt(n - 2)) / sqrt(1 - (r^2))\n",
    "print(paste(\"t calculado =\", t_calculado))"
   ]
  },
  {
   "cell_type": "code",
   "execution_count": 6,
   "metadata": {},
   "outputs": [
    {
     "data": {
      "text/html": [
       "-2.22813885198627"
      ],
      "text/latex": [
       "-2.22813885198627"
      ],
      "text/markdown": [
       "-2.22813885198627"
      ],
      "text/plain": [
       "[1] -2.228139"
      ]
     },
     "metadata": {},
     "output_type": "display_data"
    }
   ],
   "source": [
    "t_tabla <- qt(.025, df = 10)\n",
    "t_tabla"
   ]
  },
  {
   "cell_type": "code",
   "execution_count": 7,
   "metadata": {},
   "outputs": [
    {
     "data": {
      "text/html": [
       "<table>\n",
       "<thead><tr><th scope=col>.id</th><th scope=col>N</th><th scope=col>resistencia_dob</th><th scope=col>sd</th><th scope=col>se</th><th scope=col>ci</th></tr></thead>\n",
       "<tbody>\n",
       "\t<tr><td>NA      </td><td>12      </td><td>419     </td><td>97.90812</td><td>28.26364</td><td>62.20785</td></tr>\n",
       "</tbody>\n",
       "</table>\n"
      ],
      "text/latex": [
       "\\begin{tabular}{r|llllll}\n",
       " .id & N & resistencia\\_dob & sd & se & ci\\\\\n",
       "\\hline\n",
       "\t NA       & 12       & 419      & 97.90812 & 28.26364 & 62.20785\\\\\n",
       "\\end{tabular}\n"
      ],
      "text/markdown": [
       "\n",
       ".id | N | resistencia_dob | sd | se | ci | \n",
       "|---|\n",
       "| NA       | 12       | 419      | 97.90812 | 28.26364 | 62.20785 | \n",
       "\n",
       "\n"
      ],
      "text/plain": [
       "  .id N  resistencia_dob sd       se       ci      \n",
       "1 NA  12 419             97.90812 28.26364 62.20785"
      ]
     },
     "metadata": {},
     "output_type": "display_data"
    },
    {
     "data": {
      "text/plain": [
       "\n",
       "\tPearson's product-moment correlation\n",
       "\n",
       "data:  mediciones$resistencia_dob and mediciones$resistencia_tor\n",
       "t = 2.0662, df = 10, p-value = 0.0657\n",
       "alternative hypothesis: true correlation is not equal to 0\n",
       "95 percent confidence interval:\n",
       " -0.03923035  0.85308928\n",
       "sample estimates:\n",
       "      cor \n",
       "0.5469863 \n"
      ]
     },
     "metadata": {},
     "output_type": "display_data"
    }
   ],
   "source": [
    "suppressMessages(library(Rmisc))\n",
    "summarySE(data=mediciones, measurevar = \"resistencia_dob\")\n",
    "\n",
    "#suppressMessages(library(BSDA))\n",
    "cor.test(mediciones$resistencia_dob, mediciones$resistencia_tor, method = \"pearson\")"
   ]
  },
  {
   "cell_type": "code",
   "execution_count": 8,
   "metadata": {},
   "outputs": [
    {
     "data": {
      "text/html": [
       "2.02696965"
      ],
      "text/latex": [
       "2.02696965"
      ],
      "text/markdown": [
       "2.02696965"
      ],
      "text/plain": [
       "[1] 2.02697"
      ]
     },
     "metadata": {},
     "output_type": "display_data"
    },
    {
     "data": {
      "text/html": [
       "2.91928928"
      ],
      "text/latex": [
       "2.91928928"
      ],
      "text/markdown": [
       "2.91928928"
      ],
      "text/plain": [
       "[1] 2.919289"
      ]
     },
     "metadata": {},
     "output_type": "display_data"
    },
    {
     "data": {
      "text/html": [
       "0.484834038322432"
      ],
      "text/latex": [
       "0.484834038322432"
      ],
      "text/markdown": [
       "0.484834038322432"
      ],
      "text/plain": [
       "[1] 0.484834"
      ]
     },
     "metadata": {},
     "output_type": "display_data"
    }
   ],
   "source": [
    "2.0662 - 0.03923035\n",
    "2.0662 + 0.85308928\n",
    "alfa <-.05\n",
    "#t_tabla <- qt(alfa/2, df=n-2) # Cola izquierda\n",
    "pt(-0.03923035, df=10-2)"
   ]
  },
  {
   "cell_type": "code",
   "execution_count": 9,
   "metadata": {},
   "outputs": [
    {
     "data": {
      "text/plain": [
       "\n",
       "Call:\n",
       "lm(formula = resistencia_tor ~ resistencia_dob, data = mediciones)\n",
       "\n",
       "Coefficients:\n",
       "    (Intercept)  resistencia_dob  \n",
       "         89.693            0.354  \n"
      ]
     },
     "metadata": {},
     "output_type": "display_data"
    }
   ],
   "source": [
    "# Obtenemos el modelo de la recta\n",
    "lm_mediciones <- lm (formula=resistencia_tor ~ resistencia_dob, data=mediciones)\n",
    "lm_mediciones"
   ]
  },
  {
   "cell_type": "code",
   "execution_count": 10,
   "metadata": {},
   "outputs": [
    {
     "data": {
      "text/plain": [
       "\n",
       "Call:\n",
       "lm(formula = resistencia_tor ~ resistencia_dob, data = mediciones)\n",
       "\n",
       "Residuals:\n",
       "    Min      1Q  Median      3Q     Max \n",
       "-61.492 -19.325  -8.452  -1.729 144.230 \n",
       "\n",
       "Coefficients:\n",
       "                Estimate Std. Error t value Pr(>|t|)  \n",
       "(Intercept)      89.6934    73.5509   1.219   0.2506  \n",
       "resistencia_dob   0.3540     0.1713   2.066   0.0657 .\n",
       "---\n",
       "Signif. codes:  0 '***' 0.001 '**' 0.01 '*' 0.05 '.' 0.1 ' ' 1\n",
       "\n",
       "Residual standard error: 55.63 on 10 degrees of freedom\n",
       "Multiple R-squared:  0.2992,\tAdjusted R-squared:  0.2291 \n",
       "F-statistic: 4.269 on 1 and 10 DF,  p-value: 0.0657\n"
      ]
     },
     "metadata": {},
     "output_type": "display_data"
    }
   ],
   "source": [
    "# Obtenemos los detalles de los estadísticos\n",
    "summary(lm_mediciones)"
   ]
  }
 ],
 "metadata": {
  "kernelspec": {
   "display_name": "R",
   "language": "R",
   "name": "ir"
  },
  "language_info": {
   "codemirror_mode": "r",
   "file_extension": ".r",
   "mimetype": "text/x-r-source",
   "name": "R",
   "pygments_lexer": "r",
   "version": "3.3.3"
  }
 },
 "nbformat": 4,
 "nbformat_minor": 2
}
