{
 "cells": [
  {
   "cell_type": "markdown",
   "metadata": {},
   "source": [
    "# Ejemplo Dplyr\n",
    "\n",
    "Este es un ejemplo de cómo usar dplyr usando un ejemplo de una pupusería.\n"
   ]
  },
  {
   "cell_type": "code",
   "execution_count": 1,
   "metadata": {},
   "outputs": [],
   "source": [
    "suppressMessages(library(dplyr))\n",
    "suppressMessages(library(stringr))\n",
    "\n",
    "tirar_pupusa <- function (tipo_pupusa=\"queso\"){\n",
    "    mensaje <- paste(\"Tirando pupusa\",tipo_pupusa)\n",
    "    #print(mensaje)\n",
    "    estado_pupusa <- \"pupusa hecha\"\n",
    "    return(estado_pupusa)\n",
    "}\n",
    "\n",
    "preparar_bebida <- function (tipo_bebida=\"agua\"){\n",
    "    mensaje <- paste(\"Sirviendo\",tipo_bebida)\n",
    "    #print(mensaje)\n",
    "    return (\"bebida servida\")\n",
    "}\n",
    "\n",
    "#tirar_pupusa(\"revuelta\")\n",
    "#preparar_bebida(\"Suprema\")"
   ]
  },
  {
   "cell_type": "code",
   "execution_count": 2,
   "metadata": {},
   "outputs": [
    {
     "data": {
      "text/html": [
       "<table>\n",
       "<thead><tr><th scope=col>concepto</th><th scope=col>cantidad</th></tr></thead>\n",
       "<tbody>\n",
       "\t<tr><td>pupusa revuelta        </td><td>1                      </td></tr>\n",
       "\t<tr><td>pupusa queso con loroco</td><td>3                      </td></tr>\n",
       "\t<tr><td>pupusa frijol con queso</td><td>3                      </td></tr>\n",
       "\t<tr><td>pupusa chipilin        </td><td>5                      </td></tr>\n",
       "\t<tr><td>suprema                </td><td>2                      </td></tr>\n",
       "\t<tr><td>horchata               </td><td>1                      </td></tr>\n",
       "</tbody>\n",
       "</table>\n"
      ],
      "text/latex": [
       "\\begin{tabular}{r|ll}\n",
       " concepto & cantidad\\\\\n",
       "\\hline\n",
       "\t pupusa revuelta         & 1                      \\\\\n",
       "\t pupusa queso con loroco & 3                      \\\\\n",
       "\t pupusa frijol con queso & 3                      \\\\\n",
       "\t pupusa chipilin         & 5                      \\\\\n",
       "\t suprema                 & 2                      \\\\\n",
       "\t horchata                & 1                      \\\\\n",
       "\\end{tabular}\n"
      ],
      "text/markdown": [
       "\n",
       "concepto | cantidad | \n",
       "|---|---|---|---|---|---|\n",
       "| pupusa revuelta         | 1                       | \n",
       "| pupusa queso con loroco | 3                       | \n",
       "| pupusa frijol con queso | 3                       | \n",
       "| pupusa chipilin         | 5                       | \n",
       "| suprema                 | 2                       | \n",
       "| horchata                | 1                       | \n",
       "\n",
       "\n"
      ],
      "text/plain": [
       "  concepto                cantidad\n",
       "1 pupusa revuelta         1       \n",
       "2 pupusa queso con loroco 3       \n",
       "3 pupusa frijol con queso 3       \n",
       "4 pupusa chipilin         5       \n",
       "5 suprema                 2       \n",
       "6 horchata                1       "
      ]
     },
     "metadata": {},
     "output_type": "display_data"
    }
   ],
   "source": [
    "# Creamos el dataset de la orden\n",
    "concepto <- c(\"pupusa revuelta\",\n",
    "              \"pupusa queso con loroco\", \n",
    "              \"pupusa frijol con queso\",\n",
    "              \"pupusa chipilin\",\n",
    "              \"suprema\",\n",
    "              \"horchata\"\n",
    "             )\n",
    "\n",
    "cantidad <- c(1, 3, 3, 5, 2, 1)\n",
    "orden <- data.frame(concepto, cantidad)\n",
    "orden"
   ]
  },
  {
   "cell_type": "code",
   "execution_count": 3,
   "metadata": {},
   "outputs": [
    {
     "data": {
      "text/html": [
       "<table>\n",
       "<thead><tr><th scope=col>concepto</th><th scope=col>cantidad</th><th scope=col>estado</th></tr></thead>\n",
       "<tbody>\n",
       "\t<tr><td>pupusa revuelta        </td><td>1                      </td><td>hecho                  </td></tr>\n",
       "\t<tr><td>pupusa queso con loroco</td><td>3                      </td><td>hecho                  </td></tr>\n",
       "\t<tr><td>pupusa frijol con queso</td><td>3                      </td><td>hecho                  </td></tr>\n",
       "\t<tr><td>suprema                </td><td>2                      </td><td>hecho                  </td></tr>\n",
       "\t<tr><td>horchata               </td><td>1                      </td><td>hecho                  </td></tr>\n",
       "</tbody>\n",
       "</table>\n"
      ],
      "text/latex": [
       "\\begin{tabular}{r|lll}\n",
       " concepto & cantidad & estado\\\\\n",
       "\\hline\n",
       "\t pupusa revuelta         & 1                       & hecho                  \\\\\n",
       "\t pupusa queso con loroco & 3                       & hecho                  \\\\\n",
       "\t pupusa frijol con queso & 3                       & hecho                  \\\\\n",
       "\t suprema                 & 2                       & hecho                  \\\\\n",
       "\t horchata                & 1                       & hecho                  \\\\\n",
       "\\end{tabular}\n"
      ],
      "text/markdown": [
       "\n",
       "concepto | cantidad | estado | \n",
       "|---|---|---|---|---|\n",
       "| pupusa revuelta         | 1                       | hecho                   | \n",
       "| pupusa queso con loroco | 3                       | hecho                   | \n",
       "| pupusa frijol con queso | 3                       | hecho                   | \n",
       "| suprema                 | 2                       | hecho                   | \n",
       "| horchata                | 1                       | hecho                   | \n",
       "\n",
       "\n"
      ],
      "text/plain": [
       "  concepto                cantidad estado\n",
       "1 pupusa revuelta         1        hecho \n",
       "2 pupusa queso con loroco 3        hecho \n",
       "3 pupusa frijol con queso 3        hecho \n",
       "4 suprema                 2        hecho \n",
       "5 horchata                1        hecho "
      ]
     },
     "metadata": {},
     "output_type": "display_data"
    }
   ],
   "source": [
    "orden_entregada <-\n",
    "    orden %>%\n",
    "    filter(concepto != \"pupusa chipilin\") %>% #se filtran las pupusas de chipilin\n",
    "    mutate(estado = if_else(\n",
    "                concepto == \"suprema\" | concepto == \"horchata\", # condición\n",
    "                preparar_bebida(concepto), # si es verdadero\n",
    "                NA_character_ # si no es verdadero\n",
    "            )\n",
    "    ) %>%\n",
    "    # se sirven las bebidas y se pone NA si no es suprema u horchata. Además se\n",
    "    # agrega el campo estado, para saber si está hecho o no.\n",
    "    mutate(estado = if_else(\n",
    "                is.na(estado) & grepl(\"pupusa\", concepto),\n",
    "                tirar_pupusa(concepto),\n",
    "                estado\n",
    "            )\n",
    "    ) %>%\n",
    "    # Se preparan las pupusas y se deja el campo estado como estaba\n",
    "    mutate(estado=replace(estado, str_detect(estado, \"hecha|servida\"), \"hecho\"))\n",
    "    # Se reemplazan las palabras \"hecha\" y \"servida\" por \"hecho\"\n",
    "orden_entregada"
   ]
  },
  {
   "cell_type": "code",
   "execution_count": 4,
   "metadata": {},
   "outputs": [
    {
     "data": {
      "text/html": [
       "<table>\n",
       "<thead><tr><th scope=col>producto</th><th scope=col>precio</th></tr></thead>\n",
       "<tbody>\n",
       "\t<tr><td>pupusa    </td><td>1.00      </td></tr>\n",
       "\t<tr><td>yuca frita</td><td>2.00      </td></tr>\n",
       "\t<tr><td>horchata  </td><td>1.50      </td></tr>\n",
       "\t<tr><td>suprema   </td><td>2.75      </td></tr>\n",
       "</tbody>\n",
       "</table>\n"
      ],
      "text/latex": [
       "\\begin{tabular}{r|ll}\n",
       " producto & precio\\\\\n",
       "\\hline\n",
       "\t pupusa     & 1.00      \\\\\n",
       "\t yuca frita & 2.00      \\\\\n",
       "\t horchata   & 1.50      \\\\\n",
       "\t suprema    & 2.75      \\\\\n",
       "\\end{tabular}\n"
      ],
      "text/markdown": [
       "\n",
       "producto | precio | \n",
       "|---|---|---|---|\n",
       "| pupusa     | 1.00       | \n",
       "| yuca frita | 2.00       | \n",
       "| horchata   | 1.50       | \n",
       "| suprema    | 2.75       | \n",
       "\n",
       "\n"
      ],
      "text/plain": [
       "  producto   precio\n",
       "1 pupusa     1.00  \n",
       "2 yuca frita 2.00  \n",
       "3 horchata   1.50  \n",
       "4 suprema    2.75  "
      ]
     },
     "metadata": {},
     "output_type": "display_data"
    }
   ],
   "source": [
    "# Creamos el dataset de los precios.\n",
    "producto <- c(\"pupusa\", \"yuca frita\", \"horchata\", \"suprema\")\n",
    "precio <- c(1, 2, 1.5, 2.75)\n",
    "lista_precios <- data.frame(producto, precio)\n",
    "lista_precios"
   ]
  },
  {
   "cell_type": "code",
   "execution_count": 5,
   "metadata": {},
   "outputs": [
    {
     "name": "stderr",
     "output_type": "stream",
     "text": [
      "Warning message:\n",
      "\"Column `concepto`/`producto` joining factors with different levels, coercing to character vector\""
     ]
    },
    {
     "data": {
      "text/html": [
       "<table>\n",
       "<thead><tr><th scope=col>concepto</th><th scope=col>cantidad</th><th scope=col>estado</th><th scope=col>precio</th></tr></thead>\n",
       "<tbody>\n",
       "\t<tr><td>pupusa revuelta        </td><td>1                      </td><td>hecho                  </td><td>  NA                   </td></tr>\n",
       "\t<tr><td>pupusa queso con loroco</td><td>3                      </td><td>hecho                  </td><td>  NA                   </td></tr>\n",
       "\t<tr><td>pupusa frijol con queso</td><td>3                      </td><td>hecho                  </td><td>  NA                   </td></tr>\n",
       "\t<tr><td>suprema                </td><td>2                      </td><td>hecho                  </td><td>2.75                   </td></tr>\n",
       "\t<tr><td>horchata               </td><td>1                      </td><td>hecho                  </td><td>1.50                   </td></tr>\n",
       "</tbody>\n",
       "</table>\n"
      ],
      "text/latex": [
       "\\begin{tabular}{r|llll}\n",
       " concepto & cantidad & estado & precio\\\\\n",
       "\\hline\n",
       "\t pupusa revuelta         & 1                       & hecho                   &   NA                   \\\\\n",
       "\t pupusa queso con loroco & 3                       & hecho                   &   NA                   \\\\\n",
       "\t pupusa frijol con queso & 3                       & hecho                   &   NA                   \\\\\n",
       "\t suprema                 & 2                       & hecho                   & 2.75                   \\\\\n",
       "\t horchata                & 1                       & hecho                   & 1.50                   \\\\\n",
       "\\end{tabular}\n"
      ],
      "text/markdown": [
       "\n",
       "concepto | cantidad | estado | precio | \n",
       "|---|---|---|---|---|\n",
       "| pupusa revuelta         | 1                       | hecho                   |   NA                    | \n",
       "| pupusa queso con loroco | 3                       | hecho                   |   NA                    | \n",
       "| pupusa frijol con queso | 3                       | hecho                   |   NA                    | \n",
       "| suprema                 | 2                       | hecho                   | 2.75                    | \n",
       "| horchata                | 1                       | hecho                   | 1.50                    | \n",
       "\n",
       "\n"
      ],
      "text/plain": [
       "  concepto                cantidad estado precio\n",
       "1 pupusa revuelta         1        hecho    NA  \n",
       "2 pupusa queso con loroco 3        hecho    NA  \n",
       "3 pupusa frijol con queso 3        hecho    NA  \n",
       "4 suprema                 2        hecho  2.75  \n",
       "5 horchata                1        hecho  1.50  "
      ]
     },
     "metadata": {},
     "output_type": "display_data"
    }
   ],
   "source": [
    "orden_entregada %>%\n",
    "    left_join(x=.,y=lista_precios, by=c(\"concepto\" = \"producto\"))"
   ]
  },
  {
   "cell_type": "code",
   "execution_count": 6,
   "metadata": {},
   "outputs": [
    {
     "data": {
      "text/html": [
       "<table>\n",
       "<thead><tr><th scope=col>concepto</th><th scope=col>cantidad</th><th scope=col>estado</th></tr></thead>\n",
       "<tbody>\n",
       "\t<tr><td>pupusa  </td><td>1       </td><td>hecho   </td></tr>\n",
       "\t<tr><td>pupusa  </td><td>3       </td><td>hecho   </td></tr>\n",
       "\t<tr><td>pupusa  </td><td>3       </td><td>hecho   </td></tr>\n",
       "\t<tr><td>suprema </td><td>2       </td><td>hecho   </td></tr>\n",
       "\t<tr><td>horchata</td><td>1       </td><td>hecho   </td></tr>\n",
       "</tbody>\n",
       "</table>\n"
      ],
      "text/latex": [
       "\\begin{tabular}{r|lll}\n",
       " concepto & cantidad & estado\\\\\n",
       "\\hline\n",
       "\t pupusa   & 1        & hecho   \\\\\n",
       "\t pupusa   & 3        & hecho   \\\\\n",
       "\t pupusa   & 3        & hecho   \\\\\n",
       "\t suprema  & 2        & hecho   \\\\\n",
       "\t horchata & 1        & hecho   \\\\\n",
       "\\end{tabular}\n"
      ],
      "text/markdown": [
       "\n",
       "concepto | cantidad | estado | \n",
       "|---|---|---|---|---|\n",
       "| pupusa   | 1        | hecho    | \n",
       "| pupusa   | 3        | hecho    | \n",
       "| pupusa   | 3        | hecho    | \n",
       "| suprema  | 2        | hecho    | \n",
       "| horchata | 1        | hecho    | \n",
       "\n",
       "\n"
      ],
      "text/plain": [
       "  concepto cantidad estado\n",
       "1 pupusa   1        hecho \n",
       "2 pupusa   3        hecho \n",
       "3 pupusa   3        hecho \n",
       "4 suprema  2        hecho \n",
       "5 horchata 1        hecho "
      ]
     },
     "metadata": {},
     "output_type": "display_data"
    }
   ],
   "source": [
    "#Arreglamos orden\n",
    "orden_entregada<- \n",
    "    orden_entregada %>%\n",
    "    mutate(concepto = str_replace(concepto, \"pupusa.*\", \"pupusa\"))\n",
    "orden_entregada"
   ]
  },
  {
   "cell_type": "code",
   "execution_count": 7,
   "metadata": {},
   "outputs": [
    {
     "name": "stderr",
     "output_type": "stream",
     "text": [
      "Warning message:\n",
      "\"Column `concepto`/`producto` joining character vector and factor, coercing into character vector\""
     ]
    },
    {
     "data": {
      "text/html": [
       "<table>\n",
       "<thead><tr><th scope=col>concepto</th><th scope=col>cantidad</th><th scope=col>estado</th><th scope=col>precio</th></tr></thead>\n",
       "<tbody>\n",
       "\t<tr><td>pupusa  </td><td>1       </td><td>hecho   </td><td>1.00    </td></tr>\n",
       "\t<tr><td>pupusa  </td><td>3       </td><td>hecho   </td><td>1.00    </td></tr>\n",
       "\t<tr><td>pupusa  </td><td>3       </td><td>hecho   </td><td>1.00    </td></tr>\n",
       "\t<tr><td>suprema </td><td>2       </td><td>hecho   </td><td>2.75    </td></tr>\n",
       "\t<tr><td>horchata</td><td>1       </td><td>hecho   </td><td>1.50    </td></tr>\n",
       "</tbody>\n",
       "</table>\n"
      ],
      "text/latex": [
       "\\begin{tabular}{r|llll}\n",
       " concepto & cantidad & estado & precio\\\\\n",
       "\\hline\n",
       "\t pupusa   & 1        & hecho    & 1.00    \\\\\n",
       "\t pupusa   & 3        & hecho    & 1.00    \\\\\n",
       "\t pupusa   & 3        & hecho    & 1.00    \\\\\n",
       "\t suprema  & 2        & hecho    & 2.75    \\\\\n",
       "\t horchata & 1        & hecho    & 1.50    \\\\\n",
       "\\end{tabular}\n"
      ],
      "text/markdown": [
       "\n",
       "concepto | cantidad | estado | precio | \n",
       "|---|---|---|---|---|\n",
       "| pupusa   | 1        | hecho    | 1.00     | \n",
       "| pupusa   | 3        | hecho    | 1.00     | \n",
       "| pupusa   | 3        | hecho    | 1.00     | \n",
       "| suprema  | 2        | hecho    | 2.75     | \n",
       "| horchata | 1        | hecho    | 1.50     | \n",
       "\n",
       "\n"
      ],
      "text/plain": [
       "  concepto cantidad estado precio\n",
       "1 pupusa   1        hecho  1.00  \n",
       "2 pupusa   3        hecho  1.00  \n",
       "3 pupusa   3        hecho  1.00  \n",
       "4 suprema  2        hecho  2.75  \n",
       "5 horchata 1        hecho  1.50  "
      ]
     },
     "metadata": {},
     "output_type": "display_data"
    }
   ],
   "source": [
    "orden_entregada <-\n",
    "    orden_entregada %>%\n",
    "    left_join(x=.,y=lista_precios, by=c(\"concepto\" = \"producto\"))\n",
    "orden_entregada"
   ]
  },
  {
   "cell_type": "code",
   "execution_count": 8,
   "metadata": {},
   "outputs": [
    {
     "data": {
      "text/html": [
       "<table>\n",
       "<thead><tr><th scope=col>concepto</th><th scope=col>total_unitario</th></tr></thead>\n",
       "<tbody>\n",
       "\t<tr><td>horchata</td><td>1.5     </td></tr>\n",
       "\t<tr><td>pupusa  </td><td>7.0     </td></tr>\n",
       "\t<tr><td>suprema </td><td>5.5     </td></tr>\n",
       "</tbody>\n",
       "</table>\n"
      ],
      "text/latex": [
       "\\begin{tabular}{r|ll}\n",
       " concepto & total\\_unitario\\\\\n",
       "\\hline\n",
       "\t horchata & 1.5     \\\\\n",
       "\t pupusa   & 7.0     \\\\\n",
       "\t suprema  & 5.5     \\\\\n",
       "\\end{tabular}\n"
      ],
      "text/markdown": [
       "\n",
       "concepto | total_unitario | \n",
       "|---|---|---|\n",
       "| horchata | 1.5      | \n",
       "| pupusa   | 7.0      | \n",
       "| suprema  | 5.5      | \n",
       "\n",
       "\n"
      ],
      "text/plain": [
       "  concepto total_unitario\n",
       "1 horchata 1.5           \n",
       "2 pupusa   7.0           \n",
       "3 suprema  5.5           "
      ]
     },
     "metadata": {},
     "output_type": "display_data"
    }
   ],
   "source": [
    "orden_entregada %>%\n",
    "    mutate(total_unitario=cantidad*precio) %>%\n",
    "    select(concepto, cantidad, total_unitario) %>%\n",
    "    group_by(concepto) %>%\n",
    "    summarise(total_unitario=sum(total_unitario))"
   ]
  }
 ],
 "metadata": {
  "kernelspec": {
   "display_name": "R",
   "language": "R",
   "name": "ir"
  },
  "language_info": {
   "codemirror_mode": "r",
   "file_extension": ".r",
   "mimetype": "text/x-r-source",
   "name": "R",
   "pygments_lexer": "r",
   "version": "3.3.3"
  }
 },
 "nbformat": 4,
 "nbformat_minor": 2
}
