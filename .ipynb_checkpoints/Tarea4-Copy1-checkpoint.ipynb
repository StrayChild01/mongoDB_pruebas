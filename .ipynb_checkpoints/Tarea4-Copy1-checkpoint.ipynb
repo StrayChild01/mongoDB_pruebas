{
 "cells": [
  {
   "cell_type": "markdown",
   "metadata": {},
   "source": [
    "# Tarea 4\n",
    "\n",
    "A partir de las lecturas de la Unidad, resuelva los planteamientos del problema\n",
    "siguiente.\n",
    "\n",
    "Se aplicará un examen de colocación de matemáticas a todos los estudiantes de un nuevo curso de una universidad. Las calificaciones obtenidas de 20 estudiantes se muestran en la tabla siguiente:\n",
    "\n",
    "| Examen de colocación | Calificación en curso |\n",
    "|----------------------|-----------------------|\n",
    "| 50                   | 53                    |\n",
    "| 35                   | 41                    |\n",
    "| 35                   | 61                    |\n",
    "| 40                   | 56                    |\n",
    "| 55                   | 68                    |\n",
    "| 65                   | 36                    |\n",
    "| 35                   | 11                    |\n",
    "| 60                   | 70                    |\n",
    "| 90                   | 79                    |\n",
    "| 35                   | 50                    |\n",
    "| 90                   | 54                    |\n",
    "| 80                   | 91                    |\n",
    "| 60                   | 48                    |\n",
    "| 60                   | 71                    |\n",
    "| 60                   | 71                    |\n",
    "| 40                   | 47                    |\n",
    "| 55                   | 53                    |\n",
    "| 50                   | 68                    |\n",
    "| 65                   | 57                    |\n",
    "| 50                   | 79                    |"
   ]
  },
  {
   "cell_type": "markdown",
   "metadata": {},
   "source": [
    "1. Elabore un diagrama de dispersión."
   ]
  },
  {
   "cell_type": "code",
   "execution_count": 2,
   "metadata": {},
   "outputs": [
    {
     "name": "stderr",
     "output_type": "stream",
     "text": [
      "\n",
      "Attaching package: 'dplyr'\n",
      "\n",
      "The following objects are masked from 'package:stats':\n",
      "\n",
      "    filter, lag\n",
      "\n",
      "The following objects are masked from 'package:base':\n",
      "\n",
      "    intersect, setdiff, setequal, union\n",
      "\n"
     ]
    },
    {
     "data": {
      "image/png": "[encoded data removed]",
      "text/plain": [
       "plot without title"
      ]
     },
     "metadata": {},
     "output_type": "display_data"
    }
   ],
   "source": [
    "library(ggplot2)\n",
    "library(dplyr)\n",
    "\n",
    "examen_colocacion <- c(50, 35, 35, 40, 55, 65, 35, 60, 90, 35, 90, 80, 60, 60, 60, 40, 55, 50, 65, 50)\n",
    "calificacion_curso <- c(53, 41, 61, 56, 68, 36, 11, 70, 79, 50, 54, 91, 48, 71, 71, 47, 53, 68, 57, 79)\n",
    "\n",
    "estudiantes_universitarios <- data.frame(examen_colocacion, calificacion_curso)\n",
    "\n",
    "mi_grafico <- estudiantes_universitarios %>%\n",
    "  ggplot(aes(x=examen_colocacion, y=calificacion_curso)) +\n",
    "    ggtitle(\"Calificaciones estudiantes\") +\n",
    "    theme(plot.title = element_text(hjust = 0.5)) +\n",
    "    geom_point(stat=\"identity\")\n",
    "plot(mi_grafico)"
   ]
  },
  {
   "cell_type": "markdown",
   "metadata": {},
   "source": [
    "2. Encuentre la ecuación de la recta de regresión con la finalidad de\n",
    "predecir las calificaciones del curso a partir de las del examen de\n",
    "colocación."
   ]
  },
  {
   "cell_type": "markdown",
   "metadata": {},
   "source": [
    "```\n",
    "y = a + bx + e\n",
    "\n",
    "Donde\n",
    "\n",
    "    a: Es la calificación del examen de colocación.\n",
    "\n",
    "    b: Es la calificación del curso.\n",
    "\n",
    "    e: Es el error estándar.\n",
    "```"
   ]
  },
  {
   "cell_type": "markdown",
   "metadata": {},
   "source": [
    "3. Determine el coeficiente de correlación."
   ]
  },
  {
   "cell_type": "code",
   "execution_count": 19,
   "metadata": {},
   "outputs": [
    {
     "name": "stdout",
     "output_type": "stream",
     "text": [
      "[1] \"La sumatoria de examen colocacion= 1110\"\n",
      "[1] \"La sumatoria de calificacion curso= 1164\"\n",
      "[1] \"media examen colocacion: 55.5\"\n",
      "[1] \"media calificación curso: 58.2\"\n",
      "[1] \"La sumatoria de desv ec * desv cc = 2773\"\n",
      "[1] \"La sumatoria de desv ec ^2 = 5495\"\n",
      "[1] \"La sumatoria de desv cc ^2 = 5999.2\"\n"
     ]
    }
   ],
   "source": [
    "print(paste(\"La sumatoria de examen colocacion=\", sum(examen_colocacion)))\n",
    "print(paste(\"La sumatoria de calificacion curso=\", sum(calificacion_curso)))\n",
    "media_examen_colocacion <- mean(examen_colocacion)\n",
    "media_calificacion_curso <- mean(calificacion_curso)\n",
    "\n",
    "print(paste(\"media examen colocacion:\",media_examen_colocacion))\n",
    "print(paste(\"media calificación curso:\",media_calificacion_curso))\n",
    "\n",
    "estudiantes_universitarios$desv_examen_colocacion <- estudiantes_universitarios$examen_colocacion - media_examen_colocacion\n",
    "estudiantes_universitarios$desv_calificacion_curso <- estudiantes_universitarios$calificacion_curso - media_calificacion_curso\n",
    "estudiantes_universitarios$desv_ec_x_desv_cc <- estudiantes_universitarios$desv_examen_colocacion * estudiantes_universitarios$desv_calificacion_curso\n",
    "\n",
    "suma_desvec_desvcc <- sum(estudiantes_universitarios$desv_ec_x_desv_cc)\n",
    "print(paste(\"La sumatoria de desv ec * desv cc =\", suma_desvec_desvcc))\n",
    "\n",
    "suma_desvec_cuad <- sum( estudiantes_universitarios$desv_examen_colocacion ^2)\n",
    "print(paste(\"La sumatoria de desv ec ^2 =\", suma_desvec_cuad))\n",
    "suma_desvcc_cuad <- sum( estudiantes_universitarios$desv_calificacion_curso ^2)\n",
    "print(paste(\"La sumatoria de desv cc ^2 =\", suma_desvcc_cuad))"
   ]
  },
  {
   "cell_type": "markdown",
   "metadata": {},
   "source": [
    "De lo anterior, el dataframe estudiantes_universitarios contiene los siguientes valores:\n",
    "\n",
    "| n  | examen colocacion |  calificacion curso |  desv ec | desv cc | desv ec * desv cc |\n",
    "|----|-------------------|---------------------|----------|---------|-------------------|\n",
    "| 1  | 50                | 53                  | -5.5     | -5.2    | 28.6              |\n",
    "| 2  | 35                | 41                  | -20.5    | -17.2   | 352.6             |\n",
    "| 3  | 35                | 61                  | -20.5    | 2.8     | -57.4             |\n",
    "| 4  | 40                | 56                  | -15.5    | -2.2    | 34.1              |\n",
    "| 5  | 55                | 68                  | -0.5     | 9.8     | -4.9              |\n",
    "| 6  | 65                | 36                  | 9.5      | -22.2   | -210.9            |\n",
    "| 7  | 35                | 11                  | -20.5    | -47.2   | 967.6             |\n",
    "| 8  | 60                | 70                  | 4.5      | 11.8    | 53.1              |\n",
    "| 9  | 90                | 79                  | 34.5     | 20.8    | 717.6             |\n",
    "| 10 | 35                | 50                  | -20.5    | -8.2    | 168.1             |\n",
    "| 11 | 90                | 54                  | 34.5     | -4.2    | -144.9            |\n",
    "| 12 | 80                | 91                  | 24.5     | 32.8    | 803.6             |\n",
    "| 13 | 60                | 48                  | 4.5      | -10.2   | -45.9             |\n",
    "| 14 | 60                | 71                  | 4.5      | 12.8    | 57.6              |\n",
    "| 15 | 60                | 71                  | 4.5      | 12.8    | 57.6              |\n",
    "| 16 | 40                | 47                  | -15.5    | -11.2   | 173.6             |\n",
    "| 17 | 55                | 53                  | -0.5     | -5.2    | 2.6               |\n",
    "| 18 | 50                | 68                  | -5.5     | 9.8     | -53.9             |\n",
    "| 19 | 65                | 57                  | 9.5      | -1.2    | -11.4             |\n",
    "| 20 | 50                | 79                  | -5.5     | 20.8    | -114.4            |\n",
    "\n",
    "\n",
    "| n  | sum(examen colocacion) | sum(calificacion curso) | sum(desv ec^2) | sum(desv cc^2) | sum(desv ec * desv cc) |\n",
    "|----|------------------------|-------------------------|---------------|---------------|------------------------|\n",
    "| 20 | 1110                   | 1164                    | 5495          | 5999.2        | 2773                   |\n",
    "\n",
    "```\n",
    "Donde:\n",
    "    ec = examen colocación\n",
    "    cc = calificacion curso\n",
    "    desv ec = examen colocacion - media examen colocacion\n",
    "    desv cc = calificacion curso - media calificacion curso\n",
    "```\n",
    "\n",
    "Calculando la covarianza con la fórmula $$cov(ex\\ colocacion,\\ cal\\ curso)= \\frac{\\sum_{i=1}^n(desv\\ ec * desv\\ cc)}{n}$$\n",
    "Obtenemos $$cov(ex\\ colocacion,\\ cal\\ curso)=\\frac{2773}{10}=277.3$$\n",
    "\n",
    "Calculando la desviación estándar con la fórmula:\n",
    "\n",
    "$$D(x)=\\sqrt{\\frac{\\sum_{i=1}^n (x_{i} - \\bar{x})^2}{n}}$$\n",
    "\n",
    "Se obtiene:\n",
    "\n",
    "$$D(ec)=\\sqrt{\\frac{5495}{10}}\\ =\\ 549.5$$\n",
    "\n",
    "$$D(cc)=\\sqrt{\\frac{5999.20}{10}}\\ =\\ 599.92$$\n",
    "\n",
    "Usando la fórmula para el coeficiente de correlación:\n",
    "\n",
    "$$r_{x,y}=\\frac{cov(x,y)}{D(x)D(y)}$$\n",
    "\n",
    "Substituyendo:\n",
    "\n",
    "$$r_{x,y}=\\frac{cov(ex\\ colocacion,\\ cal\\ curso)}{D(ec)D(cc)}\\ =\\ \\frac{277.3}{549.5*599.92}$$\n",
    "\n",
    "$$r_{x,y}\\ = \\ 0.00168235958$$"
   ]
  },
  {
   "cell_type": "code",
   "execution_count": 21,
   "metadata": {},
   "outputs": [
    {
     "data": {
      "text/html": [
       "277.3"
      ],
      "text/latex": [
       "277.3"
      ],
      "text/markdown": [
       "277.3"
      ],
      "text/plain": [
       "[1] 277.3"
      ]
     },
     "metadata": {},
     "output_type": "display_data"
    }
   ],
   "source": [
    "2773/10"
   ]
  },
  {
   "cell_type": "code",
   "execution_count": 17,
   "metadata": {},
   "outputs": [
    {
     "data": {
      "text/html": [
       "<table>\n",
       "<thead><tr><th></th><th scope=col>examen_colocacion</th><th scope=col>calificacion_curso</th></tr></thead>\n",
       "<tbody>\n",
       "\t<tr><th scope=row>examen_colocacion</th><td>1.0000000</td><td>0.4829691</td></tr>\n",
       "\t<tr><th scope=row>calificacion_curso</th><td>0.4829691</td><td>1.0000000</td></tr>\n",
       "</tbody>\n",
       "</table>\n"
      ],
      "text/latex": [
       "\\begin{tabular}{r|ll}\n",
       "  & examen\\_colocacion & calificacion\\_curso\\\\\n",
       "\\hline\n",
       "\texamen\\_colocacion & 1.0000000 & 0.4829691\\\\\n",
       "\tcalificacion\\_curso & 0.4829691 & 1.0000000\\\\\n",
       "\\end{tabular}\n"
      ],
      "text/markdown": [
       "\n",
       "| <!--/--> | examen_colocacion | calificacion_curso | \n",
       "|---|---|\n",
       "| examen_colocacion | 1.0000000 | 0.4829691 | \n",
       "| calificacion_curso | 0.4829691 | 1.0000000 | \n",
       "\n",
       "\n"
      ],
      "text/plain": [
       "                   examen_colocacion calificacion_curso\n",
       "examen_colocacion  1.0000000         0.4829691         \n",
       "calificacion_curso 0.4829691         1.0000000         "
      ]
     },
     "metadata": {},
     "output_type": "display_data"
    }
   ],
   "source": [
    "cor(estudiantes_universitarios[,1:2])"
   ]
  },
  {
   "cell_type": "markdown",
   "metadata": {},
   "source": [
    "4. Interprete de manera breve el coeficiente de correlación."
   ]
  },
  {
   "cell_type": "markdown",
   "metadata": {},
   "source": [
    "5. Estime la calificación que obtendrá un alumno en el curso, si obtuvo 64 en el examen de colocación."
   ]
  },
  {
   "cell_type": "markdown",
   "metadata": {},
   "source": [
    "6. Si la calificación mínima aprobatoria para el curso es de 70, estime la calificación mínima que debe\n",
    "obtener un estudiante en el examen de colocación para que, según la ecuación de regresión, obtenga el 70."
   ]
  }
 ],
 "metadata": {
  "kernelspec": {
   "display_name": "R",
   "language": "R",
   "name": "ir"
  },
  "language_info": {
   "codemirror_mode": "r",
   "file_extension": ".r",
   "mimetype": "text/x-r-source",
   "name": "R",
   "pygments_lexer": "r",
   "version": "3.3.3"
  }
 },
 "nbformat": 4,
 "nbformat_minor": 2
}
