{
 "cells": [
  {
   "cell_type": "markdown",
   "metadata": {},
   "source": [
    "# Funcionalidades de Jupyter"
   ]
  },
  {
   "cell_type": "markdown",
   "metadata": {},
   "source": [
    "Este es un *notebook* para mostrar las funcionalidades que ofrece un notebook de Jupyter, porque además de tener kernels de diversos lenguajes, también tiene otras funcionalidades en su interface de usuario.\n",
    "\n",
    "Para empezar, las celdas de *markdown* soportan diferentes formatos que pueden ser consultados en este [cheat sheet](https://github.com/adam-p/markdown-here/wiki/Markdown-Cheatsheet). Además, las celdas *markdown* soportan ecuaciones con LaTex como el siguiente: $$e^x=\\sum_{i=0}^\\infty \\frac{1}{i!}x^i$$"
   ]
  },
  {
   "cell_type": "markdown",
   "metadata": {},
   "source": [
    "Las celdas markdown también soportan citar código al estilo github, por ejemplo:\n",
    "```python\n",
    "# Esta celda sólo es markdown, no es ejecutable\n",
    "print (\"Hello World\")\n",
    "```\n",
    "\n",
    "Para más información sobre lo que se puede hacer en *markdown*, se puede consultar la [documentación de Jupyter](https://jupyter-notebook.readthedocs.io/en/stable/examples/Notebook/Working%20With%20Markdown%20Cells.html)"
   ]
  },
  {
   "cell_type": "markdown",
   "metadata": {},
   "source": [
    "### Comandos mágicos\n",
    "\n",
    "Jupyter tiene diferentes funciones, llamadas *comandos mágico*. Estas funciones se clasifican de la siguiente manera:\n",
    "- Line Magics: Tienen el prefijo **\"%\"** y son básicamente funciones de sistema, las cuales reciben como argumento el resto de la línea, donde los parámetros son mandados sin paréntesis ni comillas, por ejemplo:\n",
    "\n",
    " ```Shell\n",
    " %ls -ltr\n",
    " ```\n",
    "\n",
    " Lo cual listaría el contenido del directorio actual y toma como parámetro **-ltr**\n",
    "\n",
    "\n",
    "- Cell Magics: Tienen el prefijo **\"%%\"** y son funciones que no sólo reciben el resto de la línea como parámetro, además de que también reciben como argumentos adicionales las líneas que le siguen. Ejemplo:\n",
    "\n",
    " ```Python\n",
    " %%writefiles miarchivo.py\n",
    " print(\"Esta es una prueba\")\n",
    " print(\"Esta también\")\n",
    " ```\n",
    "\n",
    " En el cual, se escribiría un archivo llamado **miarchivo.py** cuyo contenido serían las dos siguientes líneas de código.\n",
    "\n",
    "A continuación se muestran algunos de los comandos mágicos. Para más información, se puede consultar la [documentación de Jupyter](https://ipython.readthedocs.io/en/stable/interactive/magics.html)."
   ]
  },
  {
   "cell_type": "markdown",
   "metadata": {},
   "source": [
    "**Listar comandos mágicos**\n",
    "\n",
    "Usando el comando \"%lsmagic\", se listan los comandos mágicos de Jupyter."
   ]
  },
  {
   "cell_type": "code",
   "execution_count": 1,
   "metadata": {},
   "outputs": [
    {
     "data": {
      "application/json": {
       "cell": {
        "!": "OSMagics",
        "HTML": "Other",
        "SVG": "Other",
        "bash": "Other",
        "capture": "ExecutionMagics",
        "debug": "ExecutionMagics",
        "file": "Other",
        "html": "DisplayMagics",
        "javascript": "DisplayMagics",
        "js": "DisplayMagics",
        "latex": "DisplayMagics",
        "markdown": "DisplayMagics",
        "perl": "Other",
        "prun": "ExecutionMagics",
        "pypy": "Other",
        "python": "Other",
        "python2": "Other",
        "python3": "Other",
        "ruby": "Other",
        "script": "ScriptMagics",
        "sh": "Other",
        "svg": "DisplayMagics",
        "sx": "OSMagics",
        "system": "OSMagics",
        "time": "ExecutionMagics",
        "timeit": "ExecutionMagics",
        "writefile": "OSMagics"
       },
       "line": {
        "alias": "OSMagics",
        "alias_magic": "BasicMagics",
        "autocall": "AutoMagics",
        "automagic": "AutoMagics",
        "autosave": "KernelMagics",
        "bookmark": "OSMagics",
        "cat": "Other",
        "cd": "OSMagics",
        "clear": "KernelMagics",
        "colors": "BasicMagics",
        "config": "ConfigMagics",
        "connect_info": "KernelMagics",
        "cp": "Other",
        "debug": "ExecutionMagics",
        "dhist": "OSMagics",
        "dirs": "OSMagics",
        "doctest_mode": "BasicMagics",
        "ed": "Other",
        "edit": "KernelMagics",
        "env": "OSMagics",
        "gui": "BasicMagics",
        "hist": "Other",
        "history": "HistoryMagics",
        "killbgscripts": "ScriptMagics",
        "ldir": "Other",
        "less": "KernelMagics",
        "lf": "Other",
        "lk": "Other",
        "ll": "Other",
        "load": "CodeMagics",
        "load_ext": "ExtensionMagics",
        "loadpy": "CodeMagics",
        "logoff": "LoggingMagics",
        "logon": "LoggingMagics",
        "logstart": "LoggingMagics",
        "logstate": "LoggingMagics",
        "logstop": "LoggingMagics",
        "ls": "Other",
        "lsmagic": "BasicMagics",
        "lx": "Other",
        "macro": "ExecutionMagics",
        "magic": "BasicMagics",
        "man": "KernelMagics",
        "matplotlib": "PylabMagics",
        "mkdir": "Other",
        "more": "KernelMagics",
        "mv": "Other",
        "notebook": "BasicMagics",
        "page": "BasicMagics",
        "pastebin": "CodeMagics",
        "pdb": "ExecutionMagics",
        "pdef": "NamespaceMagics",
        "pdoc": "NamespaceMagics",
        "pfile": "NamespaceMagics",
        "pinfo": "NamespaceMagics",
        "pinfo2": "NamespaceMagics",
        "pip": "BasicMagics",
        "popd": "OSMagics",
        "pprint": "BasicMagics",
        "precision": "BasicMagics",
        "profile": "BasicMagics",
        "prun": "ExecutionMagics",
        "psearch": "NamespaceMagics",
        "psource": "NamespaceMagics",
        "pushd": "OSMagics",
        "pwd": "OSMagics",
        "pycat": "OSMagics",
        "pylab": "PylabMagics",
        "qtconsole": "KernelMagics",
        "quickref": "BasicMagics",
        "recall": "HistoryMagics",
        "rehashx": "OSMagics",
        "reload_ext": "ExtensionMagics",
        "rep": "Other",
        "rerun": "HistoryMagics",
        "reset": "NamespaceMagics",
        "reset_selective": "NamespaceMagics",
        "rm": "Other",
        "rmdir": "Other",
        "run": "ExecutionMagics",
        "save": "CodeMagics",
        "sc": "OSMagics",
        "set_env": "OSMagics",
        "store": "StoreMagics",
        "sx": "OSMagics",
        "system": "OSMagics",
        "tb": "ExecutionMagics",
        "time": "ExecutionMagics",
        "timeit": "ExecutionMagics",
        "unalias": "OSMagics",
        "unload_ext": "ExtensionMagics",
        "who": "NamespaceMagics",
        "who_ls": "NamespaceMagics",
        "whos": "NamespaceMagics",
        "xdel": "NamespaceMagics",
        "xmode": "BasicMagics"
       }
      },
      "text/plain": [
       "Available line magics:\n",
       "%alias  %alias_magic  %autocall  %automagic  %autosave  %bookmark  %cat  %cd  %clear  %colors  %config  %connect_info  %cp  %debug  %dhist  %dirs  %doctest_mode  %ed  %edit  %env  %gui  %hist  %history  %killbgscripts  %ldir  %less  %lf  %lk  %ll  %load  %load_ext  %loadpy  %logoff  %logon  %logstart  %logstate  %logstop  %ls  %lsmagic  %lx  %macro  %magic  %man  %matplotlib  %mkdir  %more  %mv  %notebook  %page  %pastebin  %pdb  %pdef  %pdoc  %pfile  %pinfo  %pinfo2  %popd  %pprint  %precision  %profile  %prun  %psearch  %psource  %pushd  %pwd  %pycat  %pylab  %qtconsole  %quickref  %recall  %rehashx  %reload_ext  %rep  %rerun  %reset  %reset_selective  %rm  %rmdir  %run  %save  %sc  %set_env  %store  %sx  %system  %tb  %time  %timeit  %unalias  %unload_ext  %who  %who_ls  %whos  %xdel  %xmode\n",
       "\n",
       "Available cell magics:\n",
       "%%!  %%HTML  %%SVG  %%bash  %%capture  %%debug  %%file  %%html  %%javascript  %%js  %%latex  %%markdown  %%perl  %%prun  %%pypy  %%python  %%python2  %%python3  %%ruby  %%script  %%sh  %%svg  %%sx  %%system  %%time  %%timeit  %%writefile\n",
       "\n",
       "Automagic is ON, % prefix IS NOT needed for line magics."
      ]
     },
     "execution_count": 1,
     "metadata": {},
     "output_type": "execute_result"
    }
   ],
   "source": [
    "%lsmagic"
   ]
  },
  {
   "cell_type": "code",
   "execution_count": null,
   "metadata": {},
   "outputs": [],
   "source": []
  },
  {
   "cell_type": "markdown",
   "metadata": {},
   "source": [
    "**Ejemplos de funciones mágicas *\"line magics\"***\n",
    "\n",
    "*Alias*\n",
    "\n",
    "Los alias son como los alias de \\*nix, por ejemplo"
   ]
  },
  {
   "cell_type": "code",
   "execution_count": 2,
   "metadata": {},
   "outputs": [],
   "source": [
    "%alias doblemenos echo \"Mi texto con otros caracteres es: --%l--\""
   ]
  },
  {
   "cell_type": "code",
   "execution_count": 3,
   "metadata": {},
   "outputs": [
    {
     "name": "stdout",
     "output_type": "stream",
     "text": [
      "Mi texto con otros caracteres es: --Este es un texto que no importa--\r\n"
     ]
    }
   ],
   "source": [
    "doblemenos Este es un texto que no importa"
   ]
  },
  {
   "cell_type": "code",
   "execution_count": 4,
   "metadata": {},
   "outputs": [],
   "source": [
    "%alias formateacadena echo \"Mi texto en palabra por palabra %s--%s--%s\""
   ]
  },
  {
   "cell_type": "code",
   "execution_count": 5,
   "metadata": {},
   "outputs": [
    {
     "name": "stdout",
     "output_type": "stream",
     "text": [
      "Mi texto en palabra por palabra Este--es--otro texto\r\n"
     ]
    }
   ],
   "source": [
    "formateacadena Este es otro texto"
   ]
  },
  {
   "cell_type": "markdown",
   "metadata": {},
   "source": [
    "*LS*"
   ]
  },
  {
   "cell_type": "code",
   "execution_count": 6,
   "metadata": {},
   "outputs": [
    {
     "name": "stdout",
     "output_type": "stream",
     "text": [
      "total 56\r\n",
      "-rw-r--r-- 1 pi pi   309 Aug 31 14:00 README.md\r\n",
      "drwxr-xr-x 2 pi pi  4096 Aug 31 14:05 \u001b[0m\u001b[01;34mimg\u001b[0m/\r\n",
      "drwxr-xr-x 2 pi pi  4096 Aug 31 14:08 \u001b[01;34msrvconfig\u001b[0m/\r\n",
      "drwxr-xr-x 2 pi pi  4096 Aug 31 14:16 \u001b[01;34mdb_scripts\u001b[0m/\r\n",
      "drwxr-xr-x 2 pi pi  4096 Aug 31 14:17 \u001b[01;34mcode\u001b[0m/\r\n",
      "drwxr-xr-x 2 pi pi  4096 Aug 31 14:19 \u001b[01;34mmd_files\u001b[0m/\r\n",
      "-rw-r--r-- 1 pi pi  4106 Oct  2 08:51 Reticulate.ipynb\r\n",
      "-rw-r--r-- 1 pi pi 15628 Oct  2 18:48 mynotebook.ipynb\r\n",
      "-rw-r--r-- 1 pi pi  7999 Oct  2 18:53 notebook_comandos_magicos.ipynb\r\n"
     ]
    }
   ],
   "source": [
    "%ls -ltr"
   ]
  },
  {
   "cell_type": "markdown",
   "metadata": {},
   "source": [
    "*load*\n",
    "\n",
    "Esta función permite leer un archivo e insertar su contenido en la celda, por ejemplo"
   ]
  },
  {
   "cell_type": "code",
   "execution_count": 7,
   "metadata": {},
   "outputs": [],
   "source": [
    "%load code/miarchivo.py"
   ]
  },
  {
   "cell_type": "markdown",
   "metadata": {},
   "source": [
    "**Ejemplos de funciones mágicas \"cell magics\"**\n",
    "\n",
    "*writefile*\n",
    "\n",
    "Sirve para guardar el contenido de una celda en un archivo, se usa %%writefile. El -a es para *append*"
   ]
  },
  {
   "cell_type": "code",
   "execution_count": 8,
   "metadata": {},
   "outputs": [
    {
     "name": "stdout",
     "output_type": "stream",
     "text": [
      "Appending to code/miarchivo.py\n"
     ]
    }
   ],
   "source": [
    "%%writefile -a code/miarchivo.py\n",
    "\n",
    "print(\"Esta es una prueba\")\n",
    "print(\"Esta es otra prueba\")\n",
    "print(\"Esta es la última prueba\")"
   ]
  },
  {
   "cell_type": "markdown",
   "metadata": {},
   "source": [
    "%%bash\n",
    "\n",
    "Sirve para ejecutar el contenido de la celda en bash en un subproceso\n",
    "\n",
    "```Shell\n",
    "# comando\n",
    "# otro comando\n",
    "```"
   ]
  },
  {
   "cell_type": "code",
   "execution_count": 9,
   "metadata": {},
   "outputs": [
    {
     "name": "stdout",
     "output_type": "stream",
     "text": [
      "Esta es una prueba de bash\n",
      "Tue Oct  2 18:54:47 CDT 2018\n"
     ]
    }
   ],
   "source": [
    "%%bash \n",
    "echo \"Esta es una prueba de bash\"\n",
    "date"
   ]
  },
  {
   "cell_type": "markdown",
   "metadata": {},
   "source": [
    "Si se necesita obtener la ayuda de un comando, se usa la siguiente sintaxis:\n",
    "\n",
    "%\\[%\\]comandomágico**?**\n",
    "\n",
    "Por ejemplo:"
   ]
  },
  {
   "cell_type": "code",
   "execution_count": 10,
   "metadata": {},
   "outputs": [],
   "source": [
    "%%writefile?"
   ]
  },
  {
   "cell_type": "markdown",
   "metadata": {},
   "source": [
    "Otro comando mágico que no se listó, pero también es bastante útil, es **%run**, que permite ejecutar el código que se especifique "
   ]
  },
  {
   "cell_type": "code",
   "execution_count": 11,
   "metadata": {},
   "outputs": [
    {
     "name": "stdout",
     "output_type": "stream",
     "text": [
      "Esta es una prueba\n",
      "Esta es otra prueba\n",
      "Esta es la última prueba\n",
      "Esta es una prueba\n",
      "Esta es otra prueba\n",
      "Esta es la última prueba\n",
      "Esta es una prueba\n",
      "Esta es otra prueba\n",
      "Esta es la última prueba\n",
      "Esta es una prueba\n",
      "Esta es otra prueba\n",
      "Esta es la última prueba\n"
     ]
    }
   ],
   "source": [
    "%run code/miarchivo.py"
   ]
  },
  {
   "cell_type": "markdown",
   "metadata": {},
   "source": [
    "### Ejecución de comandos de sistema\n",
    "\n",
    "Si bien Jupyter tiene sus propios comandos mágicos de sistema, no incluye todos los comandos de sistema. Para ejecutar un comando de sistema en la celda, se usa la siguiente sintaxis:\n",
    "\n",
    "*!comando*\n",
    "\n",
    "Por ejemplo, ping no existe como comando mágico"
   ]
  },
  {
   "cell_type": "code",
   "execution_count": 12,
   "metadata": {},
   "outputs": [],
   "source": [
    "#%ping"
   ]
  },
  {
   "cell_type": "markdown",
   "metadata": {},
   "source": [
    "pero sí existe como comando de sistema:"
   ]
  },
  {
   "cell_type": "code",
   "execution_count": 13,
   "metadata": {},
   "outputs": [
    {
     "name": "stdout",
     "output_type": "stream",
     "text": [
      "PING www.google.com (216.58.193.132) 56(84) bytes of data.\r\n",
      "64 bytes from dfw25s34-in-f4.1e100.net (216.58.193.132): icmp_seq=1 ttl=52 time=31.6 ms\r\n",
      "64 bytes from dfw25s34-in-f4.1e100.net (216.58.193.132): icmp_seq=2 ttl=52 time=30.9 ms\r\n",
      "64 bytes from dfw25s34-in-f4.1e100.net (216.58.193.132): icmp_seq=3 ttl=52 time=30.9 ms\r\n",
      "\r\n",
      "--- www.google.com ping statistics ---\r\n",
      "3 packets transmitted, 3 received, 0% packet loss, time 2002ms\r\n",
      "rtt min/avg/max/mdev = 30.918/31.183/31.654/0.390 ms\r\n"
     ]
    }
   ],
   "source": [
    "!ping -c 3 www.google.com"
   ]
  },
  {
   "cell_type": "code",
   "execution_count": 14,
   "metadata": {},
   "outputs": [
    {
     "data": {
      "text/plain": [
       "'pi'"
      ]
     },
     "execution_count": 14,
     "metadata": {},
     "output_type": "execute_result"
    }
   ],
   "source": [
    "%env USER"
   ]
  },
  {
   "cell_type": "markdown",
   "metadata": {},
   "source": [
    "Los notebooks también pueden ejecutar las celdas sin necesidad de la interacción del usuario con el siguiente comando:\n",
    "\n",
    "    jupyter nbconvert --to notebook --execute mynotebook.ipynb --output mynotebook.ipynb"
   ]
  },
  {
   "cell_type": "code",
   "execution_count": 1,
   "metadata": {},
   "outputs": [
    {
     "data": {
      "text/html": [
       "<style>\n",
       "table {float:left}\n",
       "</style>"
      ],
      "text/plain": [
       "<IPython.core.display.HTML object>"
      ]
     },
     "metadata": {},
     "output_type": "display_data"
    }
   ],
   "source": [
    "%%HTML\n",
    "<style>\n",
    "table {float:left}\n",
    "</style>"
   ]
  },
  {
   "cell_type": "markdown",
   "metadata": {},
   "source": [
    "SUMMARY OUTPUT\n",
    "\n",
    "| Regression Statistics |             |\n",
    "|-----------------------|-------------|\n",
    "| Multiple R            | 0.976434476 |\n",
    "| R Square              | 0.953424286 |\n",
    "| Adjusted R Square     | 0.947602321 |\n",
    "| Standard Error        | 54.54377837 |\n",
    "| Observations          | 10          |"
   ]
  },
  {
   "cell_type": "code",
   "execution_count": null,
   "metadata": {},
   "outputs": [],
   "source": []
  }
 ],
 "metadata": {
  "kernelspec": {
   "display_name": "Python 3",
   "language": "python",
   "name": "python3"
  },
  "language_info": {
   "codemirror_mode": {
    "name": "ipython",
    "version": 3
   },
   "file_extension": ".py",
   "mimetype": "text/x-python",
   "name": "python",
   "nbconvert_exporter": "python",
   "pygments_lexer": "ipython3",
   "version": "3.5.3"
  }
 },
 "nbformat": 4,
 "nbformat_minor": 2
}
